{
 "cells": [
  {
   "cell_type": "code",
   "execution_count": 1,
   "id": "fc2cce23-9cfa-4f0d-a4f9-d2e8e3571a72",
   "metadata": {},
   "outputs": [],
   "source": [
    "import gym\n",
    "import time\n",
    "from PIL import Image"
   ]
  },
  {
   "cell_type": "code",
   "execution_count": 13,
   "id": "eea37736-47fa-4d84-a305-3e7dad3a5b65",
   "metadata": {},
   "outputs": [
    {
     "name": "stdout",
     "output_type": "stream",
     "text": [
      "['CartPole-v0', 'CartPole-v1', 'MountainCar-v0', 'MountainCarContinuous-v0', 'Pendulum-v1', 'Acrobot-v1', 'LunarLander-v2', 'LunarLanderContinuous-v2', 'BipedalWalker-v3', 'BipedalWalkerHardcore-v3', 'CarRacing-v2', 'Blackjack-v1', 'FrozenLake-v1', 'FrozenLake8x8-v1', 'CliffWalking-v0', 'Taxi-v3', 'Reacher-v2', 'Reacher-v4', 'Pusher-v2', 'Pusher-v4', 'InvertedPendulum-v2', 'InvertedPendulum-v4', 'InvertedDoublePendulum-v2', 'InvertedDoublePendulum-v4', 'HalfCheetah-v2', 'HalfCheetah-v3', 'HalfCheetah-v4', 'Hopper-v2', 'Hopper-v3', 'Hopper-v4', 'Swimmer-v2', 'Swimmer-v3', 'Swimmer-v4', 'Walker2d-v2', 'Walker2d-v3', 'Walker2d-v4', 'Ant-v2', 'Ant-v3', 'Ant-v4', 'Humanoid-v2', 'Humanoid-v3', 'Humanoid-v4', 'HumanoidStandup-v2', 'HumanoidStandup-v4']\n"
     ]
    }
   ],
   "source": [
    "print(list(gym.envs.registry.keys()))"
   ]
  },
  {
   "cell_type": "code",
   "execution_count": 23,
   "id": "c4865ae2-4e7c-4210-955c-d3411b7eaea0",
   "metadata": {},
   "outputs": [
    {
     "name": "stdout",
     "output_type": "stream",
     "text": [
      "The observation space: Box([-1.2  -0.07], [0.6  0.07], (2,), float32)\n",
      "The action space: Discrete(3)\n"
     ]
    },
    {
     "data": {
      "image/jpeg": "[encoded data removed]",
      "image/png": "[encoded data removed]",
      "text/plain": [
       "<PIL.Image.Image image mode=RGB size=600x400>"
      ]
     },
     "execution_count": 23,
     "metadata": {},
     "output_type": "execute_result"
    }
   ],
   "source": [
    "env = gym.make('MountainCar-v0', render_mode=\"rgb_array\")\n",
    "\n",
    "# Observation and action space \n",
    "print(f\"The observation space: {env.observation_space}\") \n",
    "print(f\"The action space: {env.action_space}\") \n",
    "\n",
    "# Display\n",
    "obs = env.reset()\n",
    "img = Image.fromarray(env.render())\n",
    "img"
   ]
  },
  {
   "cell_type": "code",
   "execution_count": 15,
   "id": "65b0be74-2c8c-4ddf-87ef-0461c6a106c8",
   "metadata": {},
   "outputs": [],
   "source": [
    "# Reset environment to initial state\n",
    "env = gym.make('MountainCar-v0', render_mode=\"human\")\n",
    "obs = env.reset()\n",
    "\n",
    "for _ in range(1000):\n",
    "    # Select a random action\n",
    "    action = env.action_space.sample()\n",
    "\n",
    "    # Apply the action to the environment (updated step return value)\n",
    "    obs, reward, terminated, truncated, info = env.step(action)\n",
    "\n",
    "    # break when terminated or truncated \n",
    "    if terminated or truncated:\n",
    "        break\n",
    "\n",
    "    # Render the environment\n",
    "    env.render()\n",
    "    \n",
    "    # add delay\n",
    "    time.sleep(0.05)\n",
    "\n",
    "env.close()"
   ]
  },
  {
   "cell_type": "markdown",
   "id": "85ce1311-3468-4dfc-92a8-5c269a769784",
   "metadata": {},
   "source": [
    "# Training Agent"
   ]
  },
  {
   "cell_type": "code",
   "execution_count": 1,
   "id": "e3a09d2a-d032-4a3d-a87c-adea841547cb",
   "metadata": {},
   "outputs": [],
   "source": [
    "import gym\n",
    "import torch\n",
    "import torch.nn as nn\n",
    "import torch.optim as optim\n",
    "import numpy as np\n",
    "import random\n",
    "from collections import deque"
   ]
  },
  {
   "cell_type": "code",
   "execution_count": 2,
   "id": "f409797c-545c-44bb-8f93-808d98196c66",
   "metadata": {},
   "outputs": [],
   "source": [
    "# Define the deep Q-Network\n",
    "class QNetwork(nn.Module):\n",
    "    def __init__(self, state_size, action_size):\n",
    "        super(QNetwork, self).__init__()\n",
    "        self.fc1 = nn.Linear(state_size, 64)\n",
    "        self.fc2 = nn.Linear(64, 64)\n",
    "        self.fc3 = nn.Linear(64, action_size)\n",
    "\n",
    "    def forward(self, state):\n",
    "        x = torch.relu(self.fc1(state))\n",
    "        x = torch.relu(self.fc2(x))\n",
    "        return self.fc3(x)\n",
    "\n",
    "# DQN agent class\n",
    "class DQNAgent:\n",
    "    def __init__(self, state_size, action_size):\n",
    "        self.state_size = state_size\n",
    "        self.action_size = action_size\n",
    "        self.memory = deque(maxlen=2000)\n",
    "        self.gamma = 0.99  # Discount factor\n",
    "        self.epsilon = 1.0  # Exploration rate\n",
    "        self.epsilon_min = 0.01\n",
    "        self.epsilon_decay = 0.995\n",
    "        self.learning_rate = 0.001\n",
    "        self.batch_size = 64\n",
    "        self.model = QNetwork(state_size, action_size)\n",
    "        self.target_model = QNetwork(state_size, action_size)\n",
    "        self.update_target_model()\n",
    "        self.optimizer = optim.Adam(self.model.parameters(), lr=self.learning_rate)\n",
    "\n",
    "    def update_target_model(self):\n",
    "        self.target_model.load_state_dict(self.model.state_dict())\n",
    "\n",
    "    def act(self, state):\n",
    "        if np.random.rand() <= self.epsilon:\n",
    "            return random.choice(range(self.action_size))  # Explore\n",
    "        state = torch.tensor(state, dtype=torch.float32).unsqueeze(0)\n",
    "        with torch.no_grad():\n",
    "            return torch.argmax(self.model(state)).item()  # Exploit\n",
    "\n",
    "    def remember(self, state, action, reward, next_state, done):\n",
    "        self.memory.append((state, action, reward, next_state, done))\n",
    "\n",
    "    def replay(self):\n",
    "        if len(self.memory) < self.batch_size:\n",
    "            return\n",
    "        batch = random.sample(self.memory, self.batch_size)\n",
    "        for state, action, reward, next_state, done in batch:\n",
    "            state = torch.tensor(state, dtype=torch.float32).unsqueeze(0)\n",
    "            next_state = torch.tensor(next_state, dtype=torch.float32).unsqueeze(0)\n",
    "            target = reward\n",
    "            if not done:\n",
    "                target = reward + self.gamma * torch.max(self.target_model(next_state)).item()\n",
    "\n",
    "            target_f = self.model(state)\n",
    "            target_f[0][action] = target\n",
    "\n",
    "            self.optimizer.zero_grad()\n",
    "            loss = nn.MSELoss()(self.model(state), target_f)\n",
    "            loss.backward()\n",
    "            self.optimizer.step()\n",
    "\n",
    "        if self.epsilon > self.epsilon_min:\n",
    "            self.epsilon *= self.epsilon_decay"
   ]
  },
  {
   "cell_type": "code",
   "execution_count": 13,
   "id": "49968430-d3da-468a-bc08-9d112d88d3ca",
   "metadata": {},
   "outputs": [],
   "source": [
    "import time\n",
    "\n",
    "def train():\n",
    "    env = gym.make('MountainCar-v0')\n",
    "    state_size = env.observation_space.shape[0]\n",
    "    action_size = env.action_space.n\n",
    "\n",
    "    agent = DQNAgent(state_size, action_size)\n",
    "    episodes = 500\n",
    "    for e in range(episodes):\n",
    "        state, info = env.reset()\n",
    "        state = np.array(state)\n",
    "        done = False\n",
    "        total_reward = 0\n",
    "\n",
    "        while not done:\n",
    "            action = agent.act(state)\n",
    "            next_state, reward, terminated, truncated, info = env.step(action)\n",
    "            next_state = np.array(next_state)\n",
    "            done = terminated or truncated\n",
    "            agent.remember(state, action, reward, next_state, done)\n",
    "            agent.replay()\n",
    "            state = next_state\n",
    "            total_reward += reward\n",
    "\n",
    "            # Render the environment (optional)\n",
    "            # env.render()\n",
    "            # time.sleep(0.05)\n",
    "\n",
    "        agent.update_target_model()  # Update target model every episode\n",
    "        print(f\"Episode {e+1}/{episodes}, Total Reward: {total_reward}, Epsilon: {agent.epsilon}\")\n",
    "\n",
    "    env.close()"
   ]
  },
  {
   "cell_type": "code",
   "execution_count": null,
   "id": "b5bbb525-94b2-4995-8ba1-29cbbd554118",
   "metadata": {},
   "outputs": [],
   "source": [
    "train()"
   ]
  },
  {
   "cell_type": "code",
   "execution_count": 12,
   "id": "81c14eb7-a66e-4a8d-9d96-8d6efec810c4",
   "metadata": {},
   "outputs": [],
   "source": [
    "import pygame\n",
    "\n",
    "# After the loop or training ends\n",
    "pygame.quit()  # Explicitly quit pygame"
   ]
  },
  {
   "cell_type": "code",
   "execution_count": null,
   "id": "3e30d3e1-d7c7-4540-ab8f-8b43531c0a6f",
   "metadata": {},
   "outputs": [],
   "source": []
  }
 ],
 "metadata": {
  "kernelspec": {
   "display_name": "Python 3 (ipykernel)",
   "language": "python",
   "name": "python3"
  },
  "language_info": {
   "codemirror_mode": {
    "name": "ipython",
    "version": 3
   },
   "file_extension": ".py",
   "mimetype": "text/x-python",
   "name": "python",
   "nbconvert_exporter": "python",
   "pygments_lexer": "ipython3",
   "version": "3.11.7"
  }
 },
 "nbformat": 4,
 "nbformat_minor": 5
}
