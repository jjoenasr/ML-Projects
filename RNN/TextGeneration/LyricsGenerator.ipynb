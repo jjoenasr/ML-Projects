{
 "cells": [
  {
   "cell_type": "code",
   "execution_count": 2,
   "id": "31a57cc9-ab9f-46a3-a914-aa51059d46fb",
   "metadata": {
    "id": "31a57cc9-ab9f-46a3-a914-aa51059d46fb"
   },
   "outputs": [],
   "source": [
    "import os\n",
    "import numpy as np\n",
    "import tensorflow as tf\n",
    "from tensorflow.keras import layers, models\n",
    "from tensorflow.keras.preprocessing.text import Tokenizer\n",
    "from tensorflow.keras.preprocessing.sequence import pad_sequences\n",
    "from tensorflow.keras.utils import to_categorical\n",
    "from lyricsgenius import Genius\n",
    "import time\n",
    "import warnings\n",
    "warnings.filterwarnings('ignore')"
   ]
  },
  {
   "cell_type": "code",
   "execution_count": 3,
   "id": "9C3rl5nRqjiA",
   "metadata": {
    "colab": {
     "base_uri": "https://localhost:8080/"
    },
    "id": "9C3rl5nRqjiA",
    "outputId": "7f3b0955-b6e8-46e4-bc35-14f4cfa7449b"
   },
   "outputs": [
    {
     "name": "stdout",
     "output_type": "stream",
     "text": [
      "Num GPUs Available:  1\n",
      "Num TPUs Available:  0\n"
     ]
    }
   ],
   "source": [
    "# Check if TensorFlow is using the GPU/TPU\n",
    "print(\"Num GPUs Available: \", len(tf.config.experimental.list_physical_devices('GPU')))\n",
    "print(\"Num TPUs Available: \", len(tf.config.experimental.list_physical_devices('TPU')))"
   ]
  },
  {
   "cell_type": "markdown",
   "id": "4adb5ca4-5c94-41ff-bc42-ab14dedfc821",
   "metadata": {
    "id": "4adb5ca4-5c94-41ff-bc42-ab14dedfc821"
   },
   "source": [
    "# Lyrics Fetching"
   ]
  },
  {
   "cell_type": "code",
   "execution_count": null,
   "id": "08fd3920-ab15-48ed-afc9-6425200a2f2e",
   "metadata": {
    "id": "08fd3920-ab15-48ed-afc9-6425200a2f2e"
   },
   "outputs": [],
   "source": [
    "token = os.getenv('GENIUS_ACCESS_TOKEN')\n",
    "genius = Genius(token)\n",
    "genius.remove_section_headers = True"
   ]
  },
  {
   "cell_type": "code",
   "execution_count": null,
   "id": "7d8cd0aa-c818-41f1-a60f-675da73594cc",
   "metadata": {
    "id": "7d8cd0aa-c818-41f1-a60f-675da73594cc"
   },
   "outputs": [],
   "source": [
    "def fetch_lyrics_from_artists(artists, max_songs=10):\n",
    "    all_lyrics = []\n",
    "    for artist in artists:\n",
    "        try:\n",
    "            artist = genius.search_artist(artist, max_songs=max_songs, sort=\"popularity\")\n",
    "            for song in artist.songs:\n",
    "                lyrics = song.lyrics\n",
    "                cleaned_lyrics = lyrics.split('Lyrics\\n', 1)[1] # remove first section before Lyrics\n",
    "                all_lyrics.append(cleaned_lyrics)\n",
    "            # Wait to avoid hitting API rate limits\n",
    "            time.sleep(5)\n",
    "        except Exception as e:\n",
    "            print(f\"Error fetching lyrics for {artist}: {e}\")\n",
    "            pass\n",
    "    return all_lyrics"
   ]
  },
  {
   "cell_type": "code",
   "execution_count": null,
   "id": "73b26b59-98fb-4d10-a3e4-66e08736a195",
   "metadata": {
    "id": "73b26b59-98fb-4d10-a3e4-66e08736a195"
   },
   "outputs": [],
   "source": [
    "artists = ['My Chemical Romance', '5 Seconds of Summer', 'Paramore']\n",
    "\n",
    "lyrics_list = fetch_lyrics_from_artists(artists)"
   ]
  },
  {
   "cell_type": "markdown",
   "id": "d6870da7-b6a1-47c2-841a-52e3c143e41f",
   "metadata": {
    "id": "d6870da7-b6a1-47c2-841a-52e3c143e41f"
   },
   "source": [
    "# Preprocessing"
   ]
  },
  {
   "cell_type": "code",
   "execution_count": 7,
   "id": "25a51a96-0226-4062-b99b-e38093316796",
   "metadata": {
    "id": "25a51a96-0226-4062-b99b-e38093316796"
   },
   "outputs": [],
   "source": [
    "def preprocess_lyrics(lyrics_list, max_seq_len=300):\n",
    "    tokenizer = Tokenizer()\n",
    "    tokenizer.fit_on_texts(lyrics_list) # generate word_index vocab\n",
    "    vocab_size = len(tokenizer.word_index) + 1 # +1 because we want 0 indexing\n",
    "\n",
    "    input_seqs = []\n",
    "    labels = []\n",
    "    for lyrics in lyrics_list:\n",
    "        token_list = tokenizer.texts_to_sequences([lyrics])[0]\n",
    "        # generate features/target based on ngrams\n",
    "        for i in range(1, len(token_list)):\n",
    "            n_gram_seq = token_list[:i+1]\n",
    "            input_seqs.append(n_gram_seq[:-1])\n",
    "            labels.append(n_gram_seq[-1])\n",
    "    input_seqs = pad_sequences(input_seqs, maxlen=max_seq_len-1, padding=\"pre\")\n",
    "    labels = to_categorical(labels, num_classes = vocab_size)\n",
    "    return input_seqs, labels, vocab_size, tokenizer"
   ]
  },
  {
   "cell_type": "code",
   "execution_count": 8,
   "id": "dca9c3ef-c3dc-4280-b958-197aae9f9a59",
   "metadata": {
    "id": "dca9c3ef-c3dc-4280-b958-197aae9f9a59"
   },
   "outputs": [],
   "source": [
    "max_seq_len = 300\n",
    "X, y, vocab_size, tokenizer = preprocess_lyrics(lyrics_list, max_seq_len)"
   ]
  },
  {
   "cell_type": "code",
   "execution_count": 9,
   "id": "4912ba47-e14c-421c-b1d0-f836023c6385",
   "metadata": {
    "colab": {
     "base_uri": "https://localhost:8080/"
    },
    "id": "4912ba47-e14c-421c-b1d0-f836023c6385",
    "outputId": "8ed95014-3129-478d-ae8d-4b57e2195e22"
   },
   "outputs": [
    {
     "name": "stdout",
     "output_type": "stream",
     "text": [
      "(19340, 299) (19340, 1115)\n"
     ]
    }
   ],
   "source": [
    "print(X.shape, y.shape)"
   ]
  },
  {
   "cell_type": "code",
   "execution_count": 10,
   "id": "29b5552f-809e-4a8c-b716-b52a40908d1e",
   "metadata": {
    "colab": {
     "base_uri": "https://localhost:8080/"
    },
    "id": "29b5552f-809e-4a8c-b716-b52a40908d1e",
    "outputId": "db5db66b-4d9c-469c-c97a-bf62e3d50972"
   },
   "outputs": [
    {
     "data": {
      "text/plain": [
       "[('you', 1),\n",
       " ('i', 2),\n",
       " ('the', 3),\n",
       " ('and', 4),\n",
       " ('to', 5),\n",
       " ('me', 6),\n",
       " ('it', 7),\n",
       " ('your', 8),\n",
       " ('all', 9),\n",
       " ('my', 10)]"
      ]
     },
     "execution_count": 10,
     "metadata": {},
     "output_type": "execute_result"
    }
   ],
   "source": [
    "# top 10 common words in lyrics\n",
    "list(tokenizer.word_index.items())[:10]"
   ]
  },
  {
   "cell_type": "markdown",
   "id": "ae5fc078-6be3-41f7-a5c4-00f39cdfa9b0",
   "metadata": {
    "id": "ae5fc078-6be3-41f7-a5c4-00f39cdfa9b0"
   },
   "source": [
    "# RNN"
   ]
  },
  {
   "cell_type": "code",
   "execution_count": 11,
   "id": "e87f1eda-cbdd-4706-af52-68488dd2296f",
   "metadata": {
    "id": "e87f1eda-cbdd-4706-af52-68488dd2296f"
   },
   "outputs": [],
   "source": [
    "def build_model(vocab_size):\n",
    "    # Model architecture\n",
    "    model = models.Sequential([\n",
    "        layers.Embedding(vocab_size, 128),\n",
    "        layers.Bidirectional(layers.LSTM(128, return_sequences=True)),\n",
    "        layers.Dropout(0.2), # Regularization to prevent overfitting\n",
    "        layers.Bidirectional(layers.LSTM(128)),\n",
    "        layers.Dense(vocab_size, activation='softmax')\n",
    "    ])\n",
    "\n",
    "    # Compile the model\n",
    "    model.compile(optimizer='adam', loss='categorical_crossentropy', metrics=['accuracy'])\n",
    "\n",
    "    # Summarize the model architecture\n",
    "    model.summary()\n",
    "\n",
    "    return model"
   ]
  },
  {
   "cell_type": "code",
   "execution_count": 12,
   "id": "208c804b-1546-462d-b92f-5aef8ef90e6b",
   "metadata": {
    "colab": {
     "base_uri": "https://localhost:8080/",
     "height": 1000
    },
    "id": "208c804b-1546-462d-b92f-5aef8ef90e6b",
    "outputId": "72d9ba95-96a7-41dd-ff76-fa5db540711d"
   },
   "outputs": [
    {
     "data": {
      "text/html": [
       "<pre style=\"white-space:pre;overflow-x:auto;line-height:normal;font-family:Menlo,'DejaVu Sans Mono',consolas,'Courier New',monospace\"><span style=\"font-weight: bold\">Model: \"sequential\"</span>\n",
       "</pre>\n"
      ],
      "text/plain": [
       "\u001b[1mModel: \"sequential\"\u001b[0m\n"
      ]
     },
     "metadata": {},
     "output_type": "display_data"
    },
    {
     "data": {
      "text/html": [
       "<pre style=\"white-space:pre;overflow-x:auto;line-height:normal;font-family:Menlo,'DejaVu Sans Mono',consolas,'Courier New',monospace\">┏━━━━━━━━━━━━━━━━━━━━━━━━━━━━━━━━━━━━━━┳━━━━━━━━━━━━━━━━━━━━━━━━━━━━━┳━━━━━━━━━━━━━━━━━┓\n",
       "┃<span style=\"font-weight: bold\"> Layer (type)                         </span>┃<span style=\"font-weight: bold\"> Output Shape                </span>┃<span style=\"font-weight: bold\">         Param # </span>┃\n",
       "┡━━━━━━━━━━━━━━━━━━━━━━━━━━━━━━━━━━━━━━╇━━━━━━━━━━━━━━━━━━━━━━━━━━━━━╇━━━━━━━━━━━━━━━━━┩\n",
       "│ embedding (<span style=\"color: #0087ff; text-decoration-color: #0087ff\">Embedding</span>)                │ ?                           │     <span style=\"color: #00af00; text-decoration-color: #00af00\">0</span> (unbuilt) │\n",
       "├──────────────────────────────────────┼─────────────────────────────┼─────────────────┤\n",
       "│ bidirectional (<span style=\"color: #0087ff; text-decoration-color: #0087ff\">Bidirectional</span>)        │ ?                           │     <span style=\"color: #00af00; text-decoration-color: #00af00\">0</span> (unbuilt) │\n",
       "├──────────────────────────────────────┼─────────────────────────────┼─────────────────┤\n",
       "│ dropout (<span style=\"color: #0087ff; text-decoration-color: #0087ff\">Dropout</span>)                    │ ?                           │               <span style=\"color: #00af00; text-decoration-color: #00af00\">0</span> │\n",
       "├──────────────────────────────────────┼─────────────────────────────┼─────────────────┤\n",
       "│ bidirectional_1 (<span style=\"color: #0087ff; text-decoration-color: #0087ff\">Bidirectional</span>)      │ ?                           │     <span style=\"color: #00af00; text-decoration-color: #00af00\">0</span> (unbuilt) │\n",
       "├──────────────────────────────────────┼─────────────────────────────┼─────────────────┤\n",
       "│ dense (<span style=\"color: #0087ff; text-decoration-color: #0087ff\">Dense</span>)                        │ ?                           │     <span style=\"color: #00af00; text-decoration-color: #00af00\">0</span> (unbuilt) │\n",
       "└──────────────────────────────────────┴─────────────────────────────┴─────────────────┘\n",
       "</pre>\n"
      ],
      "text/plain": [
       "┏━━━━━━━━━━━━━━━━━━━━━━━━━━━━━━━━━━━━━━┳━━━━━━━━━━━━━━━━━━━━━━━━━━━━━┳━━━━━━━━━━━━━━━━━┓\n",
       "┃\u001b[1m \u001b[0m\u001b[1mLayer (type)                        \u001b[0m\u001b[1m \u001b[0m┃\u001b[1m \u001b[0m\u001b[1mOutput Shape               \u001b[0m\u001b[1m \u001b[0m┃\u001b[1m \u001b[0m\u001b[1m        Param #\u001b[0m\u001b[1m \u001b[0m┃\n",
       "┡━━━━━━━━━━━━━━━━━━━━━━━━━━━━━━━━━━━━━━╇━━━━━━━━━━━━━━━━━━━━━━━━━━━━━╇━━━━━━━━━━━━━━━━━┩\n",
       "│ embedding (\u001b[38;5;33mEmbedding\u001b[0m)                │ ?                           │     \u001b[38;5;34m0\u001b[0m (unbuilt) │\n",
       "├──────────────────────────────────────┼─────────────────────────────┼─────────────────┤\n",
       "│ bidirectional (\u001b[38;5;33mBidirectional\u001b[0m)        │ ?                           │     \u001b[38;5;34m0\u001b[0m (unbuilt) │\n",
       "├──────────────────────────────────────┼─────────────────────────────┼─────────────────┤\n",
       "│ dropout (\u001b[38;5;33mDropout\u001b[0m)                    │ ?                           │               \u001b[38;5;34m0\u001b[0m │\n",
       "├──────────────────────────────────────┼─────────────────────────────┼─────────────────┤\n",
       "│ bidirectional_1 (\u001b[38;5;33mBidirectional\u001b[0m)      │ ?                           │     \u001b[38;5;34m0\u001b[0m (unbuilt) │\n",
       "├──────────────────────────────────────┼─────────────────────────────┼─────────────────┤\n",
       "│ dense (\u001b[38;5;33mDense\u001b[0m)                        │ ?                           │     \u001b[38;5;34m0\u001b[0m (unbuilt) │\n",
       "└──────────────────────────────────────┴─────────────────────────────┴─────────────────┘\n"
      ]
     },
     "metadata": {},
     "output_type": "display_data"
    },
    {
     "data": {
      "text/html": [
       "<pre style=\"white-space:pre;overflow-x:auto;line-height:normal;font-family:Menlo,'DejaVu Sans Mono',consolas,'Courier New',monospace\"><span style=\"font-weight: bold\"> Total params: </span><span style=\"color: #00af00; text-decoration-color: #00af00\">0</span> (0.00 B)\n",
       "</pre>\n"
      ],
      "text/plain": [
       "\u001b[1m Total params: \u001b[0m\u001b[38;5;34m0\u001b[0m (0.00 B)\n"
      ]
     },
     "metadata": {},
     "output_type": "display_data"
    },
    {
     "data": {
      "text/html": [
       "<pre style=\"white-space:pre;overflow-x:auto;line-height:normal;font-family:Menlo,'DejaVu Sans Mono',consolas,'Courier New',monospace\"><span style=\"font-weight: bold\"> Trainable params: </span><span style=\"color: #00af00; text-decoration-color: #00af00\">0</span> (0.00 B)\n",
       "</pre>\n"
      ],
      "text/plain": [
       "\u001b[1m Trainable params: \u001b[0m\u001b[38;5;34m0\u001b[0m (0.00 B)\n"
      ]
     },
     "metadata": {},
     "output_type": "display_data"
    },
    {
     "data": {
      "text/html": [
       "<pre style=\"white-space:pre;overflow-x:auto;line-height:normal;font-family:Menlo,'DejaVu Sans Mono',consolas,'Courier New',monospace\"><span style=\"font-weight: bold\"> Non-trainable params: </span><span style=\"color: #00af00; text-decoration-color: #00af00\">0</span> (0.00 B)\n",
       "</pre>\n"
      ],
      "text/plain": [
       "\u001b[1m Non-trainable params: \u001b[0m\u001b[38;5;34m0\u001b[0m (0.00 B)\n"
      ]
     },
     "metadata": {},
     "output_type": "display_data"
    },
    {
     "name": "stdout",
     "output_type": "stream",
     "text": [
      "Epoch 1/30\n",
      "303/303 - 27s - 88ms/step - accuracy: 0.0537 - loss: 5.6854\n",
      "Epoch 2/30\n",
      "303/303 - 18s - 60ms/step - accuracy: 0.0711 - loss: 5.1845\n",
      "Epoch 3/30\n",
      "303/303 - 21s - 69ms/step - accuracy: 0.0973 - loss: 4.8302\n",
      "Epoch 4/30\n",
      "303/303 - 18s - 61ms/step - accuracy: 0.1265 - loss: 4.5433\n",
      "Epoch 5/30\n",
      "303/303 - 19s - 61ms/step - accuracy: 0.1608 - loss: 4.2561\n",
      "Epoch 6/30\n",
      "303/303 - 21s - 69ms/step - accuracy: 0.1973 - loss: 4.0270\n",
      "Epoch 7/30\n",
      "303/303 - 21s - 68ms/step - accuracy: 0.2339 - loss: 3.7831\n",
      "Epoch 8/30\n",
      "303/303 - 19s - 62ms/step - accuracy: 0.2802 - loss: 3.4907\n",
      "Epoch 9/30\n",
      "303/303 - 20s - 67ms/step - accuracy: 0.3009 - loss: 3.3354\n",
      "Epoch 10/30\n",
      "303/303 - 21s - 68ms/step - accuracy: 0.3571 - loss: 3.0573\n",
      "Epoch 11/30\n",
      "303/303 - 19s - 63ms/step - accuracy: 0.3871 - loss: 2.8671\n",
      "Epoch 12/30\n",
      "303/303 - 20s - 67ms/step - accuracy: 0.3979 - loss: 2.7814\n",
      "Epoch 13/30\n",
      "303/303 - 19s - 62ms/step - accuracy: 0.4340 - loss: 2.5940\n",
      "Epoch 14/30\n",
      "303/303 - 19s - 62ms/step - accuracy: 0.4622 - loss: 2.4594\n",
      "Epoch 15/30\n",
      "303/303 - 21s - 68ms/step - accuracy: 0.4978 - loss: 2.2730\n",
      "Epoch 16/30\n",
      "303/303 - 19s - 62ms/step - accuracy: 0.5369 - loss: 2.0940\n",
      "Epoch 17/30\n",
      "303/303 - 19s - 62ms/step - accuracy: 0.5708 - loss: 1.9360\n",
      "Epoch 18/30\n",
      "303/303 - 20s - 67ms/step - accuracy: 0.6009 - loss: 1.7931\n",
      "Epoch 19/30\n",
      "303/303 - 21s - 69ms/step - accuracy: 0.6162 - loss: 1.7249\n",
      "Epoch 20/30\n",
      "303/303 - 19s - 63ms/step - accuracy: 0.6347 - loss: 1.6340\n",
      "Epoch 21/30\n",
      "303/303 - 20s - 67ms/step - accuracy: 0.6633 - loss: 1.5026\n",
      "Epoch 22/30\n",
      "303/303 - 20s - 68ms/step - accuracy: 0.6730 - loss: 1.4533\n",
      "Epoch 23/30\n",
      "303/303 - 20s - 68ms/step - accuracy: 0.7029 - loss: 1.3327\n",
      "Epoch 24/30\n",
      "303/303 - 20s - 67ms/step - accuracy: 0.7233 - loss: 1.2200\n",
      "Epoch 25/30\n",
      "303/303 - 20s - 68ms/step - accuracy: 0.7444 - loss: 1.1363\n",
      "Epoch 26/30\n",
      "303/303 - 19s - 62ms/step - accuracy: 0.7436 - loss: 1.1344\n",
      "Epoch 27/30\n",
      "303/303 - 20s - 67ms/step - accuracy: 0.7640 - loss: 1.0470\n",
      "Epoch 28/30\n",
      "303/303 - 20s - 68ms/step - accuracy: 0.7851 - loss: 0.9697\n",
      "Epoch 29/30\n",
      "303/303 - 20s - 68ms/step - accuracy: 0.7818 - loss: 0.9784\n",
      "Epoch 30/30\n",
      "303/303 - 20s - 67ms/step - accuracy: 0.7922 - loss: 0.9274\n"
     ]
    }
   ],
   "source": [
    "model = build_model(vocab_size)\n",
    "hist = model.fit(X, y, epochs=30, batch_size=64, verbose=2)"
   ]
  },
  {
   "cell_type": "code",
   "execution_count": 13,
   "id": "6fdb33a2-e0c3-411d-8ddb-259f49d17e5e",
   "metadata": {
    "id": "6fdb33a2-e0c3-411d-8ddb-259f49d17e5e"
   },
   "outputs": [],
   "source": [
    "def generate_text(seed_text, max_seq_len, model, tokenizer, next_words=70, newline_every=7):\n",
    "    word_count = len(seed_text.split())\n",
    "    for _ in range(next_words):\n",
    "        token_list = tokenizer.texts_to_sequences([seed_text])[0]\n",
    "        token_list = pad_sequences([token_list], maxlen=max_seq_len-1, padding=\"pre\")\n",
    "        predicted = model.predict(token_list, verbose=0)\n",
    "        output_word = tokenizer.index_word[np.argmax(predicted)]\n",
    "        sep = \"\\n\"  if word_count % newline_every == 0 else \" \"\n",
    "        seed_text += sep + output_word\n",
    "        word_count += 1\n",
    "    return seed_text"
   ]
  },
  {
   "cell_type": "code",
   "execution_count": 14,
   "id": "fb080250-ac1d-4307-961d-32ce7bf42705",
   "metadata": {
    "colab": {
     "base_uri": "https://localhost:8080/"
    },
    "id": "fb080250-ac1d-4307-961d-32ce7bf42705",
    "outputId": "25638b08-b54b-486a-b42c-ae74a2e5607b"
   },
   "outputs": [
    {
     "name": "stdout",
     "output_type": "stream",
     "text": [
      "In the middle of the scary night\n",
      "believers the river in the morning rays\n",
      "and as the hardest part of all\n",
      "our bark when you are the hardest\n",
      "part of this is leaving you now\n",
      "as a relic to be pure against\n",
      "was your clothes or strike a violent\n",
      "pose maybe they'll leave you alone but\n",
      "not me so long and goodnight so\n",
      "darken your clothes or strike a violent\n",
      "pose maybe they'll leave you alone but\n"
     ]
    }
   ],
   "source": [
    "seed_text = \"In the middle of the scary night\"\n",
    "generated_lyrics = generate_text(seed_text, max_seq_len, model, tokenizer)\n",
    "print(generated_lyrics)"
   ]
  },
  {
   "cell_type": "code",
   "execution_count": 15,
   "id": "bd0e86a9-7ae1-4203-92c7-7279e68eff7e",
   "metadata": {
    "id": "bd0e86a9-7ae1-4203-92c7-7279e68eff7e"
   },
   "outputs": [],
   "source": [
    "model_dir = \"../../models\"\n",
    "model.save(f\"{model_dir}/lyrics_gen_model.keras\")"
   ]
  }
 ],
 "metadata": {
  "accelerator": "GPU",
  "colab": {
   "gpuType": "T4",
   "provenance": []
  },
  "kernelspec": {
   "display_name": "Python 3 (ipykernel)",
   "language": "python",
   "name": "python3"
  },
  "language_info": {
   "codemirror_mode": {
    "name": "ipython",
    "version": 3
   },
   "file_extension": ".py",
   "mimetype": "text/x-python",
   "name": "python",
   "nbconvert_exporter": "python",
   "pygments_lexer": "ipython3",
   "version": "3.11.7"
  }
 },
 "nbformat": 4,
 "nbformat_minor": 5
}
