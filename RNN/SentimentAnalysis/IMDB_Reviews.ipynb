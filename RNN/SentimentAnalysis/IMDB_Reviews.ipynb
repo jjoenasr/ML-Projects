{
 "cells": [
  {
   "cell_type": "markdown",
   "id": "c3ff6203-d659-48ef-bbfa-118dde04b790",
   "metadata": {},
   "source": [
    "# Imports and Preprocessing"
   ]
  },
  {
   "cell_type": "code",
   "execution_count": 1,
   "id": "a713f7d9-5f92-48c4-b3ef-0660d0a76c3c",
   "metadata": {},
   "outputs": [],
   "source": [
    "import tensorflow as tf\n",
    "from tensorflow.keras.preprocessing.sequence import pad_sequences\n",
    "from tensorflow.keras import layers, models\n",
    "from tensorflow.keras.datasets import imdb\n",
    "import numpy as np\n",
    "import json"
   ]
  },
  {
   "cell_type": "code",
   "execution_count": 2,
   "id": "7248d9eb-f00a-47e4-81f1-4b0733fd8dfd",
   "metadata": {},
   "outputs": [],
   "source": [
    "# Load IMDb dataset\n",
    "max_words = 10000  # Number of most frequent words to consider\n",
    "(x_train, y_train), (x_test, y_test) = imdb.load_data(num_words=max_words)"
   ]
  },
  {
   "cell_type": "code",
   "execution_count": 3,
   "id": "74fdd71f-51a3-4f72-a258-f8c8194e6f50",
   "metadata": {},
   "outputs": [
    {
     "name": "stdout",
     "output_type": "stream",
     "text": [
      "Training data shape: (25000,), Testing data shape: (25000,)\n"
     ]
    }
   ],
   "source": [
    "print(f\"Training data shape: {x_train.shape}, Testing data shape: {x_test.shape}\")"
   ]
  },
  {
   "cell_type": "code",
   "execution_count": 4,
   "id": "225baff1-beae-4eef-aa41-89e8cbfaabdc",
   "metadata": {},
   "outputs": [
    {
     "name": "stdout",
     "output_type": "stream",
     "text": [
      "Padded Training data shape: (25000, 500), Padded Testing data shape: (25000, 500)\n"
     ]
    }
   ],
   "source": [
    "# Pad the sequences to make sure all inputs are of the same length\n",
    "max_sequence_length = 500 \n",
    "\n",
    "x_train = pad_sequences(x_train, maxlen=max_sequence_length)\n",
    "x_test = pad_sequences(x_test, maxlen=max_sequence_length)\n",
    "\n",
    "# Check the shape of the data after padding\n",
    "print(f\"Padded Training data shape: {x_train.shape}, Padded Testing data shape: {x_test.shape}\")"
   ]
  },
  {
   "cell_type": "markdown",
   "id": "83bd7091-fce3-4223-8716-1b8ff404974a",
   "metadata": {},
   "source": [
    "# Training and Evaluation"
   ]
  },
  {
   "cell_type": "markdown",
   "id": "34b0cb88-65e0-4cc9-b0cc-ff0ccca43a3c",
   "metadata": {},
   "source": [
    "## FNN model"
   ]
  },
  {
   "cell_type": "code",
   "execution_count": 5,
   "id": "5fa6d97c-4869-40a9-96db-b8e2d0ae9320",
   "metadata": {},
   "outputs": [
    {
     "data": {
      "text/html": [
       "<pre style=\"white-space:pre;overflow-x:auto;line-height:normal;font-family:Menlo,'DejaVu Sans Mono',consolas,'Courier New',monospace\"><span style=\"font-weight: bold\">Model: \"sequential\"</span>\n",
       "</pre>\n"
      ],
      "text/plain": [
       "\u001b[1mModel: \"sequential\"\u001b[0m\n"
      ]
     },
     "metadata": {},
     "output_type": "display_data"
    },
    {
     "data": {
      "text/html": [
       "<pre style=\"white-space:pre;overflow-x:auto;line-height:normal;font-family:Menlo,'DejaVu Sans Mono',consolas,'Courier New',monospace\">┏━━━━━━━━━━━━━━━━━━━━━━━━━━━━━━━━━━━━━━┳━━━━━━━━━━━━━━━━━━━━━━━━━━━━━┳━━━━━━━━━━━━━━━━━┓\n",
       "┃<span style=\"font-weight: bold\"> Layer (type)                         </span>┃<span style=\"font-weight: bold\"> Output Shape                </span>┃<span style=\"font-weight: bold\">         Param # </span>┃\n",
       "┡━━━━━━━━━━━━━━━━━━━━━━━━━━━━━━━━━━━━━━╇━━━━━━━━━━━━━━━━━━━━━━━━━━━━━╇━━━━━━━━━━━━━━━━━┩\n",
       "│ embedding (<span style=\"color: #0087ff; text-decoration-color: #0087ff\">Embedding</span>)                │ ?                           │     <span style=\"color: #00af00; text-decoration-color: #00af00\">0</span> (unbuilt) │\n",
       "├──────────────────────────────────────┼─────────────────────────────┼─────────────────┤\n",
       "│ global_average_pooling1d             │ ?                           │     <span style=\"color: #00af00; text-decoration-color: #00af00\">0</span> (unbuilt) │\n",
       "│ (<span style=\"color: #0087ff; text-decoration-color: #0087ff\">GlobalAveragePooling1D</span>)             │                             │                 │\n",
       "├──────────────────────────────────────┼─────────────────────────────┼─────────────────┤\n",
       "│ dense (<span style=\"color: #0087ff; text-decoration-color: #0087ff\">Dense</span>)                        │ ?                           │     <span style=\"color: #00af00; text-decoration-color: #00af00\">0</span> (unbuilt) │\n",
       "├──────────────────────────────────────┼─────────────────────────────┼─────────────────┤\n",
       "│ dropout (<span style=\"color: #0087ff; text-decoration-color: #0087ff\">Dropout</span>)                    │ ?                           │     <span style=\"color: #00af00; text-decoration-color: #00af00\">0</span> (unbuilt) │\n",
       "├──────────────────────────────────────┼─────────────────────────────┼─────────────────┤\n",
       "│ dense_1 (<span style=\"color: #0087ff; text-decoration-color: #0087ff\">Dense</span>)                      │ ?                           │     <span style=\"color: #00af00; text-decoration-color: #00af00\">0</span> (unbuilt) │\n",
       "└──────────────────────────────────────┴─────────────────────────────┴─────────────────┘\n",
       "</pre>\n"
      ],
      "text/plain": [
       "┏━━━━━━━━━━━━━━━━━━━━━━━━━━━━━━━━━━━━━━┳━━━━━━━━━━━━━━━━━━━━━━━━━━━━━┳━━━━━━━━━━━━━━━━━┓\n",
       "┃\u001b[1m \u001b[0m\u001b[1mLayer (type)                        \u001b[0m\u001b[1m \u001b[0m┃\u001b[1m \u001b[0m\u001b[1mOutput Shape               \u001b[0m\u001b[1m \u001b[0m┃\u001b[1m \u001b[0m\u001b[1m        Param #\u001b[0m\u001b[1m \u001b[0m┃\n",
       "┡━━━━━━━━━━━━━━━━━━━━━━━━━━━━━━━━━━━━━━╇━━━━━━━━━━━━━━━━━━━━━━━━━━━━━╇━━━━━━━━━━━━━━━━━┩\n",
       "│ embedding (\u001b[38;5;33mEmbedding\u001b[0m)                │ ?                           │     \u001b[38;5;34m0\u001b[0m (unbuilt) │\n",
       "├──────────────────────────────────────┼─────────────────────────────┼─────────────────┤\n",
       "│ global_average_pooling1d             │ ?                           │     \u001b[38;5;34m0\u001b[0m (unbuilt) │\n",
       "│ (\u001b[38;5;33mGlobalAveragePooling1D\u001b[0m)             │                             │                 │\n",
       "├──────────────────────────────────────┼─────────────────────────────┼─────────────────┤\n",
       "│ dense (\u001b[38;5;33mDense\u001b[0m)                        │ ?                           │     \u001b[38;5;34m0\u001b[0m (unbuilt) │\n",
       "├──────────────────────────────────────┼─────────────────────────────┼─────────────────┤\n",
       "│ dropout (\u001b[38;5;33mDropout\u001b[0m)                    │ ?                           │     \u001b[38;5;34m0\u001b[0m (unbuilt) │\n",
       "├──────────────────────────────────────┼─────────────────────────────┼─────────────────┤\n",
       "│ dense_1 (\u001b[38;5;33mDense\u001b[0m)                      │ ?                           │     \u001b[38;5;34m0\u001b[0m (unbuilt) │\n",
       "└──────────────────────────────────────┴─────────────────────────────┴─────────────────┘\n"
      ]
     },
     "metadata": {},
     "output_type": "display_data"
    },
    {
     "data": {
      "text/html": [
       "<pre style=\"white-space:pre;overflow-x:auto;line-height:normal;font-family:Menlo,'DejaVu Sans Mono',consolas,'Courier New',monospace\"><span style=\"font-weight: bold\"> Total params: </span><span style=\"color: #00af00; text-decoration-color: #00af00\">0</span> (0.00 B)\n",
       "</pre>\n"
      ],
      "text/plain": [
       "\u001b[1m Total params: \u001b[0m\u001b[38;5;34m0\u001b[0m (0.00 B)\n"
      ]
     },
     "metadata": {},
     "output_type": "display_data"
    },
    {
     "data": {
      "text/html": [
       "<pre style=\"white-space:pre;overflow-x:auto;line-height:normal;font-family:Menlo,'DejaVu Sans Mono',consolas,'Courier New',monospace\"><span style=\"font-weight: bold\"> Trainable params: </span><span style=\"color: #00af00; text-decoration-color: #00af00\">0</span> (0.00 B)\n",
       "</pre>\n"
      ],
      "text/plain": [
       "\u001b[1m Trainable params: \u001b[0m\u001b[38;5;34m0\u001b[0m (0.00 B)\n"
      ]
     },
     "metadata": {},
     "output_type": "display_data"
    },
    {
     "data": {
      "text/html": [
       "<pre style=\"white-space:pre;overflow-x:auto;line-height:normal;font-family:Menlo,'DejaVu Sans Mono',consolas,'Courier New',monospace\"><span style=\"font-weight: bold\"> Non-trainable params: </span><span style=\"color: #00af00; text-decoration-color: #00af00\">0</span> (0.00 B)\n",
       "</pre>\n"
      ],
      "text/plain": [
       "\u001b[1m Non-trainable params: \u001b[0m\u001b[38;5;34m0\u001b[0m (0.00 B)\n"
      ]
     },
     "metadata": {},
     "output_type": "display_data"
    }
   ],
   "source": [
    "# Model architecture\n",
    "model = models.Sequential([\n",
    "    layers.Embedding(input_dim=max_words, output_dim=128),\n",
    "    layers.GlobalAveragePooling1D(),\n",
    "    layers.Dense(64, activation='relu'),\n",
    "    layers.Dropout(0.5),\n",
    "    layers.Dense(1, activation='sigmoid')  # Sigmoid for binary classification (positive/negative)\n",
    "])\n",
    "\n",
    "# Compile the model\n",
    "model.compile(optimizer='adam', loss='binary_crossentropy', metrics=['accuracy'])\n",
    "\n",
    "# Summarize the model architecture\n",
    "model.summary()"
   ]
  },
  {
   "cell_type": "code",
   "execution_count": 6,
   "id": "c345314a-c1b6-47b6-b40c-66a155eaf5db",
   "metadata": {},
   "outputs": [
    {
     "name": "stdout",
     "output_type": "stream",
     "text": [
      "Epoch 1/5\n",
      "\u001b[1m625/625\u001b[0m \u001b[32m━━━━━━━━━━━━━━━━━━━━\u001b[0m\u001b[37m\u001b[0m \u001b[1m13s\u001b[0m 17ms/step - accuracy: 0.5328 - loss: 0.6793 - val_accuracy: 0.7984 - val_loss: 0.4623\n",
      "Epoch 2/5\n",
      "\u001b[1m625/625\u001b[0m \u001b[32m━━━━━━━━━━━━━━━━━━━━\u001b[0m\u001b[37m\u001b[0m \u001b[1m21s\u001b[0m 17ms/step - accuracy: 0.7995 - loss: 0.4404 - val_accuracy: 0.8254 - val_loss: 0.3820\n",
      "Epoch 3/5\n",
      "\u001b[1m625/625\u001b[0m \u001b[32m━━━━━━━━━━━━━━━━━━━━\u001b[0m\u001b[37m\u001b[0m \u001b[1m10s\u001b[0m 16ms/step - accuracy: 0.8650 - loss: 0.3211 - val_accuracy: 0.8212 - val_loss: 0.3747\n",
      "Epoch 4/5\n",
      "\u001b[1m625/625\u001b[0m \u001b[32m━━━━━━━━━━━━━━━━━━━━\u001b[0m\u001b[37m\u001b[0m \u001b[1m10s\u001b[0m 16ms/step - accuracy: 0.8709 - loss: 0.3013 - val_accuracy: 0.8800 - val_loss: 0.3026\n",
      "Epoch 5/5\n",
      "\u001b[1m625/625\u001b[0m \u001b[32m━━━━━━━━━━━━━━━━━━━━\u001b[0m\u001b[37m\u001b[0m \u001b[1m11s\u001b[0m 17ms/step - accuracy: 0.9010 - loss: 0.2519 - val_accuracy: 0.8780 - val_loss: 0.3010\n"
     ]
    }
   ],
   "source": [
    "# Train the model\n",
    "history = model.fit(x_train, y_train, epochs=5, batch_size=32, validation_split=0.2, verbose=1)"
   ]
  },
  {
   "cell_type": "code",
   "execution_count": 7,
   "id": "4fefe8e6-a22c-46e1-bb99-61102962bffd",
   "metadata": {},
   "outputs": [
    {
     "name": "stdout",
     "output_type": "stream",
     "text": [
      "782/782 - 2s - 3ms/step - accuracy: 0.8683 - loss: 0.3119\n",
      "Test Accuracy: 0.8683\n"
     ]
    }
   ],
   "source": [
    "test_loss, test_acc = model.evaluate(x_test, y_test, verbose=2)\n",
    "print(f\"Test Accuracy: {test_acc:.4f}\")"
   ]
  },
  {
   "cell_type": "code",
   "execution_count": 94,
   "id": "460dd125-d135-4783-9488-83fd45bb98d8",
   "metadata": {},
   "outputs": [],
   "source": [
    "# load imdb vocab for the tokens\n",
    "word_index = imdb.get_word_index()\n",
    "word_index = {k:v for k,v in word_index.items() if v<max_words}"
   ]
  },
  {
   "cell_type": "code",
   "execution_count": 83,
   "id": "5347c8db-abc3-4107-b91c-03b5070e8092",
   "metadata": {},
   "outputs": [],
   "source": [
    "# save tokenization mapping\n",
    "with open('word_index.json', 'w') as f:\n",
    "    json.dump(word_index, f, indent=4)"
   ]
  },
  {
   "cell_type": "code",
   "execution_count": 95,
   "id": "6595ec7c-d2f9-46b2-a8b6-62af4c10008b",
   "metadata": {},
   "outputs": [
    {
     "name": "stdout",
     "output_type": "stream",
     "text": [
      "Exemple of negative review: 'the as you world's is quite br mankind most that quest are chase to being quickly of little it time hell to plot br of something long put are of every place this consequence and of interplay storytelling being nasty not of you warren in is failed club i i of films pay so sequences and film okay uses to received and if time done for room sugar viewer as cartoon of gives to forgettable br be because many these of reflection sugar contained gives it wreck scene to more was two when had find as you another it of themselves probably who interplay storytelling if itself by br about 1950's films not would effects that her box to miike for if hero close seek end is very together movie of wheel got say kong sugar fred close bore there is playing lot of and pan place trilogy of lacks br of their time much this men as on it is telling program br silliness okay and to frustration at corner and she of sequences to political clearly in of drugs keep guy i i was throwing room sugar as it by br be plot many for occasionally film verge boyfriend difficult kid as you it failed not if gerard to if woman in and is police fi spooky or of self what have pretty in can so suit you good 2 which why super as it main of my i i  if time screenplay in same this remember assured have action one in realistic that better of lessons'\n",
      "Real Sentiment: Negative\n",
      "\u001b[1m1/1\u001b[0m \u001b[32m━━━━━━━━━━━━━━━━━━━━\u001b[0m\u001b[37m\u001b[0m \u001b[1m0s\u001b[0m 22ms/step\n",
      "Prediction: Positive\n"
     ]
    }
   ],
   "source": [
    "index_to_word = {v:k for k,v in word_index.items()}\n",
    "\n",
    "def decode(enc):\n",
    "    return ' '.join([index_to_word.get(i, '?') for i in enc if i!=0])\n",
    "\n",
    "tests = x_test[0]\n",
    "print(f\"Exemple of negative review: '{decode(test)}'\")\n",
    "print(f\"Real Sentiment: {'Positive' if y_test[0] > 0.5 else 'Negative'}\")\n",
    "pred = model.predict(test.reshape(1,-1))\n",
    "print(f\"Prediction: {'Positive' if pred > 0.5 else 'Negative'}\")"
   ]
  },
  {
   "cell_type": "code",
   "execution_count": 96,
   "id": "57f0f8be-1fec-483a-ae9e-8c1edf5c5350",
   "metadata": {},
   "outputs": [
    {
     "name": "stdout",
     "output_type": "stream",
     "text": [
      "Exemple of postive review: 'the as you world's is quite br mankind most that quest are chase to being quickly of little it time hell to plot br of something long put are of every place this consequence and of interplay storytelling being nasty not of you warren in is failed club i i of films pay so sequences and film okay uses to received and if time done for room sugar viewer as cartoon of gives to forgettable br be because many these of reflection sugar contained gives it wreck scene to more was two when had find as you another it of themselves probably who interplay storytelling if itself by br about 1950's films not would effects that her box to miike for if hero close seek end is very together movie of wheel got say kong sugar fred close bore there is playing lot of and pan place trilogy of lacks br of their time much this men as on it is telling program br silliness okay and to frustration at corner and she of sequences to political clearly in of drugs keep guy i i was throwing room sugar as it by br be plot many for occasionally film verge boyfriend difficult kid as you it failed not if gerard to if woman in and is police fi spooky or of self what have pretty in can so suit you good 2 which why super as it main of my i i  if time screenplay in same this remember assured have action one in realistic that better of lessons'\n",
      "Real Sentiment: Positive\n",
      "\u001b[1m1/1\u001b[0m \u001b[32m━━━━━━━━━━━━━━━━━━━━\u001b[0m\u001b[37m\u001b[0m \u001b[1m0s\u001b[0m 40ms/step\n",
      "Prediction: Positive\n"
     ]
    }
   ],
   "source": [
    "test = x_test[1]\n",
    "print(f\"Exemple of postive review: '{decode(test)}'\")\n",
    "print(f\"Real Sentiment: {'Positive' if y_test[1] > 0.5 else 'Negative'}\")\n",
    "pred = model.predict(test.reshape(1,-1))\n",
    "print(f\"Prediction: {'Positive' if pred > 0.5 else 'Negative'}\")"
   ]
  },
  {
   "cell_type": "code",
   "execution_count": 49,
   "id": "89491f14-bfa0-4626-afb4-95f71041a91c",
   "metadata": {},
   "outputs": [],
   "source": [
    "import spacy\n",
    "# !python -m spacy download en_core_web_sm\n",
    "nlp = spacy.load('en_core_web_sm')"
   ]
  },
  {
   "cell_type": "code",
   "execution_count": 110,
   "id": "3ed60b1f-70e6-42d1-a7eb-a0c67a46b231",
   "metadata": {},
   "outputs": [],
   "source": [
    "def text_to_vect(text):\n",
    "    # Or: tokens = text.lower().split()\n",
    "    tokens = nlp(text.lower(), disable=[\"ner\", \"parser\", \"senter\"])\n",
    "    tokens = [t.text for t in tokens if not t.is_punct]\n",
    "    seq = [word_index[word] for word in tokens if word in word_index]\n",
    "    return np.array(seq)"
   ]
  },
  {
   "cell_type": "code",
   "execution_count": 113,
   "id": "daa95e2f-9470-470c-8205-1d6f55f59346",
   "metadata": {},
   "outputs": [
    {
     "name": "stdout",
     "output_type": "stream",
     "text": [
      "\u001b[1m1/1\u001b[0m \u001b[32m━━━━━━━━━━━━━━━━━━━━\u001b[0m\u001b[37m\u001b[0m \u001b[1m0s\u001b[0m 27ms/step\n",
      "Review: This movie was fantastic! Masterpiece!!!! Best thing ever.\n",
      "Prediction: Negative ([0.31264302])\n",
      "\n",
      "Review: this was a fucking disaster. shame on anyone who worked on this\n",
      "Prediction: Negative ([0.30045286])\n",
      "\n",
      "Review: AMAZING\n",
      "Prediction: Negative ([0.29550177])\n",
      "\n"
     ]
    }
   ],
   "source": [
    "reviews = [\"This movie was fantastic! Masterpiece!!!! Best thing ever.\",\n",
    "           \"this was a fucking disaster. shame on anyone who worked on this\",\n",
    "           \"AMAZING\"\n",
    "          ]\n",
    "seq = [text_to_vect(r) for r in reviews]\n",
    "seq = pad_sequences(seq, maxlen=max_sequence_length)\n",
    "\n",
    "predictions = model.predict(seq)\n",
    "for rev, pred in zip(reviews, predictions):\n",
    "    print(f\"Review: {rev}\\nPrediction: {'Positive' if pred > 0.5 else 'Negative'} ({pred})\\n\")"
   ]
  },
  {
   "cell_type": "markdown",
   "id": "d2a901b0-9fb9-4eb8-b231-5a9c33cf62a3",
   "metadata": {},
   "source": [
    "## RNN model"
   ]
  },
  {
   "cell_type": "code",
   "execution_count": 67,
   "id": "6d6aaba5-064c-4e59-8a3b-3a677d8909e6",
   "metadata": {},
   "outputs": [
    {
     "name": "stdout",
     "output_type": "stream",
     "text": [
      "Epoch 1/5\n",
      "\u001b[1m625/625\u001b[0m \u001b[32m━━━━━━━━━━━━━━━━━━━━\u001b[0m\u001b[37m\u001b[0m \u001b[1m235s\u001b[0m 365ms/step - accuracy: 0.6687 - loss: 0.5680 - val_accuracy: 0.8550 - val_loss: 0.3300\n",
      "Epoch 2/5\n",
      "\u001b[1m625/625\u001b[0m \u001b[32m━━━━━━━━━━━━━━━━━━━━\u001b[0m\u001b[37m\u001b[0m \u001b[1m224s\u001b[0m 358ms/step - accuracy: 0.8900 - loss: 0.2871 - val_accuracy: 0.8676 - val_loss: 0.3380\n",
      "Epoch 3/5\n",
      "\u001b[1m625/625\u001b[0m \u001b[32m━━━━━━━━━━━━━━━━━━━━\u001b[0m\u001b[37m\u001b[0m \u001b[1m244s\u001b[0m 329ms/step - accuracy: 0.8827 - loss: 0.2879 - val_accuracy: 0.8636 - val_loss: 0.3495\n",
      "Epoch 4/5\n",
      "\u001b[1m625/625\u001b[0m \u001b[32m━━━━━━━━━━━━━━━━━━━━\u001b[0m\u001b[37m\u001b[0m \u001b[1m203s\u001b[0m 324ms/step - accuracy: 0.9497 - loss: 0.1470 - val_accuracy: 0.8576 - val_loss: 0.4152\n",
      "Epoch 5/5\n",
      "\u001b[1m625/625\u001b[0m \u001b[32m━━━━━━━━━━━━━━━━━━━━\u001b[0m\u001b[37m\u001b[0m \u001b[1m205s\u001b[0m 328ms/step - accuracy: 0.9656 - loss: 0.1055 - val_accuracy: 0.8616 - val_loss: 0.3961\n",
      "782/782 - 93s - 119ms/step - accuracy: 0.8619 - loss: 0.4021\n",
      "Test Accuracy: 0.8619\n"
     ]
    }
   ],
   "source": [
    "model2 = models.Sequential([\n",
    "    layers.Embedding(input_dim=max_words, output_dim=128),\n",
    "    layers.Bidirectional(layers.LSTM(64, return_sequences=False)),\n",
    "    layers.Dropout(0.5),\n",
    "    layers.Dense(64, activation='relu'),\n",
    "    layers.Dropout(0.5),\n",
    "    layers.Dense(1, activation='sigmoid')\n",
    "])\n",
    "\n",
    "model2.compile(optimizer='adam', loss='binary_crossentropy', metrics=['accuracy'])\n",
    "\n",
    "hist = model2.fit(x_train, y_train, epochs=5, batch_size=32, validation_split=0.2, verbose=1)\n",
    "\n",
    "test_loss, test_acc = model2.evaluate(x_test, y_test, verbose=2)\n",
    "print(f\"Test Accuracy: {test_acc:.4f}\")"
   ]
  },
  {
   "cell_type": "code",
   "execution_count": 112,
   "id": "452e8490-60b9-47d1-aaf9-07ddaed34a6e",
   "metadata": {},
   "outputs": [
    {
     "name": "stdout",
     "output_type": "stream",
     "text": [
      "\u001b[1m1/1\u001b[0m \u001b[32m━━━━━━━━━━━━━━━━━━━━\u001b[0m\u001b[37m\u001b[0m \u001b[1m0s\u001b[0m 38ms/step\n",
      "Review: This movie was fantastic! Masterpiece!!!! Best thing ever.\n",
      "Prediction: Positive ([0.6410363])\n",
      "\n",
      "Review: this was a fucking disaster. shame on anyone who worked on this\n",
      "Prediction: Negative ([0.3016865])\n",
      "\n",
      "Review: AMAZING\n",
      "Prediction: Positive ([0.81673086])\n",
      "\n"
     ]
    }
   ],
   "source": [
    "reviews = [\"This movie was fantastic! Masterpiece!!!! Best thing ever.\",\n",
    "           \"this was a fucking disaster. shame on anyone who worked on this\",\n",
    "           \"AMAZING\"\n",
    "          ]\n",
    "seq = [text_to_vect(r) for r in reviews]\n",
    "seq = pad_sequences(seq, maxlen=max_sequence_length)\n",
    "\n",
    "predictions = model2.predict(seq)\n",
    "for rev, pred in zip(reviews, predictions):\n",
    "    print(f\"Review: {rev}\\nPrediction: {'Positive' if pred > 0.5 else 'Negative'} ({pred})\\n\")"
   ]
  },
  {
   "cell_type": "code",
   "execution_count": 114,
   "id": "7593c6a3-dcc2-45ec-aa0d-a2994edc0cc8",
   "metadata": {},
   "outputs": [],
   "source": [
    "model_dir = \"../../models\"\n",
    "model.save(f'{model_dir}/rnn_imdb_sent_analyser.keras')"
   ]
  }
 ],
 "metadata": {
  "kernelspec": {
   "display_name": "tf",
   "language": "python",
   "name": "tf"
  },
  "language_info": {
   "codemirror_mode": {
    "name": "ipython",
    "version": 3
   },
   "file_extension": ".py",
   "mimetype": "text/x-python",
   "name": "python",
   "nbconvert_exporter": "python",
   "pygments_lexer": "ipython3",
   "version": "3.11.5"
  }
 },
 "nbformat": 4,
 "nbformat_minor": 5
}
