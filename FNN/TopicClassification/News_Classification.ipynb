{
 "cells": [
  {
   "cell_type": "code",
   "execution_count": 1,
   "id": "3c1ba421-1512-4d3a-9d36-c17284a6c963",
   "metadata": {},
   "outputs": [],
   "source": [
    "from tensorflow.keras import layers, models\n",
    "from tensorflow.keras.preprocessing.sequence import pad_sequences\n",
    "from sklearn.datasets import fetch_20newsgroups\n",
    "from sklearn.model_selection import train_test_split\n",
    "from tensorflow.keras.preprocessing.text import Tokenizer\n",
    "import numpy as np"
   ]
  },
  {
   "cell_type": "code",
   "execution_count": 2,
   "id": "f2c7f9f4-3ce5-4a73-a681-863aa58270bb",
   "metadata": {},
   "outputs": [],
   "source": [
    "categories = ['sci.electronics', 'sci.med', 'sci.space', 'talk.politics.misc', 'talk.religion.misc']\n",
    "newsgroups = fetch_20newsgroups(\n",
    "    subset='all',\n",
    "    categories=categories,\n",
    "    remove=(\"headers\", \"footers\", \"quotes\")\n",
    ")\n",
    "texts = newsgroups.data\n",
    "labels = newsgroups.target"
   ]
  },
  {
   "cell_type": "code",
   "execution_count": 8,
   "id": "ed9e15d7-5d03-478b-9319-e52df9c892d4",
   "metadata": {},
   "outputs": [
    {
     "name": "stdout",
     "output_type": "stream",
     "text": [
      "5 categories: ['sci.electronics', 'sci.med', 'sci.space', 'talk.politics.misc', 'talk.religion.misc']\n",
      "4364 documents\n"
     ]
    }
   ],
   "source": [
    "print(f\"\"\"{len(newsgroups.target_names)} categories: {newsgroups.target_names}\n",
    "{len(texts)} documents\"\"\")"
   ]
  },
  {
   "cell_type": "code",
   "execution_count": 27,
   "id": "cb5903ca-7a7e-4a5f-b5e3-34b056fcb3e2",
   "metadata": {},
   "outputs": [
    {
     "name": "stdout",
     "output_type": "stream",
     "text": [
      "News:\n",
      "I am involved with a Michigan company that has an application requiring \n",
      "wireless data transfer.  If you have expertise or information that may \n",
      "assist us in this project, please contact me (INTERNET: leblanc@cvm.msu.\n",
      "edu).\n",
      "\n",
      "Category: sci.electronics\n"
     ]
    }
   ],
   "source": [
    "print(f\"News:\\n{texts[1]}Category: {categories[labels[1]]}\")"
   ]
  },
  {
   "cell_type": "code",
   "execution_count": 9,
   "id": "6314693d-80b2-4664-9311-addc331aa4df",
   "metadata": {},
   "outputs": [],
   "source": [
    "# Tokenization\n",
    "max_words = 10000  # Limit vocab size\n",
    "tokenizer = Tokenizer(num_words=max_words)\n",
    "tokenizer.fit_on_texts(texts)\n",
    "seq = tokenizer.texts_to_sequences(texts)\n",
    "\n",
    "# Padding to ensure same length\n",
    "X = pad_sequences(seq, padding='post', maxlen=500)  # Truncate or pad to maxlen"
   ]
  },
  {
   "cell_type": "code",
   "execution_count": 14,
   "id": "7544f4a9-a3ba-40ee-9ed9-d28f40f793b7",
   "metadata": {},
   "outputs": [],
   "source": [
    "# Split dataset\n",
    "X_train, X_test, y_train, y_test = train_test_split(X, labels, test_size=0.2, random_state=42)"
   ]
  },
  {
   "cell_type": "code",
   "execution_count": 20,
   "id": "6982b8a5-3fcd-4cbb-9027-df38b8ee85c4",
   "metadata": {},
   "outputs": [
    {
     "data": {
      "text/html": [
       "<pre style=\"white-space:pre;overflow-x:auto;line-height:normal;font-family:Menlo,'DejaVu Sans Mono',consolas,'Courier New',monospace\"><span style=\"font-weight: bold\">Model: \"sequential_1\"</span>\n",
       "</pre>\n"
      ],
      "text/plain": [
       "\u001b[1mModel: \"sequential_1\"\u001b[0m\n"
      ]
     },
     "metadata": {},
     "output_type": "display_data"
    },
    {
     "data": {
      "text/html": [
       "<pre style=\"white-space:pre;overflow-x:auto;line-height:normal;font-family:Menlo,'DejaVu Sans Mono',consolas,'Courier New',monospace\">┏━━━━━━━━━━━━━━━━━━━━━━━━━━━━━━━━━━━━━━┳━━━━━━━━━━━━━━━━━━━━━━━━━━━━━┳━━━━━━━━━━━━━━━━━┓\n",
       "┃<span style=\"font-weight: bold\"> Layer (type)                         </span>┃<span style=\"font-weight: bold\"> Output Shape                </span>┃<span style=\"font-weight: bold\">         Param # </span>┃\n",
       "┡━━━━━━━━━━━━━━━━━━━━━━━━━━━━━━━━━━━━━━╇━━━━━━━━━━━━━━━━━━━━━━━━━━━━━╇━━━━━━━━━━━━━━━━━┩\n",
       "│ embedding_1 (<span style=\"color: #0087ff; text-decoration-color: #0087ff\">Embedding</span>)              │ ?                           │     <span style=\"color: #00af00; text-decoration-color: #00af00\">0</span> (unbuilt) │\n",
       "├──────────────────────────────────────┼─────────────────────────────┼─────────────────┤\n",
       "│ bidirectional_1 (<span style=\"color: #0087ff; text-decoration-color: #0087ff\">Bidirectional</span>)      │ ?                           │     <span style=\"color: #00af00; text-decoration-color: #00af00\">0</span> (unbuilt) │\n",
       "├──────────────────────────────────────┼─────────────────────────────┼─────────────────┤\n",
       "│ dropout_1 (<span style=\"color: #0087ff; text-decoration-color: #0087ff\">Dropout</span>)                  │ ?                           │     <span style=\"color: #00af00; text-decoration-color: #00af00\">0</span> (unbuilt) │\n",
       "├──────────────────────────────────────┼─────────────────────────────┼─────────────────┤\n",
       "│ dense_2 (<span style=\"color: #0087ff; text-decoration-color: #0087ff\">Dense</span>)                      │ ?                           │     <span style=\"color: #00af00; text-decoration-color: #00af00\">0</span> (unbuilt) │\n",
       "├──────────────────────────────────────┼─────────────────────────────┼─────────────────┤\n",
       "│ dense_3 (<span style=\"color: #0087ff; text-decoration-color: #0087ff\">Dense</span>)                      │ ?                           │     <span style=\"color: #00af00; text-decoration-color: #00af00\">0</span> (unbuilt) │\n",
       "└──────────────────────────────────────┴─────────────────────────────┴─────────────────┘\n",
       "</pre>\n"
      ],
      "text/plain": [
       "┏━━━━━━━━━━━━━━━━━━━━━━━━━━━━━━━━━━━━━━┳━━━━━━━━━━━━━━━━━━━━━━━━━━━━━┳━━━━━━━━━━━━━━━━━┓\n",
       "┃\u001b[1m \u001b[0m\u001b[1mLayer (type)                        \u001b[0m\u001b[1m \u001b[0m┃\u001b[1m \u001b[0m\u001b[1mOutput Shape               \u001b[0m\u001b[1m \u001b[0m┃\u001b[1m \u001b[0m\u001b[1m        Param #\u001b[0m\u001b[1m \u001b[0m┃\n",
       "┡━━━━━━━━━━━━━━━━━━━━━━━━━━━━━━━━━━━━━━╇━━━━━━━━━━━━━━━━━━━━━━━━━━━━━╇━━━━━━━━━━━━━━━━━┩\n",
       "│ embedding_1 (\u001b[38;5;33mEmbedding\u001b[0m)              │ ?                           │     \u001b[38;5;34m0\u001b[0m (unbuilt) │\n",
       "├──────────────────────────────────────┼─────────────────────────────┼─────────────────┤\n",
       "│ bidirectional_1 (\u001b[38;5;33mBidirectional\u001b[0m)      │ ?                           │     \u001b[38;5;34m0\u001b[0m (unbuilt) │\n",
       "├──────────────────────────────────────┼─────────────────────────────┼─────────────────┤\n",
       "│ dropout_1 (\u001b[38;5;33mDropout\u001b[0m)                  │ ?                           │     \u001b[38;5;34m0\u001b[0m (unbuilt) │\n",
       "├──────────────────────────────────────┼─────────────────────────────┼─────────────────┤\n",
       "│ dense_2 (\u001b[38;5;33mDense\u001b[0m)                      │ ?                           │     \u001b[38;5;34m0\u001b[0m (unbuilt) │\n",
       "├──────────────────────────────────────┼─────────────────────────────┼─────────────────┤\n",
       "│ dense_3 (\u001b[38;5;33mDense\u001b[0m)                      │ ?                           │     \u001b[38;5;34m0\u001b[0m (unbuilt) │\n",
       "└──────────────────────────────────────┴─────────────────────────────┴─────────────────┘\n"
      ]
     },
     "metadata": {},
     "output_type": "display_data"
    },
    {
     "data": {
      "text/html": [
       "<pre style=\"white-space:pre;overflow-x:auto;line-height:normal;font-family:Menlo,'DejaVu Sans Mono',consolas,'Courier New',monospace\"><span style=\"font-weight: bold\"> Total params: </span><span style=\"color: #00af00; text-decoration-color: #00af00\">0</span> (0.00 B)\n",
       "</pre>\n"
      ],
      "text/plain": [
       "\u001b[1m Total params: \u001b[0m\u001b[38;5;34m0\u001b[0m (0.00 B)\n"
      ]
     },
     "metadata": {},
     "output_type": "display_data"
    },
    {
     "data": {
      "text/html": [
       "<pre style=\"white-space:pre;overflow-x:auto;line-height:normal;font-family:Menlo,'DejaVu Sans Mono',consolas,'Courier New',monospace\"><span style=\"font-weight: bold\"> Trainable params: </span><span style=\"color: #00af00; text-decoration-color: #00af00\">0</span> (0.00 B)\n",
       "</pre>\n"
      ],
      "text/plain": [
       "\u001b[1m Trainable params: \u001b[0m\u001b[38;5;34m0\u001b[0m (0.00 B)\n"
      ]
     },
     "metadata": {},
     "output_type": "display_data"
    },
    {
     "data": {
      "text/html": [
       "<pre style=\"white-space:pre;overflow-x:auto;line-height:normal;font-family:Menlo,'DejaVu Sans Mono',consolas,'Courier New',monospace\"><span style=\"font-weight: bold\"> Non-trainable params: </span><span style=\"color: #00af00; text-decoration-color: #00af00\">0</span> (0.00 B)\n",
       "</pre>\n"
      ],
      "text/plain": [
       "\u001b[1m Non-trainable params: \u001b[0m\u001b[38;5;34m0\u001b[0m (0.00 B)\n"
      ]
     },
     "metadata": {},
     "output_type": "display_data"
    }
   ],
   "source": [
    "model = models.Sequential([\n",
    "    layers.Embedding(input_dim=max_words, output_dim=128),\n",
    "    layers.Bidirectional(layers.LSTM(64, return_sequences=False)),\n",
    "    layers.Dropout(0.5),\n",
    "    layers.Dense(64, activation='relu'),\n",
    "    layers.Dense(5, activation='softmax')  # Softmax for multi-class classification\n",
    "])\n",
    "\n",
    "model.compile(optimizer='adam', loss='sparse_categorical_crossentropy', metrics=['accuracy'])\n",
    "\n",
    "model.summary()"
   ]
  },
  {
   "cell_type": "code",
   "execution_count": 21,
   "id": "e6231b60-e478-4ea7-90bc-749f167b42b2",
   "metadata": {},
   "outputs": [
    {
     "name": "stdout",
     "output_type": "stream",
     "text": [
      "Epoch 1/10\n",
      "\u001b[1m55/55\u001b[0m \u001b[32m━━━━━━━━━━━━━━━━━━━━\u001b[0m\u001b[37m\u001b[0m \u001b[1m61s\u001b[0m 983ms/step - accuracy: 0.2322 - loss: 1.5937 - val_accuracy: 0.3058 - val_loss: 1.5205\n",
      "Epoch 2/10\n",
      "\u001b[1m55/55\u001b[0m \u001b[32m━━━━━━━━━━━━━━━━━━━━\u001b[0m\u001b[37m\u001b[0m \u001b[1m54s\u001b[0m 985ms/step - accuracy: 0.4327 - loss: 1.3465 - val_accuracy: 0.5659 - val_loss: 1.0361\n",
      "Epoch 3/10\n",
      "\u001b[1m55/55\u001b[0m \u001b[32m━━━━━━━━━━━━━━━━━━━━\u001b[0m\u001b[37m\u001b[0m \u001b[1m83s\u001b[0m 1s/step - accuracy: 0.6864 - loss: 0.7719 - val_accuracy: 0.6541 - val_loss: 0.7849\n",
      "Epoch 4/10\n",
      "\u001b[1m55/55\u001b[0m \u001b[32m━━━━━━━━━━━━━━━━━━━━\u001b[0m\u001b[37m\u001b[0m \u001b[1m82s\u001b[0m 1s/step - accuracy: 0.7926 - loss: 0.4631 - val_accuracy: 0.6781 - val_loss: 0.8136\n",
      "Epoch 5/10\n",
      "\u001b[1m55/55\u001b[0m \u001b[32m━━━━━━━━━━━━━━━━━━━━\u001b[0m\u001b[37m\u001b[0m \u001b[1m81s\u001b[0m 996ms/step - accuracy: 0.8188 - loss: 0.3716 - val_accuracy: 0.6747 - val_loss: 0.8403\n",
      "Epoch 6/10\n",
      "\u001b[1m55/55\u001b[0m \u001b[32m━━━━━━━━━━━━━━━━━━━━\u001b[0m\u001b[37m\u001b[0m \u001b[1m82s\u001b[0m 996ms/step - accuracy: 0.8346 - loss: 0.3288 - val_accuracy: 0.6907 - val_loss: 0.9195\n",
      "Epoch 7/10\n",
      "\u001b[1m55/55\u001b[0m \u001b[32m━━━━━━━━━━━━━━━━━━━━\u001b[0m\u001b[37m\u001b[0m \u001b[1m81s\u001b[0m 981ms/step - accuracy: 0.8820 - loss: 0.2778 - val_accuracy: 0.7010 - val_loss: 0.9732\n",
      "Epoch 8/10\n",
      "\u001b[1m55/55\u001b[0m \u001b[32m━━━━━━━━━━━━━━━━━━━━\u001b[0m\u001b[37m\u001b[0m \u001b[1m55s\u001b[0m 1s/step - accuracy: 0.9331 - loss: 0.1866 - val_accuracy: 0.7090 - val_loss: 1.1050\n",
      "Epoch 9/10\n",
      "\u001b[1m55/55\u001b[0m \u001b[32m━━━━━━━━━━━━━━━━━━━━\u001b[0m\u001b[37m\u001b[0m \u001b[1m55s\u001b[0m 994ms/step - accuracy: 0.9564 - loss: 0.1337 - val_accuracy: 0.7148 - val_loss: 1.1467\n",
      "Epoch 10/10\n",
      "\u001b[1m55/55\u001b[0m \u001b[32m━━━━━━━━━━━━━━━━━━━━\u001b[0m\u001b[37m\u001b[0m \u001b[1m56s\u001b[0m 1s/step - accuracy: 0.9625 - loss: 0.1048 - val_accuracy: 0.7297 - val_loss: 1.0456\n"
     ]
    }
   ],
   "source": [
    "hist = model.fit(X_train, y_train, epochs=10, batch_size=64, validation_data=(X_test, y_test))"
   ]
  },
  {
   "cell_type": "code",
   "execution_count": 22,
   "id": "9274e09f-29dc-4925-ac06-b7d885d0a498",
   "metadata": {},
   "outputs": [
    {
     "name": "stdout",
     "output_type": "stream",
     "text": [
      "28/28 - 3s - 115ms/step - accuracy: 0.7297 - loss: 1.0456\n",
      "Test Accuracy: 0.7297\n"
     ]
    }
   ],
   "source": [
    "test_loss, test_acc = model.evaluate(X_test, y_test, verbose=2)\n",
    "print(f\"Test Accuracy: {test_acc:.4f}\")"
   ]
  },
  {
   "cell_type": "code",
   "execution_count": 48,
   "id": "20f734ed-de48-4a69-beb3-815a77cf5f95",
   "metadata": {},
   "outputs": [
    {
     "name": "stdout",
     "output_type": "stream",
     "text": [
      "\u001b[1m1/1\u001b[0m \u001b[32m━━━━━━━━━━━━━━━━━━━━\u001b[0m\u001b[37m\u001b[0m \u001b[1m0s\u001b[0m 80ms/step\n",
      "Text: The transistor was invented in 1947, and it has since revolutionized the electronics industry. It's the fundamental building block of modern electronic devices, enabling smaller, faster, and more power-efficient gadgets.\n",
      "Actual Category: sci.electronics\n",
      "Predicted Category: sci.electronics\n",
      "\n",
      "\u001b[1m1/1\u001b[0m \u001b[32m━━━━━━━━━━━━━━━━━━━━\u001b[0m\u001b[37m\u001b[0m \u001b[1m0s\u001b[0m 50ms/step\n",
      "Text: Recent studies have shown that regular physical exercise can help improve mental health and reduce symptoms of anxiety and depression. Researchers have found that both aerobic and strength training activities are beneficial for brain health.\n",
      "Actual Category: sci.med\n",
      "Predicted Category: sci.med\n",
      "\n",
      "\u001b[1m1/1\u001b[0m \u001b[32m━━━━━━━━━━━━━━━━━━━━\u001b[0m\u001b[37m\u001b[0m \u001b[1m0s\u001b[0m 82ms/step\n",
      "Text: The Apollo 11 mission was the first successful manned mission to land on the Moon. Neil Armstrong and Buzz Aldrin made history by becoming the first humans to set foot on the lunar surface in 1969, paving the way for future space exploration.\n",
      "Actual Category: sci.space\n",
      "Predicted Category: sci.space\n",
      "\n",
      "\u001b[1m1/1\u001b[0m \u001b[32m━━━━━━━━━━━━━━━━━━━━\u001b[0m\u001b[37m\u001b[0m \u001b[1m0s\u001b[0m 70ms/step\n",
      "Text: The debate over universal healthcare continues to divide the nation. Proponents argue that access to basic healthcare is a human right, while opponents claim it would lead to inefficiencies and higher taxes. The policy discussion is ongoing.\n",
      "Actual Category: talk.politics.misc\n",
      "Predicted Category: sci.space\n",
      "\n",
      "\u001b[1m1/1\u001b[0m \u001b[32m━━━━━━━━━━━━━━━━━━━━\u001b[0m\u001b[37m\u001b[0m \u001b[1m0s\u001b[0m 80ms/step\n",
      "Text: Many people find comfort in meditation as part of their spiritual practices, whether they follow Buddhism, Hinduism, or other traditions. Meditation is seen as a way to connect with the divine, promote inner peace, and enhance personal well-being.\n",
      "Actual Category: talk.religion.misc\n",
      "Predicted Category: talk.religion.misc\n",
      "\n"
     ]
    }
   ],
   "source": [
    "test = {\n",
    "    \"sci.electronics\": \"The transistor was invented in 1947, and it has since revolutionized the electronics industry. It's the fundamental building block of modern electronic devices, enabling smaller, faster, and more power-efficient gadgets.\",\n",
    "    \"sci.med\": \"Recent studies have shown that regular physical exercise can help improve mental health and reduce symptoms of anxiety and depression. Researchers have found that both aerobic and strength training activities are beneficial for brain health.\",\n",
    "    \"sci.space\": \"The Apollo 11 mission was the first successful manned mission to land on the Moon. Neil Armstrong and Buzz Aldrin made history by becoming the first humans to set foot on the lunar surface in 1969, paving the way for future space exploration.\",\n",
    "    \"talk.politics.misc\": \"The debate over universal healthcare continues to divide the nation. Proponents argue that access to basic healthcare is a human right, while opponents claim it would lead to inefficiencies and higher taxes. The policy discussion is ongoing.\",\n",
    "    \"talk.religion.misc\": \"Many people find comfort in meditation as part of their spiritual practices, whether they follow Buddhism, Hinduism, or other traditions. Meditation is seen as a way to connect with the divine, promote inner peace, and enhance personal well-being.\"\n",
    "}\n",
    "\n",
    "for category, text in test.items():\n",
    "    seq = tokenizer.texts_to_sequences([text])\n",
    "    seq = pad_sequences(seq, padding='post', maxlen=500)\n",
    "    print(f\"Text: {text}\\nActual Category: {category}\\nPredicted Category: {categories[np.argmax(model.predict(seq))]}\\n\")"
   ]
  }
 ],
 "metadata": {
  "kernelspec": {
   "display_name": "tf",
   "language": "python",
   "name": "tf"
  },
  "language_info": {
   "codemirror_mode": {
    "name": "ipython",
    "version": 3
   },
   "file_extension": ".py",
   "mimetype": "text/x-python",
   "name": "python",
   "nbconvert_exporter": "python",
   "pygments_lexer": "ipython3",
   "version": "3.11.5"
  }
 },
 "nbformat": 4,
 "nbformat_minor": 5
}
