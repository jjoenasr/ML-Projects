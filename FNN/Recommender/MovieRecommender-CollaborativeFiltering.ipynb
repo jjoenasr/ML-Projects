{
 "cells": [
  {
   "cell_type": "markdown",
   "id": "3b705f67-bd2a-4108-8173-a2f8d5540888",
   "metadata": {},
   "source": [
    "# Imports and Preprocessing"
   ]
  },
  {
   "cell_type": "code",
   "execution_count": 26,
   "id": "b5c656b3-fce7-4f63-8f78-44794c542b18",
   "metadata": {},
   "outputs": [],
   "source": [
    "import pandas as pd\n",
    "import numpy as np\n",
    "from sklearn.model_selection import train_test_split"
   ]
  },
  {
   "cell_type": "code",
   "execution_count": 2,
   "id": "226efecf-d284-4685-abc6-54248d2a30a4",
   "metadata": {},
   "outputs": [
    {
     "data": {
      "text/html": [
       "<div>\n",
       "<style scoped>\n",
       "    .dataframe tbody tr th:only-of-type {\n",
       "        vertical-align: middle;\n",
       "    }\n",
       "\n",
       "    .dataframe tbody tr th {\n",
       "        vertical-align: top;\n",
       "    }\n",
       "\n",
       "    .dataframe thead th {\n",
       "        text-align: right;\n",
       "    }\n",
       "</style>\n",
       "<table border=\"1\" class=\"dataframe\">\n",
       "  <thead>\n",
       "    <tr style=\"text-align: right;\">\n",
       "      <th></th>\n",
       "      <th>id</th>\n",
       "      <th>overview</th>\n",
       "      <th>title</th>\n",
       "    </tr>\n",
       "  </thead>\n",
       "  <tbody>\n",
       "    <tr>\n",
       "      <th>0</th>\n",
       "      <td>19995</td>\n",
       "      <td>In the 22nd century, a paraplegic Marine is di...</td>\n",
       "      <td>Avatar</td>\n",
       "    </tr>\n",
       "    <tr>\n",
       "      <th>1</th>\n",
       "      <td>285</td>\n",
       "      <td>Captain Barbossa, long believed to be dead, ha...</td>\n",
       "      <td>Pirates of the Caribbean: At World's End</td>\n",
       "    </tr>\n",
       "    <tr>\n",
       "      <th>2</th>\n",
       "      <td>206647</td>\n",
       "      <td>A cryptic message from Bond’s past sends him o...</td>\n",
       "      <td>Spectre</td>\n",
       "    </tr>\n",
       "    <tr>\n",
       "      <th>3</th>\n",
       "      <td>49026</td>\n",
       "      <td>Following the death of District Attorney Harve...</td>\n",
       "      <td>The Dark Knight Rises</td>\n",
       "    </tr>\n",
       "    <tr>\n",
       "      <th>4</th>\n",
       "      <td>49529</td>\n",
       "      <td>John Carter is a war-weary, former military ca...</td>\n",
       "      <td>John Carter</td>\n",
       "    </tr>\n",
       "    <tr>\n",
       "      <th>...</th>\n",
       "      <td>...</td>\n",
       "      <td>...</td>\n",
       "      <td>...</td>\n",
       "    </tr>\n",
       "    <tr>\n",
       "      <th>4798</th>\n",
       "      <td>9367</td>\n",
       "      <td>El Mariachi just wants to play his guitar and ...</td>\n",
       "      <td>El Mariachi</td>\n",
       "    </tr>\n",
       "    <tr>\n",
       "      <th>4799</th>\n",
       "      <td>72766</td>\n",
       "      <td>A newlywed couple's honeymoon is upended by th...</td>\n",
       "      <td>Newlyweds</td>\n",
       "    </tr>\n",
       "    <tr>\n",
       "      <th>4800</th>\n",
       "      <td>231617</td>\n",
       "      <td>\"Signed, Sealed, Delivered\" introduces a dedic...</td>\n",
       "      <td>Signed, Sealed, Delivered</td>\n",
       "    </tr>\n",
       "    <tr>\n",
       "      <th>4801</th>\n",
       "      <td>126186</td>\n",
       "      <td>When ambitious New York attorney Sam is sent t...</td>\n",
       "      <td>Shanghai Calling</td>\n",
       "    </tr>\n",
       "    <tr>\n",
       "      <th>4802</th>\n",
       "      <td>25975</td>\n",
       "      <td>Ever since the second grade when he first saw ...</td>\n",
       "      <td>My Date with Drew</td>\n",
       "    </tr>\n",
       "  </tbody>\n",
       "</table>\n",
       "<p>4803 rows × 3 columns</p>\n",
       "</div>"
      ],
      "text/plain": [
       "          id                                           overview  \\\n",
       "0      19995  In the 22nd century, a paraplegic Marine is di...   \n",
       "1        285  Captain Barbossa, long believed to be dead, ha...   \n",
       "2     206647  A cryptic message from Bond’s past sends him o...   \n",
       "3      49026  Following the death of District Attorney Harve...   \n",
       "4      49529  John Carter is a war-weary, former military ca...   \n",
       "...      ...                                                ...   \n",
       "4798    9367  El Mariachi just wants to play his guitar and ...   \n",
       "4799   72766  A newlywed couple's honeymoon is upended by th...   \n",
       "4800  231617  \"Signed, Sealed, Delivered\" introduces a dedic...   \n",
       "4801  126186  When ambitious New York attorney Sam is sent t...   \n",
       "4802   25975  Ever since the second grade when he first saw ...   \n",
       "\n",
       "                                         title  \n",
       "0                                       Avatar  \n",
       "1     Pirates of the Caribbean: At World's End  \n",
       "2                                      Spectre  \n",
       "3                        The Dark Knight Rises  \n",
       "4                                  John Carter  \n",
       "...                                        ...  \n",
       "4798                               El Mariachi  \n",
       "4799                                 Newlyweds  \n",
       "4800                 Signed, Sealed, Delivered  \n",
       "4801                          Shanghai Calling  \n",
       "4802                         My Date with Drew  \n",
       "\n",
       "[4803 rows x 3 columns]"
      ]
     },
     "execution_count": 2,
     "metadata": {},
     "output_type": "execute_result"
    }
   ],
   "source": [
    "movies_df = pd.read_csv('../../datasets/tmdb_5000_movies.csv', usecols=['id','title','overview'])\n",
    "movies_df"
   ]
  },
  {
   "cell_type": "markdown",
   "id": "68e899fc-521e-4896-ae0f-ee0798f0b9a0",
   "metadata": {},
   "source": [
    "## Generate Random Ratings"
   ]
  },
  {
   "cell_type": "code",
   "execution_count": 14,
   "id": "67461400-2bc6-409f-a56e-9d5484280d44",
   "metadata": {},
   "outputs": [
    {
     "data": {
      "text/html": [
       "<div>\n",
       "<style scoped>\n",
       "    .dataframe tbody tr th:only-of-type {\n",
       "        vertical-align: middle;\n",
       "    }\n",
       "\n",
       "    .dataframe tbody tr th {\n",
       "        vertical-align: top;\n",
       "    }\n",
       "\n",
       "    .dataframe thead th {\n",
       "        text-align: right;\n",
       "    }\n",
       "</style>\n",
       "<table border=\"1\" class=\"dataframe\">\n",
       "  <thead>\n",
       "    <tr style=\"text-align: right;\">\n",
       "      <th></th>\n",
       "      <th>user_id</th>\n",
       "      <th>movie_id</th>\n",
       "      <th>rating</th>\n",
       "    </tr>\n",
       "  </thead>\n",
       "  <tbody>\n",
       "    <tr>\n",
       "      <th>0</th>\n",
       "      <td>1</td>\n",
       "      <td>838</td>\n",
       "      <td>1</td>\n",
       "    </tr>\n",
       "    <tr>\n",
       "      <th>1</th>\n",
       "      <td>1</td>\n",
       "      <td>13920</td>\n",
       "      <td>4</td>\n",
       "    </tr>\n",
       "    <tr>\n",
       "      <th>2</th>\n",
       "      <td>1</td>\n",
       "      <td>82700</td>\n",
       "      <td>3</td>\n",
       "    </tr>\n",
       "    <tr>\n",
       "      <th>3</th>\n",
       "      <td>1</td>\n",
       "      <td>46849</td>\n",
       "      <td>5</td>\n",
       "    </tr>\n",
       "    <tr>\n",
       "      <th>4</th>\n",
       "      <td>1</td>\n",
       "      <td>4657</td>\n",
       "      <td>3</td>\n",
       "    </tr>\n",
       "    <tr>\n",
       "      <th>...</th>\n",
       "      <td>...</td>\n",
       "      <td>...</td>\n",
       "      <td>...</td>\n",
       "    </tr>\n",
       "    <tr>\n",
       "      <th>1677</th>\n",
       "      <td>50</td>\n",
       "      <td>120</td>\n",
       "      <td>3</td>\n",
       "    </tr>\n",
       "    <tr>\n",
       "      <th>1678</th>\n",
       "      <td>50</td>\n",
       "      <td>1858</td>\n",
       "      <td>4</td>\n",
       "    </tr>\n",
       "    <tr>\n",
       "      <th>1679</th>\n",
       "      <td>50</td>\n",
       "      <td>36669</td>\n",
       "      <td>5</td>\n",
       "    </tr>\n",
       "    <tr>\n",
       "      <th>1680</th>\n",
       "      <td>50</td>\n",
       "      <td>2142</td>\n",
       "      <td>5</td>\n",
       "    </tr>\n",
       "    <tr>\n",
       "      <th>1681</th>\n",
       "      <td>50</td>\n",
       "      <td>29076</td>\n",
       "      <td>2</td>\n",
       "    </tr>\n",
       "  </tbody>\n",
       "</table>\n",
       "<p>1682 rows × 3 columns</p>\n",
       "</div>"
      ],
      "text/plain": [
       "      user_id  movie_id  rating\n",
       "0           1       838       1\n",
       "1           1     13920       4\n",
       "2           1     82700       3\n",
       "3           1     46849       5\n",
       "4           1      4657       3\n",
       "...       ...       ...     ...\n",
       "1677       50       120       3\n",
       "1678       50      1858       4\n",
       "1679       50     36669       5\n",
       "1680       50      2142       5\n",
       "1681       50     29076       2\n",
       "\n",
       "[1682 rows x 3 columns]"
      ]
     },
     "execution_count": 14,
     "metadata": {},
     "output_type": "execute_result"
    }
   ],
   "source": [
    "num_users = 50\n",
    "\n",
    "# Create a new DataFrame for user ratings (user_id, movie_id, rating)\n",
    "random_ratings = []\n",
    "\n",
    "# Generate random ratings for each user\n",
    "for user_id in range(1, num_users + 1):\n",
    "    movie_ids = np.random.choice(movies_df['id'], size=np.random.randint(20, 50), replace=False)\n",
    "    \n",
    "    for movie_id in movie_ids:\n",
    "        # Generate a random rating between 1 and 5\n",
    "        rating = np.random.randint(1, 6)\n",
    "        \n",
    "        # Append to the list\n",
    "        random_ratings.append([user_id, movie_id, rating])\n",
    "\n",
    "# Convert to DataFrame\n",
    "ratings_df = pd.DataFrame(random_ratings, columns=['user_id', 'movie_id', 'rating'])\n",
    "ratings_df"
   ]
  },
  {
   "cell_type": "code",
   "execution_count": 15,
   "id": "c0afb1af-d02c-4153-b71e-ddcf4d1afc99",
   "metadata": {},
   "outputs": [
    {
     "name": "stdout",
     "output_type": "stream",
     "text": [
      "Number of movies: 1418\n",
      "Number of users: 50\n"
     ]
    }
   ],
   "source": [
    "print(f\"Number of movies: {ratings_df['movie_id'].nunique()}\")\n",
    "print(f\"Number of users: {ratings_df['user_id'].nunique()}\")"
   ]
  },
  {
   "cell_type": "code",
   "execution_count": 16,
   "id": "6f242233-2b11-4ed2-b9c0-786d1f56d33c",
   "metadata": {},
   "outputs": [],
   "source": [
    "train_df, test_df = train_test_split(ratings_df, test_size=0.2, random_state=42)"
   ]
  },
  {
   "cell_type": "markdown",
   "id": "872976fd-5d1b-4279-8afe-4ab3dfc9b703",
   "metadata": {},
   "source": [
    "# Method 1 : FNN"
   ]
  },
  {
   "cell_type": "code",
   "execution_count": 21,
   "id": "8bcef453-b174-4564-a833-1750b0a19d21",
   "metadata": {},
   "outputs": [],
   "source": [
    "import tensorflow as tf\n",
    "from tensorflow.keras import layers, models\n",
    "from sklearn.metrics import mean_squared_error"
   ]
  },
  {
   "cell_type": "markdown",
   "id": "9eeb1eb7-eb0b-426e-bc0b-93319f0a2705",
   "metadata": {
    "jp-MarkdownHeadingCollapsed": true
   },
   "source": [
    "## Training"
   ]
  },
  {
   "cell_type": "code",
   "execution_count": 19,
   "id": "79d656f0-91eb-4e7e-906e-c87a2c36b5a2",
   "metadata": {},
   "outputs": [
    {
     "data": {
      "text/html": [
       "<pre style=\"white-space:pre;overflow-x:auto;line-height:normal;font-family:Menlo,'DejaVu Sans Mono',consolas,'Courier New',monospace\"><span style=\"font-weight: bold\">Model: \"functional_5\"</span>\n",
       "</pre>\n"
      ],
      "text/plain": [
       "\u001b[1mModel: \"functional_5\"\u001b[0m\n"
      ]
     },
     "metadata": {},
     "output_type": "display_data"
    },
    {
     "data": {
      "text/html": [
       "<pre style=\"white-space:pre;overflow-x:auto;line-height:normal;font-family:Menlo,'DejaVu Sans Mono',consolas,'Courier New',monospace\">┏━━━━━━━━━━━━━━━━━━━━━━━━━━━━━━━┳━━━━━━━━━━━━━━━━━━━━━━━━━━━┳━━━━━━━━━━━━━━━━━┳━━━━━━━━━━━━━━━━━━━━━━━━━━━━┓\n",
       "┃<span style=\"font-weight: bold\"> Layer (type)                  </span>┃<span style=\"font-weight: bold\"> Output Shape              </span>┃<span style=\"font-weight: bold\">         Param # </span>┃<span style=\"font-weight: bold\"> Connected to               </span>┃\n",
       "┡━━━━━━━━━━━━━━━━━━━━━━━━━━━━━━━╇━━━━━━━━━━━━━━━━━━━━━━━━━━━╇━━━━━━━━━━━━━━━━━╇━━━━━━━━━━━━━━━━━━━━━━━━━━━━┩\n",
       "│ user (<span style=\"color: #0087ff; text-decoration-color: #0087ff\">InputLayer</span>)             │ (<span style=\"color: #00d7ff; text-decoration-color: #00d7ff\">None</span>, <span style=\"color: #00af00; text-decoration-color: #00af00\">1</span>)                 │               <span style=\"color: #00af00; text-decoration-color: #00af00\">0</span> │ -                          │\n",
       "├───────────────────────────────┼───────────────────────────┼─────────────────┼────────────────────────────┤\n",
       "│ movie (<span style=\"color: #0087ff; text-decoration-color: #0087ff\">InputLayer</span>)            │ (<span style=\"color: #00d7ff; text-decoration-color: #00d7ff\">None</span>, <span style=\"color: #00af00; text-decoration-color: #00af00\">1</span>)                 │               <span style=\"color: #00af00; text-decoration-color: #00af00\">0</span> │ -                          │\n",
       "├───────────────────────────────┼───────────────────────────┼─────────────────┼────────────────────────────┤\n",
       "│ embedding_4 (<span style=\"color: #0087ff; text-decoration-color: #0087ff\">Embedding</span>)       │ (<span style=\"color: #00d7ff; text-decoration-color: #00d7ff\">None</span>, <span style=\"color: #00af00; text-decoration-color: #00af00\">1</span>, <span style=\"color: #00af00; text-decoration-color: #00af00\">8</span>)              │             <span style=\"color: #00af00; text-decoration-color: #00af00\">408</span> │ user[<span style=\"color: #00af00; text-decoration-color: #00af00\">0</span>][<span style=\"color: #00af00; text-decoration-color: #00af00\">0</span>]                 │\n",
       "├───────────────────────────────┼───────────────────────────┼─────────────────┼────────────────────────────┤\n",
       "│ embedding_5 (<span style=\"color: #0087ff; text-decoration-color: #0087ff\">Embedding</span>)       │ (<span style=\"color: #00d7ff; text-decoration-color: #00d7ff\">None</span>, <span style=\"color: #00af00; text-decoration-color: #00af00\">1</span>, <span style=\"color: #00af00; text-decoration-color: #00af00\">8</span>)              │       <span style=\"color: #00af00; text-decoration-color: #00af00\">3,411,760</span> │ movie[<span style=\"color: #00af00; text-decoration-color: #00af00\">0</span>][<span style=\"color: #00af00; text-decoration-color: #00af00\">0</span>]                │\n",
       "├───────────────────────────────┼───────────────────────────┼─────────────────┼────────────────────────────┤\n",
       "│ flatten_4 (<span style=\"color: #0087ff; text-decoration-color: #0087ff\">Flatten</span>)           │ (<span style=\"color: #00d7ff; text-decoration-color: #00d7ff\">None</span>, <span style=\"color: #00af00; text-decoration-color: #00af00\">8</span>)                 │               <span style=\"color: #00af00; text-decoration-color: #00af00\">0</span> │ embedding_4[<span style=\"color: #00af00; text-decoration-color: #00af00\">0</span>][<span style=\"color: #00af00; text-decoration-color: #00af00\">0</span>]          │\n",
       "├───────────────────────────────┼───────────────────────────┼─────────────────┼────────────────────────────┤\n",
       "│ flatten_5 (<span style=\"color: #0087ff; text-decoration-color: #0087ff\">Flatten</span>)           │ (<span style=\"color: #00d7ff; text-decoration-color: #00d7ff\">None</span>, <span style=\"color: #00af00; text-decoration-color: #00af00\">8</span>)                 │               <span style=\"color: #00af00; text-decoration-color: #00af00\">0</span> │ embedding_5[<span style=\"color: #00af00; text-decoration-color: #00af00\">0</span>][<span style=\"color: #00af00; text-decoration-color: #00af00\">0</span>]          │\n",
       "├───────────────────────────────┼───────────────────────────┼─────────────────┼────────────────────────────┤\n",
       "│ concatenate_2 (<span style=\"color: #0087ff; text-decoration-color: #0087ff\">Concatenate</span>)   │ (<span style=\"color: #00d7ff; text-decoration-color: #00d7ff\">None</span>, <span style=\"color: #00af00; text-decoration-color: #00af00\">16</span>)                │               <span style=\"color: #00af00; text-decoration-color: #00af00\">0</span> │ flatten_4[<span style=\"color: #00af00; text-decoration-color: #00af00\">0</span>][<span style=\"color: #00af00; text-decoration-color: #00af00\">0</span>],           │\n",
       "│                               │                           │                 │ flatten_5[<span style=\"color: #00af00; text-decoration-color: #00af00\">0</span>][<span style=\"color: #00af00; text-decoration-color: #00af00\">0</span>]            │\n",
       "├───────────────────────────────┼───────────────────────────┼─────────────────┼────────────────────────────┤\n",
       "│ dense_4 (<span style=\"color: #0087ff; text-decoration-color: #0087ff\">Dense</span>)               │ (<span style=\"color: #00d7ff; text-decoration-color: #00d7ff\">None</span>, <span style=\"color: #00af00; text-decoration-color: #00af00\">64</span>)                │           <span style=\"color: #00af00; text-decoration-color: #00af00\">1,088</span> │ concatenate_2[<span style=\"color: #00af00; text-decoration-color: #00af00\">0</span>][<span style=\"color: #00af00; text-decoration-color: #00af00\">0</span>]        │\n",
       "├───────────────────────────────┼───────────────────────────┼─────────────────┼────────────────────────────┤\n",
       "│ dense_5 (<span style=\"color: #0087ff; text-decoration-color: #0087ff\">Dense</span>)               │ (<span style=\"color: #00d7ff; text-decoration-color: #00d7ff\">None</span>, <span style=\"color: #00af00; text-decoration-color: #00af00\">1</span>)                 │              <span style=\"color: #00af00; text-decoration-color: #00af00\">65</span> │ dense_4[<span style=\"color: #00af00; text-decoration-color: #00af00\">0</span>][<span style=\"color: #00af00; text-decoration-color: #00af00\">0</span>]              │\n",
       "└───────────────────────────────┴───────────────────────────┴─────────────────┴────────────────────────────┘\n",
       "</pre>\n"
      ],
      "text/plain": [
       "┏━━━━━━━━━━━━━━━━━━━━━━━━━━━━━━━┳━━━━━━━━━━━━━━━━━━━━━━━━━━━┳━━━━━━━━━━━━━━━━━┳━━━━━━━━━━━━━━━━━━━━━━━━━━━━┓\n",
       "┃\u001b[1m \u001b[0m\u001b[1mLayer (type)                 \u001b[0m\u001b[1m \u001b[0m┃\u001b[1m \u001b[0m\u001b[1mOutput Shape             \u001b[0m\u001b[1m \u001b[0m┃\u001b[1m \u001b[0m\u001b[1m        Param #\u001b[0m\u001b[1m \u001b[0m┃\u001b[1m \u001b[0m\u001b[1mConnected to              \u001b[0m\u001b[1m \u001b[0m┃\n",
       "┡━━━━━━━━━━━━━━━━━━━━━━━━━━━━━━━╇━━━━━━━━━━━━━━━━━━━━━━━━━━━╇━━━━━━━━━━━━━━━━━╇━━━━━━━━━━━━━━━━━━━━━━━━━━━━┩\n",
       "│ user (\u001b[38;5;33mInputLayer\u001b[0m)             │ (\u001b[38;5;45mNone\u001b[0m, \u001b[38;5;34m1\u001b[0m)                 │               \u001b[38;5;34m0\u001b[0m │ -                          │\n",
       "├───────────────────────────────┼───────────────────────────┼─────────────────┼────────────────────────────┤\n",
       "│ movie (\u001b[38;5;33mInputLayer\u001b[0m)            │ (\u001b[38;5;45mNone\u001b[0m, \u001b[38;5;34m1\u001b[0m)                 │               \u001b[38;5;34m0\u001b[0m │ -                          │\n",
       "├───────────────────────────────┼───────────────────────────┼─────────────────┼────────────────────────────┤\n",
       "│ embedding_4 (\u001b[38;5;33mEmbedding\u001b[0m)       │ (\u001b[38;5;45mNone\u001b[0m, \u001b[38;5;34m1\u001b[0m, \u001b[38;5;34m8\u001b[0m)              │             \u001b[38;5;34m408\u001b[0m │ user[\u001b[38;5;34m0\u001b[0m][\u001b[38;5;34m0\u001b[0m]                 │\n",
       "├───────────────────────────────┼───────────────────────────┼─────────────────┼────────────────────────────┤\n",
       "│ embedding_5 (\u001b[38;5;33mEmbedding\u001b[0m)       │ (\u001b[38;5;45mNone\u001b[0m, \u001b[38;5;34m1\u001b[0m, \u001b[38;5;34m8\u001b[0m)              │       \u001b[38;5;34m3,411,760\u001b[0m │ movie[\u001b[38;5;34m0\u001b[0m][\u001b[38;5;34m0\u001b[0m]                │\n",
       "├───────────────────────────────┼───────────────────────────┼─────────────────┼────────────────────────────┤\n",
       "│ flatten_4 (\u001b[38;5;33mFlatten\u001b[0m)           │ (\u001b[38;5;45mNone\u001b[0m, \u001b[38;5;34m8\u001b[0m)                 │               \u001b[38;5;34m0\u001b[0m │ embedding_4[\u001b[38;5;34m0\u001b[0m][\u001b[38;5;34m0\u001b[0m]          │\n",
       "├───────────────────────────────┼───────────────────────────┼─────────────────┼────────────────────────────┤\n",
       "│ flatten_5 (\u001b[38;5;33mFlatten\u001b[0m)           │ (\u001b[38;5;45mNone\u001b[0m, \u001b[38;5;34m8\u001b[0m)                 │               \u001b[38;5;34m0\u001b[0m │ embedding_5[\u001b[38;5;34m0\u001b[0m][\u001b[38;5;34m0\u001b[0m]          │\n",
       "├───────────────────────────────┼───────────────────────────┼─────────────────┼────────────────────────────┤\n",
       "│ concatenate_2 (\u001b[38;5;33mConcatenate\u001b[0m)   │ (\u001b[38;5;45mNone\u001b[0m, \u001b[38;5;34m16\u001b[0m)                │               \u001b[38;5;34m0\u001b[0m │ flatten_4[\u001b[38;5;34m0\u001b[0m][\u001b[38;5;34m0\u001b[0m],           │\n",
       "│                               │                           │                 │ flatten_5[\u001b[38;5;34m0\u001b[0m][\u001b[38;5;34m0\u001b[0m]            │\n",
       "├───────────────────────────────┼───────────────────────────┼─────────────────┼────────────────────────────┤\n",
       "│ dense_4 (\u001b[38;5;33mDense\u001b[0m)               │ (\u001b[38;5;45mNone\u001b[0m, \u001b[38;5;34m64\u001b[0m)                │           \u001b[38;5;34m1,088\u001b[0m │ concatenate_2[\u001b[38;5;34m0\u001b[0m][\u001b[38;5;34m0\u001b[0m]        │\n",
       "├───────────────────────────────┼───────────────────────────┼─────────────────┼────────────────────────────┤\n",
       "│ dense_5 (\u001b[38;5;33mDense\u001b[0m)               │ (\u001b[38;5;45mNone\u001b[0m, \u001b[38;5;34m1\u001b[0m)                 │              \u001b[38;5;34m65\u001b[0m │ dense_4[\u001b[38;5;34m0\u001b[0m][\u001b[38;5;34m0\u001b[0m]              │\n",
       "└───────────────────────────────┴───────────────────────────┴─────────────────┴────────────────────────────┘\n"
      ]
     },
     "metadata": {},
     "output_type": "display_data"
    },
    {
     "data": {
      "text/html": [
       "<pre style=\"white-space:pre;overflow-x:auto;line-height:normal;font-family:Menlo,'DejaVu Sans Mono',consolas,'Courier New',monospace\"><span style=\"font-weight: bold\"> Total params: </span><span style=\"color: #00af00; text-decoration-color: #00af00\">3,413,321</span> (13.02 MB)\n",
       "</pre>\n"
      ],
      "text/plain": [
       "\u001b[1m Total params: \u001b[0m\u001b[38;5;34m3,413,321\u001b[0m (13.02 MB)\n"
      ]
     },
     "metadata": {},
     "output_type": "display_data"
    },
    {
     "data": {
      "text/html": [
       "<pre style=\"white-space:pre;overflow-x:auto;line-height:normal;font-family:Menlo,'DejaVu Sans Mono',consolas,'Courier New',monospace\"><span style=\"font-weight: bold\"> Trainable params: </span><span style=\"color: #00af00; text-decoration-color: #00af00\">3,413,321</span> (13.02 MB)\n",
       "</pre>\n"
      ],
      "text/plain": [
       "\u001b[1m Trainable params: \u001b[0m\u001b[38;5;34m3,413,321\u001b[0m (13.02 MB)\n"
      ]
     },
     "metadata": {},
     "output_type": "display_data"
    },
    {
     "data": {
      "text/html": [
       "<pre style=\"white-space:pre;overflow-x:auto;line-height:normal;font-family:Menlo,'DejaVu Sans Mono',consolas,'Courier New',monospace\"><span style=\"font-weight: bold\"> Non-trainable params: </span><span style=\"color: #00af00; text-decoration-color: #00af00\">0</span> (0.00 B)\n",
       "</pre>\n"
      ],
      "text/plain": [
       "\u001b[1m Non-trainable params: \u001b[0m\u001b[38;5;34m0\u001b[0m (0.00 B)\n"
      ]
     },
     "metadata": {},
     "output_type": "display_data"
    }
   ],
   "source": [
    "# Define the number of users and movies\n",
    "num_users = train_df['user_id'].nunique() + 1\n",
    "max_movies = train_df['movie_id'].max() + 1\n",
    "\n",
    "# Define the model\n",
    "user_input = layers.Input(shape=(1,), name='user')\n",
    "movie_input = layers.Input(shape=(1,), name='movie')\n",
    "\n",
    "# Embedding layers for users and movies\n",
    "user_embedding = layers.Embedding(input_dim=num_users, output_dim=8)(user_input)\n",
    "movie_embedding = layers.Embedding(input_dim=max_movies, output_dim=8)(movie_input)\n",
    "\n",
    "# Flatten the embeddings\n",
    "user_flat = layers.Flatten()(user_embedding)\n",
    "movie_flat = layers.Flatten()(movie_embedding)\n",
    "\n",
    "# Concatenate user and movie embeddings\n",
    "concat = layers.Concatenate()([user_flat, movie_flat])\n",
    "\n",
    "# Add a fully connected layer\n",
    "dense = layers.Dense(64, activation='relu')(concat)\n",
    "output = layers.Dense(1)(dense)  # Output a single rating\n",
    "\n",
    "# Create the model\n",
    "model = models.Model(inputs=[user_input, movie_input], outputs=output)\n",
    "\n",
    "# Compile the model\n",
    "model.compile(optimizer='adam', loss='mean_squared_error')\n",
    "\n",
    "model.summary()"
   ]
  },
  {
   "cell_type": "code",
   "execution_count": 20,
   "id": "7cdfab49-a553-4c1d-8fac-a0824f1ed3b9",
   "metadata": {},
   "outputs": [
    {
     "name": "stdout",
     "output_type": "stream",
     "text": [
      "Epoch 1/15\n",
      "\u001b[1m43/43\u001b[0m \u001b[32m━━━━━━━━━━━━━━━━━━━━\u001b[0m\u001b[37m\u001b[0m \u001b[1m3s\u001b[0m 20ms/step - loss: 11.0584\n",
      "Epoch 2/15\n",
      "\u001b[1m43/43\u001b[0m \u001b[32m━━━━━━━━━━━━━━━━━━━━\u001b[0m\u001b[37m\u001b[0m \u001b[1m1s\u001b[0m 30ms/step - loss: 7.7485\n",
      "Epoch 3/15\n",
      "\u001b[1m43/43\u001b[0m \u001b[32m━━━━━━━━━━━━━━━━━━━━\u001b[0m\u001b[37m\u001b[0m \u001b[1m2s\u001b[0m 33ms/step - loss: 3.3232\n",
      "Epoch 4/15\n",
      "\u001b[1m43/43\u001b[0m \u001b[32m━━━━━━━━━━━━━━━━━━━━\u001b[0m\u001b[37m\u001b[0m \u001b[1m1s\u001b[0m 33ms/step - loss: 1.8817\n",
      "Epoch 5/15\n",
      "\u001b[1m43/43\u001b[0m \u001b[32m━━━━━━━━━━━━━━━━━━━━\u001b[0m\u001b[37m\u001b[0m \u001b[1m1s\u001b[0m 32ms/step - loss: 1.5666\n",
      "Epoch 6/15\n",
      "\u001b[1m43/43\u001b[0m \u001b[32m━━━━━━━━━━━━━━━━━━━━\u001b[0m\u001b[37m\u001b[0m \u001b[1m1s\u001b[0m 32ms/step - loss: 1.2817\n",
      "Epoch 7/15\n",
      "\u001b[1m43/43\u001b[0m \u001b[32m━━━━━━━━━━━━━━━━━━━━\u001b[0m\u001b[37m\u001b[0m \u001b[1m1s\u001b[0m 32ms/step - loss: 0.8208\n",
      "Epoch 8/15\n",
      "\u001b[1m43/43\u001b[0m \u001b[32m━━━━━━━━━━━━━━━━━━━━\u001b[0m\u001b[37m\u001b[0m \u001b[1m1s\u001b[0m 33ms/step - loss: 0.5299\n",
      "Epoch 9/15\n",
      "\u001b[1m43/43\u001b[0m \u001b[32m━━━━━━━━━━━━━━━━━━━━\u001b[0m\u001b[37m\u001b[0m \u001b[1m1s\u001b[0m 31ms/step - loss: 0.4038\n",
      "Epoch 10/15\n",
      "\u001b[1m43/43\u001b[0m \u001b[32m━━━━━━━━━━━━━━━━━━━━\u001b[0m\u001b[37m\u001b[0m \u001b[1m2s\u001b[0m 35ms/step - loss: 0.3617\n",
      "Epoch 11/15\n",
      "\u001b[1m43/43\u001b[0m \u001b[32m━━━━━━━━━━━━━━━━━━━━\u001b[0m\u001b[37m\u001b[0m \u001b[1m2s\u001b[0m 34ms/step - loss: 0.3163\n",
      "Epoch 12/15\n",
      "\u001b[1m43/43\u001b[0m \u001b[32m━━━━━━━━━━━━━━━━━━━━\u001b[0m\u001b[37m\u001b[0m \u001b[1m1s\u001b[0m 28ms/step - loss: 0.3222\n",
      "Epoch 13/15\n",
      "\u001b[1m43/43\u001b[0m \u001b[32m━━━━━━━━━━━━━━━━━━━━\u001b[0m\u001b[37m\u001b[0m \u001b[1m1s\u001b[0m 29ms/step - loss: 0.2786\n",
      "Epoch 14/15\n",
      "\u001b[1m43/43\u001b[0m \u001b[32m━━━━━━━━━━━━━━━━━━━━\u001b[0m\u001b[37m\u001b[0m \u001b[1m1s\u001b[0m 31ms/step - loss: 0.2637\n",
      "Epoch 15/15\n",
      "\u001b[1m43/43\u001b[0m \u001b[32m━━━━━━━━━━━━━━━━━━━━\u001b[0m\u001b[37m\u001b[0m \u001b[1m1s\u001b[0m 27ms/step - loss: 0.2506\n"
     ]
    },
    {
     "data": {
      "text/plain": [
       "<keras.src.callbacks.history.History at 0x2085de0f3d0>"
      ]
     },
     "execution_count": 20,
     "metadata": {},
     "output_type": "execute_result"
    }
   ],
   "source": [
    "# Prepare the data\n",
    "user_input_data = train_df['user_id'].values\n",
    "movie_input_data = train_df['movie_id'].values\n",
    "ratings_data = train_df['rating'].values\n",
    "\n",
    "# Train the model\n",
    "model.fit([user_input_data, movie_input_data], ratings_data, epochs=15, batch_size=32)"
   ]
  },
  {
   "cell_type": "markdown",
   "id": "c8a73353-0e66-4a2a-86e0-684f0a92a207",
   "metadata": {},
   "source": [
    "## Evaluation"
   ]
  },
  {
   "cell_type": "code",
   "execution_count": 22,
   "id": "17219cb2-1a5d-4fc3-9716-dba74a57d8f3",
   "metadata": {},
   "outputs": [
    {
     "name": "stdout",
     "output_type": "stream",
     "text": [
      "Test Loss (Mean Squared Error): 2.3623435497283936\n"
     ]
    }
   ],
   "source": [
    "user_test = test_df['user_id'].values\n",
    "movie_test = test_df['movie_id'].values\n",
    "actual_ratings = test_df['rating'].values\n",
    "\n",
    "# Get predictions from the model\n",
    "test_loss = model.evaluate([user_test, movie_test], actual_ratings, verbose=0)\n",
    "print(f'Test Loss (Mean Squared Error): {test_loss}')"
   ]
  },
  {
   "cell_type": "code",
   "execution_count": 23,
   "id": "d7c151e3-fd50-46a0-b318-fd105a13c856",
   "metadata": {},
   "outputs": [
    {
     "name": "stdout",
     "output_type": "stream",
     "text": [
      "\u001b[1m1/1\u001b[0m \u001b[32m━━━━━━━━━━━━━━━━━━━━\u001b[0m\u001b[37m\u001b[0m \u001b[1m0s\u001b[0m 147ms/step\n",
      "Predicted rating for user 1 and movie 3: 3.2203845977783203\n"
     ]
    }
   ],
   "source": [
    "# Predict rating for a specific user and movie\n",
    "user_id = 1\n",
    "movie_id = 3\n",
    "predicted_rating = model.predict([np.array([user_id]), np.array([movie_id])])\n",
    "print(f'Predicted rating for user {user_id} and movie {movie_id}: {predicted_rating[0][0]}')"
   ]
  },
  {
   "cell_type": "code",
   "execution_count": 24,
   "id": "f605d7b1-f4d0-44be-bb75-55c606e0655f",
   "metadata": {},
   "outputs": [
    {
     "name": "stdout",
     "output_type": "stream",
     "text": [
      "\u001b[1m44/44\u001b[0m \u001b[32m━━━━━━━━━━━━━━━━━━━━\u001b[0m\u001b[37m\u001b[0m \u001b[1m0s\u001b[0m 5ms/step\n",
      "Top 10 recommended movies for User 1\n"
     ]
    },
    {
     "data": {
      "text/html": [
       "<div>\n",
       "<style scoped>\n",
       "    .dataframe tbody tr th:only-of-type {\n",
       "        vertical-align: middle;\n",
       "    }\n",
       "\n",
       "    .dataframe tbody tr th {\n",
       "        vertical-align: top;\n",
       "    }\n",
       "\n",
       "    .dataframe thead th {\n",
       "        text-align: right;\n",
       "    }\n",
       "</style>\n",
       "<table border=\"1\" class=\"dataframe\">\n",
       "  <thead>\n",
       "    <tr style=\"text-align: right;\">\n",
       "      <th></th>\n",
       "      <th>movie_id</th>\n",
       "      <th>predicted_rating</th>\n",
       "      <th>overview</th>\n",
       "      <th>title</th>\n",
       "    </tr>\n",
       "  </thead>\n",
       "  <tbody>\n",
       "    <tr>\n",
       "      <th>688</th>\n",
       "      <td>14120</td>\n",
       "      <td>5.0</td>\n",
       "      <td>\"End of the Spear\" is the story of Mincayani, ...</td>\n",
       "      <td>End of the Spear</td>\n",
       "    </tr>\n",
       "    <tr>\n",
       "      <th>324</th>\n",
       "      <td>8457</td>\n",
       "      <td>5.0</td>\n",
       "      <td>Three kids hire a low-budget bodyguard to prot...</td>\n",
       "      <td>Drillbit Taylor</td>\n",
       "    </tr>\n",
       "    <tr>\n",
       "      <th>1044</th>\n",
       "      <td>55903</td>\n",
       "      <td>5.0</td>\n",
       "      <td>Grieving after the death of her young son Jose...</td>\n",
       "      <td>Betty Fisher and Other Stories</td>\n",
       "    </tr>\n",
       "    <tr>\n",
       "      <th>745</th>\n",
       "      <td>16471</td>\n",
       "      <td>5.0</td>\n",
       "      <td>Jealous, harried air traffic controller Max Fi...</td>\n",
       "      <td>Modern Problems</td>\n",
       "    </tr>\n",
       "    <tr>\n",
       "      <th>723</th>\n",
       "      <td>15208</td>\n",
       "      <td>5.0</td>\n",
       "      <td>Bathory is based on the legends surrounding th...</td>\n",
       "      <td>Bathory: Countess of Blood</td>\n",
       "    </tr>\n",
       "    <tr>\n",
       "      <th>238</th>\n",
       "      <td>4133</td>\n",
       "      <td>5.0</td>\n",
       "      <td>A boy named George Jung grows up in a struggli...</td>\n",
       "      <td>Blow</td>\n",
       "    </tr>\n",
       "    <tr>\n",
       "      <th>960</th>\n",
       "      <td>39833</td>\n",
       "      <td>5.0</td>\n",
       "      <td>Elvis Prestley's first film is a Civil War drama.</td>\n",
       "      <td>Love Me Tender</td>\n",
       "    </tr>\n",
       "    <tr>\n",
       "      <th>314</th>\n",
       "      <td>8202</td>\n",
       "      <td>5.0</td>\n",
       "      <td>400 years into the future, disease has wiped o...</td>\n",
       "      <td>Æon Flux</td>\n",
       "    </tr>\n",
       "    <tr>\n",
       "      <th>899</th>\n",
       "      <td>31867</td>\n",
       "      <td>5.0</td>\n",
       "      <td>In the future, medical technology has advanced...</td>\n",
       "      <td>Repo Men</td>\n",
       "    </tr>\n",
       "    <tr>\n",
       "      <th>1211</th>\n",
       "      <td>157547</td>\n",
       "      <td>5.0</td>\n",
       "      <td>A woman tries to exonerate her brother's murde...</td>\n",
       "      <td>Oculus</td>\n",
       "    </tr>\n",
       "  </tbody>\n",
       "</table>\n",
       "</div>"
      ],
      "text/plain": [
       "      movie_id  predicted_rating  \\\n",
       "688      14120               5.0   \n",
       "324       8457               5.0   \n",
       "1044     55903               5.0   \n",
       "745      16471               5.0   \n",
       "723      15208               5.0   \n",
       "238       4133               5.0   \n",
       "960      39833               5.0   \n",
       "314       8202               5.0   \n",
       "899      31867               5.0   \n",
       "1211    157547               5.0   \n",
       "\n",
       "                                               overview  \\\n",
       "688   \"End of the Spear\" is the story of Mincayani, ...   \n",
       "324   Three kids hire a low-budget bodyguard to prot...   \n",
       "1044  Grieving after the death of her young son Jose...   \n",
       "745   Jealous, harried air traffic controller Max Fi...   \n",
       "723   Bathory is based on the legends surrounding th...   \n",
       "238   A boy named George Jung grows up in a struggli...   \n",
       "960   Elvis Prestley's first film is a Civil War drama.   \n",
       "314   400 years into the future, disease has wiped o...   \n",
       "899   In the future, medical technology has advanced...   \n",
       "1211  A woman tries to exonerate her brother's murde...   \n",
       "\n",
       "                               title  \n",
       "688                 End of the Spear  \n",
       "324                  Drillbit Taylor  \n",
       "1044  Betty Fisher and Other Stories  \n",
       "745                  Modern Problems  \n",
       "723       Bathory: Countess of Blood  \n",
       "238                             Blow  \n",
       "960                   Love Me Tender  \n",
       "314                         Æon Flux  \n",
       "899                         Repo Men  \n",
       "1211                          Oculus  "
      ]
     },
     "execution_count": 24,
     "metadata": {},
     "output_type": "execute_result"
    }
   ],
   "source": [
    "# User ID for whom we want to recommend movies\n",
    "user_id = 1 \n",
    "\n",
    "# List of all movie IDs (existing movies in the dataset)\n",
    "all_movie_ids = ratings_df['movie_id'].unique()\n",
    "\n",
    "# Get the list of movies the user has already rated\n",
    "rated_movie_ids = ratings_df[ratings_df['user_id'] == user_id]['movie_id'].values\n",
    "\n",
    "# Get the list of movies the user has not rated\n",
    "unrated_movie_ids = np.setdiff1d(all_movie_ids, rated_movie_ids)\n",
    "\n",
    "# Predict ratings for all unrated movies\n",
    "user_input = np.array([user_id] * len(unrated_movie_ids))  # Create an array of the same user_id\n",
    "movie_input = unrated_movie_ids  # The unrated movie IDs\n",
    "\n",
    "# Predict ratings for all unrated movies\n",
    "predicted_ratings = model.predict([user_input, movie_input])\n",
    "\n",
    "# Create a DataFrame to hold movie IDs and their predicted ratings\n",
    "predicted_ratings_df = pd.DataFrame({\n",
    "    'movie_id': unrated_movie_ids,\n",
    "    'predicted_rating': np.clip(predicted_ratings.flatten(), 1, 5)  # Flatten and clip\n",
    "})\n",
    "\n",
    "merged_df = pd.merge(predicted_ratings_df, movies_df, how='inner', left_on='movie_id', right_on='id')\n",
    "merged_df = merged_df.drop(columns=['id'])\n",
    "\n",
    "# Sort the DataFrame by predicted ratings in descending order\n",
    "top_10_movies = merged_df.sort_values(by='predicted_rating', ascending=False).head(10)\n",
    "\n",
    "# Display the top 10 recommended movies\n",
    "print(\"Top 10 recommended movies for User\", user_id)\n",
    "top_10_movies"
   ]
  },
  {
   "cell_type": "markdown",
   "id": "06bb8371-c521-416e-b55f-fa4d9fc47bc5",
   "metadata": {
    "jp-MarkdownHeadingCollapsed": true
   },
   "source": [
    "# Method 2: SVD (Single Value Decomposition)"
   ]
  },
  {
   "cell_type": "code",
   "execution_count": 27,
   "id": "c08bef39-405a-4ff0-923d-eaf6fe022d02",
   "metadata": {},
   "outputs": [],
   "source": [
    "from surprise import SVD, Dataset, Reader\n",
    "from surprise.model_selection import train_test_split\n",
    "from surprise import accuracy"
   ]
  },
  {
   "cell_type": "code",
   "execution_count": 28,
   "id": "344b5482-75c3-43b2-a876-65343ec98c11",
   "metadata": {},
   "outputs": [],
   "source": [
    "# Load data into surprise dataset format\n",
    "reader = Reader(rating_scale=(1, 5))  # Define the rating scale\n",
    "data = Dataset.load_from_df(ratings_df[['user_id', 'movie_id', 'rating']], reader)\n",
    "\n",
    "# Split the data into training and test sets\n",
    "trainset, testset = train_test_split(data, test_size=0.2)"
   ]
  },
  {
   "cell_type": "code",
   "execution_count": 33,
   "id": "7e2cfe9d-3797-428f-943d-e79bdcfeb2f7",
   "metadata": {},
   "outputs": [
    {
     "name": "stdout",
     "output_type": "stream",
     "text": [
      "MSE: 2.0080\n"
     ]
    }
   ],
   "source": [
    "# Train the SVD model\n",
    "svd = SVD()\n",
    "svd.fit(trainset)\n",
    "\n",
    "# Test the model on the test set\n",
    "predictions = svd.test(testset)\n",
    "\n",
    "# Calculate MSE\n",
    "mse = accuracy.mse(predictions)"
   ]
  },
  {
   "cell_type": "code",
   "execution_count": 34,
   "id": "5526a459-379b-4f52-a2c9-ae68480917d8",
   "metadata": {},
   "outputs": [
    {
     "name": "stdout",
     "output_type": "stream",
     "text": [
      "Predicted rating for user 1 and movie 3: 3.1608976598783105\n"
     ]
    }
   ],
   "source": [
    "# Predict the rating for a specific user and movie\n",
    "user_id = 1\n",
    "movie_id = 3\n",
    "\n",
    "# Predict the rating for user 1 and movie 3\n",
    "predicted_rating = svd.predict(user_id, movie_id)\n",
    "print(f\"Predicted rating for user {user_id} and movie {movie_id}: {predicted_rating.est}\")"
   ]
  },
  {
   "cell_type": "code",
   "execution_count": 35,
   "id": "8c6dbfb9-b860-4177-b9b9-5288540f5c58",
   "metadata": {},
   "outputs": [
    {
     "name": "stdout",
     "output_type": "stream",
     "text": [
      "Top 10 recommended movies for User 1\n"
     ]
    },
    {
     "data": {
      "text/html": [
       "<div>\n",
       "<style scoped>\n",
       "    .dataframe tbody tr th:only-of-type {\n",
       "        vertical-align: middle;\n",
       "    }\n",
       "\n",
       "    .dataframe tbody tr th {\n",
       "        vertical-align: top;\n",
       "    }\n",
       "\n",
       "    .dataframe thead th {\n",
       "        text-align: right;\n",
       "    }\n",
       "</style>\n",
       "<table border=\"1\" class=\"dataframe\">\n",
       "  <thead>\n",
       "    <tr style=\"text-align: right;\">\n",
       "      <th></th>\n",
       "      <th>movie_id</th>\n",
       "      <th>predicted_rating</th>\n",
       "      <th>overview</th>\n",
       "      <th>title</th>\n",
       "    </tr>\n",
       "  </thead>\n",
       "  <tbody>\n",
       "    <tr>\n",
       "      <th>56</th>\n",
       "      <td>348</td>\n",
       "      <td>3.754627</td>\n",
       "      <td>During its return to the earth, commercial spa...</td>\n",
       "      <td>Alien</td>\n",
       "    </tr>\n",
       "    <tr>\n",
       "      <th>754</th>\n",
       "      <td>17113</td>\n",
       "      <td>3.687763</td>\n",
       "      <td>Jack Slavin is an environmentalist with a hear...</td>\n",
       "      <td>The Ballad of Jack and Rose</td>\n",
       "    </tr>\n",
       "    <tr>\n",
       "      <th>423</th>\n",
       "      <td>9672</td>\n",
       "      <td>3.653246</td>\n",
       "      <td>While researching his book In Cold Blood, writ...</td>\n",
       "      <td>Infamous</td>\n",
       "    </tr>\n",
       "    <tr>\n",
       "      <th>775</th>\n",
       "      <td>18713</td>\n",
       "      <td>3.648717</td>\n",
       "      <td>When two unemployed telephone pranksters decid...</td>\n",
       "      <td>The Jerky Boys</td>\n",
       "    </tr>\n",
       "    <tr>\n",
       "      <th>53</th>\n",
       "      <td>331</td>\n",
       "      <td>3.630204</td>\n",
       "      <td>In need of funds for research, Dr. Alan Grant ...</td>\n",
       "      <td>Jurassic Park III</td>\n",
       "    </tr>\n",
       "    <tr>\n",
       "      <th>690</th>\n",
       "      <td>14177</td>\n",
       "      <td>3.627733</td>\n",
       "      <td>You thought you'd heard it all in the barbersh...</td>\n",
       "      <td>Beauty Shop</td>\n",
       "    </tr>\n",
       "    <tr>\n",
       "      <th>911</th>\n",
       "      <td>34417</td>\n",
       "      <td>3.599203</td>\n",
       "      <td>Meet Etta Milford. Loving Wife. Doting Mother....</td>\n",
       "      <td>Good Intentions</td>\n",
       "    </tr>\n",
       "    <tr>\n",
       "      <th>1352</th>\n",
       "      <td>327833</td>\n",
       "      <td>3.596378</td>\n",
       "      <td>After his family is killed by a Serbian gangst...</td>\n",
       "      <td>Skin Trade</td>\n",
       "    </tr>\n",
       "    <tr>\n",
       "      <th>1134</th>\n",
       "      <td>85446</td>\n",
       "      <td>3.577366</td>\n",
       "      <td>Emily arrives in Miami with aspirations to bec...</td>\n",
       "      <td>Step Up Revolution</td>\n",
       "    </tr>\n",
       "    <tr>\n",
       "      <th>836</th>\n",
       "      <td>24206</td>\n",
       "      <td>3.575295</td>\n",
       "      <td>Waxman is a former Special Forces soldier who ...</td>\n",
       "      <td>Silent Trigger</td>\n",
       "    </tr>\n",
       "  </tbody>\n",
       "</table>\n",
       "</div>"
      ],
      "text/plain": [
       "      movie_id  predicted_rating  \\\n",
       "56         348          3.754627   \n",
       "754      17113          3.687763   \n",
       "423       9672          3.653246   \n",
       "775      18713          3.648717   \n",
       "53         331          3.630204   \n",
       "690      14177          3.627733   \n",
       "911      34417          3.599203   \n",
       "1352    327833          3.596378   \n",
       "1134     85446          3.577366   \n",
       "836      24206          3.575295   \n",
       "\n",
       "                                               overview  \\\n",
       "56    During its return to the earth, commercial spa...   \n",
       "754   Jack Slavin is an environmentalist with a hear...   \n",
       "423   While researching his book In Cold Blood, writ...   \n",
       "775   When two unemployed telephone pranksters decid...   \n",
       "53    In need of funds for research, Dr. Alan Grant ...   \n",
       "690   You thought you'd heard it all in the barbersh...   \n",
       "911   Meet Etta Milford. Loving Wife. Doting Mother....   \n",
       "1352  After his family is killed by a Serbian gangst...   \n",
       "1134  Emily arrives in Miami with aspirations to bec...   \n",
       "836   Waxman is a former Special Forces soldier who ...   \n",
       "\n",
       "                            title  \n",
       "56                          Alien  \n",
       "754   The Ballad of Jack and Rose  \n",
       "423                      Infamous  \n",
       "775                The Jerky Boys  \n",
       "53              Jurassic Park III  \n",
       "690                   Beauty Shop  \n",
       "911               Good Intentions  \n",
       "1352                   Skin Trade  \n",
       "1134           Step Up Revolution  \n",
       "836                Silent Trigger  "
      ]
     },
     "execution_count": 35,
     "metadata": {},
     "output_type": "execute_result"
    }
   ],
   "source": [
    "# User ID for whom we want to recommend movies\n",
    "user_id = 1 \n",
    "\n",
    "# List of all movie IDs (existing movies in the dataset)\n",
    "all_movie_ids = ratings_df['movie_id'].unique()\n",
    "\n",
    "# Get the list of movies the user has already rated\n",
    "rated_movie_ids = ratings_df[ratings_df['user_id'] == user_id]['movie_id'].values\n",
    "\n",
    "# Get the list of movies the user has not rated\n",
    "unrated_movie_ids = np.setdiff1d(all_movie_ids, rated_movie_ids)\n",
    "\n",
    "# Generate predictions\n",
    "predicted_ratings = [svd.predict(user_id, movie_id).est for movie_id in unrated_movie_ids]\n",
    "\n",
    "# Create a DataFrame to hold movie IDs and their predicted ratings\n",
    "predicted_ratings_df = pd.DataFrame({\n",
    "    'movie_id': unrated_movie_ids,\n",
    "    'predicted_rating': np.clip(predicted_ratings, 1, 5)  # Flatten and clip\n",
    "})\n",
    "\n",
    "merged_df = pd.merge(predicted_ratings_df, movies_df, how='inner', left_on='movie_id', right_on='id')\n",
    "merged_df = merged_df.drop(columns=['id'])\n",
    "\n",
    "# Sort the DataFrame by predicted ratings in descending order\n",
    "top_10_movies = merged_df.sort_values(by='predicted_rating', ascending=False).head(10)\n",
    "\n",
    "# Display the top 10 recommended movies\n",
    "print(\"Top 10 recommended movies for User\", user_id)\n",
    "top_10_movies"
   ]
  }
 ],
 "metadata": {
  "kernelspec": {
   "display_name": "tf",
   "language": "python",
   "name": "tf"
  },
  "language_info": {
   "codemirror_mode": {
    "name": "ipython",
    "version": 3
   },
   "file_extension": ".py",
   "mimetype": "text/x-python",
   "name": "python",
   "nbconvert_exporter": "python",
   "pygments_lexer": "ipython3",
   "version": "3.11.5"
  }
 },
 "nbformat": 4,
 "nbformat_minor": 5
}
