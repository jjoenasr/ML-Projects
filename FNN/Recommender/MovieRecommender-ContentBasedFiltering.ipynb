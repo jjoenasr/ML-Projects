{
 "cells": [
  {
   "cell_type": "markdown",
   "id": "9b46b1cd-33d1-469e-8548-9ba2e3ca14b8",
   "metadata": {
    "jp-MarkdownHeadingCollapsed": true
   },
   "source": [
    "# Method 1: Semantic Vector Search"
   ]
  },
  {
   "cell_type": "code",
   "execution_count": 10,
   "id": "e2726dbc-cfa3-46fc-8126-58c3a667babe",
   "metadata": {},
   "outputs": [],
   "source": [
    "import numpy as np\n",
    "import pandas as pd\n",
    "import json\n",
    "import google.generativeai as genai\n",
    "import os\n",
    "from tqdm.notebook import tqdm\n",
    "import faiss\n",
    "from pinecone import Pinecone, ServerlessSpec\n",
    "import time"
   ]
  },
  {
   "cell_type": "markdown",
   "id": "5c16e47c-732b-4b06-9f04-bb30ac734b13",
   "metadata": {
    "jp-MarkdownHeadingCollapsed": true
   },
   "source": [
    "## Data Preprocessing"
   ]
  },
  {
   "cell_type": "code",
   "execution_count": 2,
   "id": "ad1349db-8d8f-45de-b6af-8ea10dc6dce1",
   "metadata": {},
   "outputs": [
    {
     "data": {
      "text/html": [
       "<div>\n",
       "<style scoped>\n",
       "    .dataframe tbody tr th:only-of-type {\n",
       "        vertical-align: middle;\n",
       "    }\n",
       "\n",
       "    .dataframe tbody tr th {\n",
       "        vertical-align: top;\n",
       "    }\n",
       "\n",
       "    .dataframe thead th {\n",
       "        text-align: right;\n",
       "    }\n",
       "</style>\n",
       "<table border=\"1\" class=\"dataframe\">\n",
       "  <thead>\n",
       "    <tr style=\"text-align: right;\">\n",
       "      <th></th>\n",
       "      <th>id</th>\n",
       "      <th>title</th>\n",
       "      <th>overview</th>\n",
       "      <th>genres</th>\n",
       "      <th>popularity</th>\n",
       "      <th>release_date</th>\n",
       "      <th>runtime</th>\n",
       "    </tr>\n",
       "  </thead>\n",
       "  <tbody>\n",
       "    <tr>\n",
       "      <th>0</th>\n",
       "      <td>19995</td>\n",
       "      <td>Avatar</td>\n",
       "      <td>In the 22nd century, a paraplegic Marine is di...</td>\n",
       "      <td>Action, Adventure, Fantasy, Science Fiction</td>\n",
       "      <td>150.437577</td>\n",
       "      <td>2009-12-10</td>\n",
       "      <td>162.0</td>\n",
       "    </tr>\n",
       "    <tr>\n",
       "      <th>1</th>\n",
       "      <td>285</td>\n",
       "      <td>Pirates of the Caribbean: At World's End</td>\n",
       "      <td>Captain Barbossa, long believed to be dead, ha...</td>\n",
       "      <td>Adventure, Fantasy, Action</td>\n",
       "      <td>139.082615</td>\n",
       "      <td>2007-05-19</td>\n",
       "      <td>169.0</td>\n",
       "    </tr>\n",
       "    <tr>\n",
       "      <th>2</th>\n",
       "      <td>206647</td>\n",
       "      <td>Spectre</td>\n",
       "      <td>A cryptic message from Bond’s past sends him o...</td>\n",
       "      <td>Action, Adventure, Crime</td>\n",
       "      <td>107.376788</td>\n",
       "      <td>2015-10-26</td>\n",
       "      <td>148.0</td>\n",
       "    </tr>\n",
       "    <tr>\n",
       "      <th>3</th>\n",
       "      <td>49026</td>\n",
       "      <td>The Dark Knight Rises</td>\n",
       "      <td>Following the death of District Attorney Harve...</td>\n",
       "      <td>Action, Crime, Drama, Thriller</td>\n",
       "      <td>112.312950</td>\n",
       "      <td>2012-07-16</td>\n",
       "      <td>165.0</td>\n",
       "    </tr>\n",
       "    <tr>\n",
       "      <th>4</th>\n",
       "      <td>49529</td>\n",
       "      <td>John Carter</td>\n",
       "      <td>John Carter is a war-weary, former military ca...</td>\n",
       "      <td>Action, Adventure, Science Fiction</td>\n",
       "      <td>43.926995</td>\n",
       "      <td>2012-03-07</td>\n",
       "      <td>132.0</td>\n",
       "    </tr>\n",
       "  </tbody>\n",
       "</table>\n",
       "</div>"
      ],
      "text/plain": [
       "       id                                     title  \\\n",
       "0   19995                                    Avatar   \n",
       "1     285  Pirates of the Caribbean: At World's End   \n",
       "2  206647                                   Spectre   \n",
       "3   49026                     The Dark Knight Rises   \n",
       "4   49529                               John Carter   \n",
       "\n",
       "                                            overview  \\\n",
       "0  In the 22nd century, a paraplegic Marine is di...   \n",
       "1  Captain Barbossa, long believed to be dead, ha...   \n",
       "2  A cryptic message from Bond’s past sends him o...   \n",
       "3  Following the death of District Attorney Harve...   \n",
       "4  John Carter is a war-weary, former military ca...   \n",
       "\n",
       "                                        genres  popularity release_date  \\\n",
       "0  Action, Adventure, Fantasy, Science Fiction  150.437577   2009-12-10   \n",
       "1                   Adventure, Fantasy, Action  139.082615   2007-05-19   \n",
       "2                     Action, Adventure, Crime  107.376788   2015-10-26   \n",
       "3               Action, Crime, Drama, Thriller  112.312950   2012-07-16   \n",
       "4           Action, Adventure, Science Fiction   43.926995   2012-03-07   \n",
       "\n",
       "   runtime  \n",
       "0    162.0  \n",
       "1    169.0  \n",
       "2    148.0  \n",
       "3    165.0  \n",
       "4    132.0  "
      ]
     },
     "execution_count": 2,
     "metadata": {},
     "output_type": "execute_result"
    }
   ],
   "source": [
    "df = pd.read_csv('../../datasets/tmdb_5000_movies.csv',)\n",
    "df = df[['id','title','overview','genres','popularity','release_date','runtime']]\n",
    "\n",
    "df['release_date'] = pd.to_datetime(df['release_date'])\n",
    "\n",
    "def extract_genres(genre_json):\n",
    "    # Parse the JSON string into a list\n",
    "    genres = json.loads(genre_json)\n",
    "    # Extract the 'name' field and join with a comma\n",
    "    return ', '.join(genre['name'] for genre in genres)\n",
    "\n",
    "df['genres'] = df['genres'].apply(extract_genres)\n",
    "\n",
    "df.head()"
   ]
  },
  {
   "cell_type": "code",
   "execution_count": 3,
   "id": "592d4c43-4716-41a6-8ef9-cd686ca4d039",
   "metadata": {},
   "outputs": [
    {
     "data": {
      "text/html": [
       "<div>\n",
       "<style scoped>\n",
       "    .dataframe tbody tr th:only-of-type {\n",
       "        vertical-align: middle;\n",
       "    }\n",
       "\n",
       "    .dataframe tbody tr th {\n",
       "        vertical-align: top;\n",
       "    }\n",
       "\n",
       "    .dataframe thead th {\n",
       "        text-align: right;\n",
       "    }\n",
       "</style>\n",
       "<table border=\"1\" class=\"dataframe\">\n",
       "  <thead>\n",
       "    <tr style=\"text-align: right;\">\n",
       "      <th></th>\n",
       "      <th>id</th>\n",
       "      <th>title</th>\n",
       "      <th>overview</th>\n",
       "      <th>genres</th>\n",
       "      <th>popularity</th>\n",
       "      <th>release_date</th>\n",
       "      <th>runtime</th>\n",
       "    </tr>\n",
       "  </thead>\n",
       "  <tbody>\n",
       "    <tr>\n",
       "      <th>262</th>\n",
       "      <td>120</td>\n",
       "      <td>The Lord of the Rings: The Fellowship of the Ring</td>\n",
       "      <td>Young hobbit Frodo Baggins, after inheriting a...</td>\n",
       "      <td>Adventure, Fantasy, Action</td>\n",
       "      <td>138.049577</td>\n",
       "      <td>2001-12-18</td>\n",
       "      <td>178.0</td>\n",
       "    </tr>\n",
       "    <tr>\n",
       "      <th>634</th>\n",
       "      <td>603</td>\n",
       "      <td>The Matrix</td>\n",
       "      <td>Set in the 22nd century, The Matrix tells the ...</td>\n",
       "      <td>Action, Science Fiction</td>\n",
       "      <td>104.309993</td>\n",
       "      <td>1999-03-30</td>\n",
       "      <td>136.0</td>\n",
       "    </tr>\n",
       "    <tr>\n",
       "      <th>197</th>\n",
       "      <td>671</td>\n",
       "      <td>Harry Potter and the Philosopher's Stone</td>\n",
       "      <td>Harry Potter has lived under the stairs at his...</td>\n",
       "      <td>Adventure, Fantasy, Family</td>\n",
       "      <td>109.984351</td>\n",
       "      <td>2001-11-16</td>\n",
       "      <td>152.0</td>\n",
       "    </tr>\n",
       "    <tr>\n",
       "      <th>1881</th>\n",
       "      <td>278</td>\n",
       "      <td>The Shawshank Redemption</td>\n",
       "      <td>Framed in the 1940s for the double murder of h...</td>\n",
       "      <td>Drama, Crime</td>\n",
       "      <td>136.747729</td>\n",
       "      <td>1994-09-23</td>\n",
       "      <td>142.0</td>\n",
       "    </tr>\n",
       "    <tr>\n",
       "      <th>1465</th>\n",
       "      <td>198663</td>\n",
       "      <td>The Maze Runner</td>\n",
       "      <td>Set in a post-apocalyptic world, young Thomas ...</td>\n",
       "      <td>Action, Mystery, Science Fiction, Thriller</td>\n",
       "      <td>131.815575</td>\n",
       "      <td>2014-09-10</td>\n",
       "      <td>113.0</td>\n",
       "    </tr>\n",
       "    <tr>\n",
       "      <th>514</th>\n",
       "      <td>950</td>\n",
       "      <td>Ice Age: The Meltdown</td>\n",
       "      <td>Diego, Manny and Sid return in this sequel to ...</td>\n",
       "      <td>Animation, Family, Comedy, Adventure</td>\n",
       "      <td>85.115058</td>\n",
       "      <td>2006-03-23</td>\n",
       "      <td>91.0</td>\n",
       "    </tr>\n",
       "    <tr>\n",
       "      <th>662</th>\n",
       "      <td>550</td>\n",
       "      <td>Fight Club</td>\n",
       "      <td>A ticking-time-bomb insomniac and a slippery s...</td>\n",
       "      <td>Drama</td>\n",
       "      <td>146.757391</td>\n",
       "      <td>1999-10-15</td>\n",
       "      <td>139.0</td>\n",
       "    </tr>\n",
       "    <tr>\n",
       "      <th>506</th>\n",
       "      <td>93456</td>\n",
       "      <td>Despicable Me 2</td>\n",
       "      <td>Gru is recruited by the Anti-Villain League to...</td>\n",
       "      <td>Animation, Comedy, Family</td>\n",
       "      <td>136.886704</td>\n",
       "      <td>2013-06-25</td>\n",
       "      <td>98.0</td>\n",
       "    </tr>\n",
       "    <tr>\n",
       "      <th>17</th>\n",
       "      <td>1865</td>\n",
       "      <td>Pirates of the Caribbean: On Stranger Tides</td>\n",
       "      <td>Captain Jack Sparrow crosses paths with a woma...</td>\n",
       "      <td>Adventure, Action, Fantasy</td>\n",
       "      <td>135.413856</td>\n",
       "      <td>2011-05-14</td>\n",
       "      <td>136.0</td>\n",
       "    </tr>\n",
       "    <tr>\n",
       "      <th>2731</th>\n",
       "      <td>240</td>\n",
       "      <td>The Godfather: Part II</td>\n",
       "      <td>In the continuing saga of the Corleone crime f...</td>\n",
       "      <td>Drama, Crime</td>\n",
       "      <td>105.792936</td>\n",
       "      <td>1974-12-20</td>\n",
       "      <td>200.0</td>\n",
       "    </tr>\n",
       "  </tbody>\n",
       "</table>\n",
       "</div>"
      ],
      "text/plain": [
       "          id                                              title  \\\n",
       "262      120  The Lord of the Rings: The Fellowship of the Ring   \n",
       "634      603                                         The Matrix   \n",
       "197      671           Harry Potter and the Philosopher's Stone   \n",
       "1881     278                           The Shawshank Redemption   \n",
       "1465  198663                                    The Maze Runner   \n",
       "514      950                              Ice Age: The Meltdown   \n",
       "662      550                                         Fight Club   \n",
       "506    93456                                    Despicable Me 2   \n",
       "17      1865        Pirates of the Caribbean: On Stranger Tides   \n",
       "2731     240                             The Godfather: Part II   \n",
       "\n",
       "                                               overview  \\\n",
       "262   Young hobbit Frodo Baggins, after inheriting a...   \n",
       "634   Set in the 22nd century, The Matrix tells the ...   \n",
       "197   Harry Potter has lived under the stairs at his...   \n",
       "1881  Framed in the 1940s for the double murder of h...   \n",
       "1465  Set in a post-apocalyptic world, young Thomas ...   \n",
       "514   Diego, Manny and Sid return in this sequel to ...   \n",
       "662   A ticking-time-bomb insomniac and a slippery s...   \n",
       "506   Gru is recruited by the Anti-Villain League to...   \n",
       "17    Captain Jack Sparrow crosses paths with a woma...   \n",
       "2731  In the continuing saga of the Corleone crime f...   \n",
       "\n",
       "                                          genres  popularity release_date  \\\n",
       "262                   Adventure, Fantasy, Action  138.049577   2001-12-18   \n",
       "634                      Action, Science Fiction  104.309993   1999-03-30   \n",
       "197                   Adventure, Fantasy, Family  109.984351   2001-11-16   \n",
       "1881                                Drama, Crime  136.747729   1994-09-23   \n",
       "1465  Action, Mystery, Science Fiction, Thriller  131.815575   2014-09-10   \n",
       "514         Animation, Family, Comedy, Adventure   85.115058   2006-03-23   \n",
       "662                                        Drama  146.757391   1999-10-15   \n",
       "506                    Animation, Comedy, Family  136.886704   2013-06-25   \n",
       "17                    Adventure, Action, Fantasy  135.413856   2011-05-14   \n",
       "2731                                Drama, Crime  105.792936   1974-12-20   \n",
       "\n",
       "      runtime  \n",
       "262     178.0  \n",
       "634     136.0  \n",
       "197     152.0  \n",
       "1881    142.0  \n",
       "1465    113.0  \n",
       "514      91.0  \n",
       "662     139.0  \n",
       "506      98.0  \n",
       "17      136.0  \n",
       "2731    200.0  "
      ]
     },
     "execution_count": 3,
     "metadata": {},
     "output_type": "execute_result"
    }
   ],
   "source": [
    "df = df.sort_values(by='popularity', ascending=False).head(150)\n",
    "df.sample(10)"
   ]
  },
  {
   "cell_type": "code",
   "execution_count": 4,
   "id": "814fc464-398d-4f50-9803-6776b25ff365",
   "metadata": {},
   "outputs": [
    {
     "data": {
      "text/plain": [
       "id              0\n",
       "title           0\n",
       "overview        0\n",
       "genres          0\n",
       "popularity      0\n",
       "release_date    0\n",
       "runtime         0\n",
       "dtype: int64"
      ]
     },
     "execution_count": 4,
     "metadata": {},
     "output_type": "execute_result"
    }
   ],
   "source": [
    "df.isnull().sum()"
   ]
  },
  {
   "cell_type": "code",
   "execution_count": 5,
   "id": "1367a8e9-1f46-4e86-b4b3-2e7586c8480b",
   "metadata": {},
   "outputs": [
    {
     "data": {
      "text/plain": [
       "id                       int64\n",
       "title                   object\n",
       "overview                object\n",
       "genres                  object\n",
       "popularity             float64\n",
       "release_date    datetime64[ns]\n",
       "runtime                float64\n",
       "dtype: object"
      ]
     },
     "execution_count": 5,
     "metadata": {},
     "output_type": "execute_result"
    }
   ],
   "source": [
    "df.dtypes"
   ]
  },
  {
   "cell_type": "markdown",
   "id": "52d367b1-1f96-41bc-a6d4-8f4dc78ae491",
   "metadata": {
    "jp-MarkdownHeadingCollapsed": true
   },
   "source": [
    "## Gemini Embedding Model"
   ]
  },
  {
   "cell_type": "code",
   "execution_count": 6,
   "id": "21b8de06-5356-40c0-a095-225ec6938955",
   "metadata": {},
   "outputs": [
    {
     "name": "stdout",
     "output_type": "stream",
     "text": [
      "models/embedding-001\n",
      "models/text-embedding-004\n"
     ]
    }
   ],
   "source": [
    "genai.configure(api_key=os.getenv('GOOGLE_API_KEY'))\n",
    "\n",
    "for m in genai.list_models():\n",
    "  if 'embedContent' in m.supported_generation_methods:\n",
    "    print(m.name)"
   ]
  },
  {
   "cell_type": "code",
   "execution_count": 7,
   "id": "fb90f175-7a18-49ff-9e92-31994cddb63c",
   "metadata": {},
   "outputs": [],
   "source": [
    "def embed_fn(title, text, model='models/text-embedding-004'):\n",
    "  return genai.embed_content(model=model,\n",
    "                             title = title,\n",
    "                             content=text,\n",
    "                             task_type=\"retrieval_document\")[\"embedding\"]\n",
    "\n",
    "def embed_fn2(text, model='models/text-embedding-004'):\n",
    "  return genai.embed_content(model=model,\n",
    "                             content=text,\n",
    "                             task_type=\"retrieval_query\")[\"embedding\"]\n"
   ]
  },
  {
   "cell_type": "code",
   "execution_count": 8,
   "id": "77fabf6a-ef21-44c9-b72a-80b99e92bb56",
   "metadata": {},
   "outputs": [
    {
     "name": "stdout",
     "output_type": "stream",
     "text": [
      "768 [-0.013676994, 0.007881582, -0.045579694, 0.05037779, -0.02828522]\n"
     ]
    }
   ],
   "source": [
    "test_emb = embed_fn2(\"Somewhere, you'll grow up and u'll be the savior of the broken, the beaten and the damned.\")\n",
    "print(len(test_emb), test_emb[:5])"
   ]
  },
  {
   "cell_type": "code",
   "execution_count": 9,
   "id": "24a6fcb8-1bbd-4195-943e-91df71ecab99",
   "metadata": {},
   "outputs": [
    {
     "data": {
      "application/vnd.jupyter.widget-view+json": {
       "model_id": "b1b443e146f640f8ba4115b670b6522c",
       "version_major": 2,
       "version_minor": 0
      },
      "text/plain": [
       "  0%|          | 0/150 [00:00<?, ?it/s]"
      ]
     },
     "metadata": {},
     "output_type": "display_data"
    }
   ],
   "source": [
    "tqdm.pandas()\n",
    "df['Embeddings'] = df.progress_apply(lambda row: embed_fn(row['title'], row['overview']), axis=1)"
   ]
  },
  {
   "cell_type": "markdown",
   "id": "6d65cec2-8f3b-4330-be60-91d9687d9217",
   "metadata": {
    "jp-MarkdownHeadingCollapsed": true
   },
   "source": [
    "## Pinecone Vector DB"
   ]
  },
  {
   "cell_type": "code",
   "execution_count": 19,
   "id": "e5b3d1df-5515-49cc-8a78-b30c45d2e37b",
   "metadata": {},
   "outputs": [],
   "source": [
    "pc = Pinecone(api_key=os.getenv('PINECONE_API_KEY'))"
   ]
  },
  {
   "cell_type": "code",
   "execution_count": 34,
   "id": "ec348c76-a1c8-4bb5-b680-994d3c757617",
   "metadata": {},
   "outputs": [],
   "source": [
    "index_name = \"test-index\"\n",
    "\n",
    "def get_or_create_index(index_name):\n",
    "    index_exists = any(index['name'] == index_name for index in pc.list_indexes().indexes)\n",
    "    \n",
    "    if not index_exists:\n",
    "        pc.create_index(\n",
    "            name=index_name,\n",
    "            dimension=768, # 1536\n",
    "            metric=\"cosine\",\n",
    "            spec=ServerlessSpec(\n",
    "                cloud=\"aws\",\n",
    "                region=\"us-east-1\"\n",
    "            ) \n",
    "        )\n",
    "        print(f\"Index '{index_name}' created\")\n",
    "    return pc.Index(index_name)\n",
    "\n",
    "# pc.delete_index(INDEX_NAME)"
   ]
  },
  {
   "cell_type": "code",
   "execution_count": 85,
   "id": "86e07315-3650-4e71-8f85-8fcdfb2ba58a",
   "metadata": {},
   "outputs": [],
   "source": [
    "def indexing_pipeline():\n",
    "    while not pc.describe_index(index_name).status['ready']:\n",
    "        time.sleep(1)\n",
    "    \n",
    "    index = get_or_create_index(index_name)\n",
    "    print('Indexing Started..')\n",
    "    for _, row in df.iterrows():\n",
    "        index.upsert([(str(row['id']),\n",
    "                       row['Embeddings'],\n",
    "                       {'title': row['title'],\n",
    "                        'runtime': row['runtime'],\n",
    "                        'genres': row['genres'],\n",
    "                        'year': row['release_date'].year\n",
    "                       }\n",
    "                      )])\n",
    "    print('Finished Indexing')"
   ]
  },
  {
   "cell_type": "markdown",
   "id": "5236321d-db3d-42b8-81b5-ab04af227a41",
   "metadata": {},
   "source": [
    "### Gradio Applications"
   ]
  },
  {
   "cell_type": "code",
   "execution_count": null,
   "id": "8890f9ee-1c7f-4aad-b89f-5bc96885484b",
   "metadata": {},
   "outputs": [],
   "source": [
    "import gradio as gr\n",
    "\n",
    "def search(query):\n",
    "    index = get_or_create_index(index_name)\n",
    "    vector = embed_fn2(query)\n",
    "    res = index.query(\n",
    "        vector=vector,\n",
    "        top_k=5,\n",
    "        include_metadata=True # Include metadata in the response.\n",
    "    )\n",
    "    return pd.DataFrame([{\n",
    "        'id': doc['id'],\n",
    "        'title': doc['metadata']['title'],\n",
    "        'year': doc['metadata']['year'],\n",
    "        'score': doc['score']\n",
    "    } for doc in res['matches']])\n",
    "\n",
    "\n",
    "\n",
    "demo = gr.Interface(\n",
    "    fn=search,\n",
    "    inputs = gr.Textbox(label=\"Search for a movie\"),\n",
    "    outputs = gr.Dataframe(),\n",
    "    title=\"Movie Recommendation System\",\n",
    "    description=\"Enter query and get the most semantically similar movie recommendations\"\n",
    ")\n",
    "\n",
    "demo.launch()"
   ]
  },
  {
   "cell_type": "code",
   "execution_count": null,
   "id": "d95ed26e-d678-48cc-a42d-c4bfb03dfe81",
   "metadata": {},
   "outputs": [],
   "source": [
    "import gradio as gr\n",
    "import numpy as np\n",
    "\n",
    "choices = ['Spider-Man', 'Up', 'Spirited Away',\n",
    "               'The Dark Knight', 'Fight Club', 'Inception',\n",
    "               'Harry Potter and the Chamber of Secrets', 'The Devil Wears Prada' ]\n",
    "\n",
    "def search2(emb, ids):\n",
    "    index = get_or_create_index(index_name)\n",
    "    res = index.query(\n",
    "        vector=emb,\n",
    "        top_k=5,\n",
    "        filter = {\n",
    "            \"id\": {\"$nin\": ids }\n",
    "        },\n",
    "        include_metadata=True # Include metadata in the response.\n",
    "    )\n",
    "    return pd.DataFrame([{\n",
    "        'id': doc['id'],\n",
    "        'title': doc['metadata']['title'],\n",
    "        'year': doc['metadata']['year'],\n",
    "        'score': doc['score']\n",
    "    } for doc in res['matches']])\n",
    "    \n",
    "def get_recommendations(selected_movies):\n",
    "    ids = [str(i) for i in df[df['title'].isin(selected_movies)]['id'].tolist()]\n",
    "    embs =  np.array(df[df['title'].isin(selected_movies)]['Embeddings'].tolist())\n",
    "    avg_emb = np.mean(embs, axis=0).tolist()\n",
    "    return search2(avg_emb, ids)\n",
    "\n",
    "demo = gr.Interface(\n",
    "    fn=get_recommendations,\n",
    "    inputs = gr.CheckboxGroup(choices=choices, label=\"Select up to 3 Movies\", type=\"value\"),\n",
    "    outputs = gr.Dataframe(),\n",
    "    title=\"Movie Recommendation System\",\n",
    "    description=\"Select up to 3 movies and get a list of recommendations\"\n",
    ")\n",
    "\n",
    "demo.launch()"
   ]
  },
  {
   "cell_type": "markdown",
   "id": "dca4d0fb-5480-4b2b-a047-fb3c9c92f79a",
   "metadata": {
    "jp-MarkdownHeadingCollapsed": true
   },
   "source": [
    "## FAISS Vector DB"
   ]
  },
  {
   "cell_type": "code",
   "execution_count": 11,
   "id": "4afb2e1a-e784-4f3d-97f3-a45459c81977",
   "metadata": {},
   "outputs": [],
   "source": [
    "ids = df['id'].values.astype('int64')\n",
    "\n",
    "vectors = np.vstack(df['Embeddings'].values).astype('float32')"
   ]
  },
  {
   "cell_type": "code",
   "execution_count": 12,
   "id": "10bfdaae-b8a6-4b45-b5ca-13855a6f15b8",
   "metadata": {},
   "outputs": [
    {
     "data": {
      "text/plain": [
       "(150, 768)"
      ]
     },
     "execution_count": 12,
     "metadata": {},
     "output_type": "execute_result"
    }
   ],
   "source": [
    "vectors.shape"
   ]
  },
  {
   "cell_type": "code",
   "execution_count": 14,
   "id": "14b981c9-6a24-4497-9243-6c45d34e0f40",
   "metadata": {},
   "outputs": [],
   "source": [
    "def get_or_create_index(index_name=\"../../datasets/movie_index.faiss\", dim=768, n=32):\n",
    "    if os.path.exists(index_name):\n",
    "        idx = faiss.read_index(index_name)\n",
    "    else:\n",
    "        idx = faiss.IndexHNSWFlat(dim, n)\n",
    "        idx.metric_type = faiss.METRIC_INNER_PRODUCT\n",
    "        idx = faiss.IndexIDMap(idx)\n",
    "    return idx\n",
    "\n",
    "def save_index(idx, index_name=\"../../datasets/movie_index.faiss\"):\n",
    "    faiss.write_index(idx, index_name)"
   ]
  },
  {
   "cell_type": "code",
   "execution_count": 15,
   "id": "806b6b71-8209-4bcf-a306-d019cd5aa3f3",
   "metadata": {},
   "outputs": [],
   "source": [
    "idx = get_or_create_index()\n",
    "\n",
    "idx.add_with_ids(vectors, ids)\n",
    "\n",
    "save_index(idx)"
   ]
  },
  {
   "cell_type": "code",
   "execution_count": 17,
   "id": "a94c8f73-9379-4b76-99b4-1ac26c2bb261",
   "metadata": {},
   "outputs": [],
   "source": [
    "def search(query, k=5):\n",
    "    idx = get_or_create_index()\n",
    "    query_vector = embed_fn2(query)\n",
    "    query_vector = np.array(query_vector).reshape(1, -1).astype('float32')\n",
    "    distances, indices = idx.search(query_vector, k=k)\n",
    "    return df[df['id'].isin(indices.flatten())]"
   ]
  },
  {
   "cell_type": "code",
   "execution_count": 18,
   "id": "7c6a83f9-e469-4197-9879-d6fe1b76655f",
   "metadata": {},
   "outputs": [
    {
     "data": {
      "text/html": [
       "<div>\n",
       "<style scoped>\n",
       "    .dataframe tbody tr th:only-of-type {\n",
       "        vertical-align: middle;\n",
       "    }\n",
       "\n",
       "    .dataframe tbody tr th {\n",
       "        vertical-align: top;\n",
       "    }\n",
       "\n",
       "    .dataframe thead th {\n",
       "        text-align: right;\n",
       "    }\n",
       "</style>\n",
       "<table border=\"1\" class=\"dataframe\">\n",
       "  <thead>\n",
       "    <tr style=\"text-align: right;\">\n",
       "      <th></th>\n",
       "      <th>id</th>\n",
       "      <th>title</th>\n",
       "      <th>overview</th>\n",
       "      <th>genres</th>\n",
       "      <th>popularity</th>\n",
       "      <th>release_date</th>\n",
       "      <th>runtime</th>\n",
       "      <th>Embeddings</th>\n",
       "    </tr>\n",
       "  </thead>\n",
       "  <tbody>\n",
       "    <tr>\n",
       "      <th>95</th>\n",
       "      <td>157336</td>\n",
       "      <td>Interstellar</td>\n",
       "      <td>Interstellar chronicles the adventures of a gr...</td>\n",
       "      <td>Adventure, Drama, Science Fiction</td>\n",
       "      <td>724.247784</td>\n",
       "      <td>2014-11-05</td>\n",
       "      <td>169.0</td>\n",
       "      <td>[0.029866949, -0.039741963, -0.07255203, 0.039...</td>\n",
       "    </tr>\n",
       "    <tr>\n",
       "      <th>94</th>\n",
       "      <td>118340</td>\n",
       "      <td>Guardians of the Galaxy</td>\n",
       "      <td>Light years from Earth, 26 years after being a...</td>\n",
       "      <td>Action, Science Fiction, Adventure</td>\n",
       "      <td>481.098624</td>\n",
       "      <td>2014-07-30</td>\n",
       "      <td>121.0</td>\n",
       "      <td>[0.012825767, 0.0034647516, 0.011534768, -0.01...</td>\n",
       "    </tr>\n",
       "    <tr>\n",
       "      <th>270</th>\n",
       "      <td>286217</td>\n",
       "      <td>The Martian</td>\n",
       "      <td>During a manned mission to Mars, Astronaut Mar...</td>\n",
       "      <td>Drama, Adventure, Science Fiction</td>\n",
       "      <td>167.932870</td>\n",
       "      <td>2015-09-30</td>\n",
       "      <td>141.0</td>\n",
       "      <td>[0.05401177, -0.034233857, 0.003325441, 0.0444...</td>\n",
       "    </tr>\n",
       "    <tr>\n",
       "      <th>87</th>\n",
       "      <td>158852</td>\n",
       "      <td>Tomorrowland</td>\n",
       "      <td>Bound by a shared destiny, a bright, optimisti...</td>\n",
       "      <td>Adventure, Family, Mystery, Science Fiction</td>\n",
       "      <td>130.311355</td>\n",
       "      <td>2015-05-19</td>\n",
       "      <td>130.0</td>\n",
       "      <td>[-0.03553578, -0.012957528, -0.04714343, 0.007...</td>\n",
       "    </tr>\n",
       "    <tr>\n",
       "      <th>239</th>\n",
       "      <td>49047</td>\n",
       "      <td>Gravity</td>\n",
       "      <td>Dr. Ryan Stone, a brilliant medical engineer o...</td>\n",
       "      <td>Science Fiction, Thriller, Drama</td>\n",
       "      <td>110.153618</td>\n",
       "      <td>2013-09-27</td>\n",
       "      <td>91.0</td>\n",
       "      <td>[0.09938064, -0.018174646, -0.04685955, 0.0261...</td>\n",
       "    </tr>\n",
       "  </tbody>\n",
       "</table>\n",
       "</div>"
      ],
      "text/plain": [
       "         id                    title  \\\n",
       "95   157336             Interstellar   \n",
       "94   118340  Guardians of the Galaxy   \n",
       "270  286217              The Martian   \n",
       "87   158852             Tomorrowland   \n",
       "239   49047                  Gravity   \n",
       "\n",
       "                                              overview  \\\n",
       "95   Interstellar chronicles the adventures of a gr...   \n",
       "94   Light years from Earth, 26 years after being a...   \n",
       "270  During a manned mission to Mars, Astronaut Mar...   \n",
       "87   Bound by a shared destiny, a bright, optimisti...   \n",
       "239  Dr. Ryan Stone, a brilliant medical engineer o...   \n",
       "\n",
       "                                          genres  popularity release_date  \\\n",
       "95             Adventure, Drama, Science Fiction  724.247784   2014-11-05   \n",
       "94            Action, Science Fiction, Adventure  481.098624   2014-07-30   \n",
       "270            Drama, Adventure, Science Fiction  167.932870   2015-09-30   \n",
       "87   Adventure, Family, Mystery, Science Fiction  130.311355   2015-05-19   \n",
       "239             Science Fiction, Thriller, Drama  110.153618   2013-09-27   \n",
       "\n",
       "     runtime                                         Embeddings  \n",
       "95     169.0  [0.029866949, -0.039741963, -0.07255203, 0.039...  \n",
       "94     121.0  [0.012825767, 0.0034647516, 0.011534768, -0.01...  \n",
       "270    141.0  [0.05401177, -0.034233857, 0.003325441, 0.0444...  \n",
       "87     130.0  [-0.03553578, -0.012957528, -0.04714343, 0.007...  \n",
       "239     91.0  [0.09938064, -0.018174646, -0.04685955, 0.0261...  "
      ]
     },
     "execution_count": 18,
     "metadata": {},
     "output_type": "execute_result"
    }
   ],
   "source": [
    "res = search('space adventure')\n",
    "res "
   ]
  },
  {
   "cell_type": "markdown",
   "id": "974ae3e9-99a1-46b5-9566-8b7c2806c5bd",
   "metadata": {
    "jp-MarkdownHeadingCollapsed": true
   },
   "source": [
    "# Method 2: Genre-based Recommender"
   ]
  },
  {
   "cell_type": "code",
   "execution_count": 10,
   "id": "a43b7398-486f-4fa9-a995-ab2f371dc22a",
   "metadata": {},
   "outputs": [],
   "source": [
    "import pandas as pd\n",
    "import numpy as np\n",
    "import json\n",
    "from sklearn.metrics.pairwise import cosine_similarity"
   ]
  },
  {
   "cell_type": "code",
   "execution_count": 21,
   "id": "2baff255-b5d4-4048-874d-639529b654d3",
   "metadata": {},
   "outputs": [
    {
     "data": {
      "text/html": [
       "<div>\n",
       "<style scoped>\n",
       "    .dataframe tbody tr th:only-of-type {\n",
       "        vertical-align: middle;\n",
       "    }\n",
       "\n",
       "    .dataframe tbody tr th {\n",
       "        vertical-align: top;\n",
       "    }\n",
       "\n",
       "    .dataframe thead th {\n",
       "        text-align: right;\n",
       "    }\n",
       "</style>\n",
       "<table border=\"1\" class=\"dataframe\">\n",
       "  <thead>\n",
       "    <tr style=\"text-align: right;\">\n",
       "      <th></th>\n",
       "      <th>id</th>\n",
       "      <th>title</th>\n",
       "      <th>genres</th>\n",
       "    </tr>\n",
       "  </thead>\n",
       "  <tbody>\n",
       "    <tr>\n",
       "      <th>0</th>\n",
       "      <td>19995</td>\n",
       "      <td>Avatar</td>\n",
       "      <td>[Action, Adventure, Fantasy, Science Fiction]</td>\n",
       "    </tr>\n",
       "    <tr>\n",
       "      <th>1</th>\n",
       "      <td>285</td>\n",
       "      <td>Pirates of the Caribbean: At World's End</td>\n",
       "      <td>[Adventure, Fantasy, Action]</td>\n",
       "    </tr>\n",
       "    <tr>\n",
       "      <th>2</th>\n",
       "      <td>206647</td>\n",
       "      <td>Spectre</td>\n",
       "      <td>[Action, Adventure, Crime]</td>\n",
       "    </tr>\n",
       "    <tr>\n",
       "      <th>3</th>\n",
       "      <td>49026</td>\n",
       "      <td>The Dark Knight Rises</td>\n",
       "      <td>[Action, Crime, Drama, Thriller]</td>\n",
       "    </tr>\n",
       "    <tr>\n",
       "      <th>4</th>\n",
       "      <td>49529</td>\n",
       "      <td>John Carter</td>\n",
       "      <td>[Action, Adventure, Science Fiction]</td>\n",
       "    </tr>\n",
       "  </tbody>\n",
       "</table>\n",
       "</div>"
      ],
      "text/plain": [
       "       id                                     title  \\\n",
       "0   19995                                    Avatar   \n",
       "1     285  Pirates of the Caribbean: At World's End   \n",
       "2  206647                                   Spectre   \n",
       "3   49026                     The Dark Knight Rises   \n",
       "4   49529                               John Carter   \n",
       "\n",
       "                                          genres  \n",
       "0  [Action, Adventure, Fantasy, Science Fiction]  \n",
       "1                   [Adventure, Fantasy, Action]  \n",
       "2                     [Action, Adventure, Crime]  \n",
       "3               [Action, Crime, Drama, Thriller]  \n",
       "4           [Action, Adventure, Science Fiction]  "
      ]
     },
     "execution_count": 21,
     "metadata": {},
     "output_type": "execute_result"
    }
   ],
   "source": [
    "df = pd.read_csv('../../datasets/tmdb_5000_movies.csv',)\n",
    "df = df[['id','title','genres']]\n",
    "\n",
    "def extract_genres(genre_json):\n",
    "    # Parse the JSON string into a list\n",
    "    genres = json.loads(genre_json)\n",
    "    # Extract the 'name' field and join with a comma\n",
    "    return [genre['name'] for genre in genres]\n",
    "\n",
    "df['genres'] = df['genres'].apply(extract_genres)\n",
    "\n",
    "df.head()"
   ]
  },
  {
   "cell_type": "markdown",
   "id": "407e2ac7-28b1-409e-aabf-ce6979649266",
   "metadata": {},
   "source": [
    "## One-hot encoding"
   ]
  },
  {
   "cell_type": "code",
   "execution_count": 22,
   "id": "b95a3c05-9ec9-4091-b47b-e30bcd691d22",
   "metadata": {},
   "outputs": [],
   "source": [
    "# Use pd.get_dummies to create one-hot encoded columns\n",
    "genres_one_hot = df['genres'].explode().str.get_dummies().groupby(level=0).sum()\n",
    "\n",
    "# Step 4: Join the one-hot encoded columns back to the original DataFrame\n",
    "df2 = pd.concat([df, genres_one_hot], axis=1)\n",
    "df2 = df2.drop(columns=['genres'])"
   ]
  },
  {
   "cell_type": "code",
   "execution_count": 23,
   "id": "f6140131-718f-4e2a-9584-003a12dfee79",
   "metadata": {},
   "outputs": [
    {
     "data": {
      "text/html": [
       "<div>\n",
       "<style scoped>\n",
       "    .dataframe tbody tr th:only-of-type {\n",
       "        vertical-align: middle;\n",
       "    }\n",
       "\n",
       "    .dataframe tbody tr th {\n",
       "        vertical-align: top;\n",
       "    }\n",
       "\n",
       "    .dataframe thead th {\n",
       "        text-align: right;\n",
       "    }\n",
       "</style>\n",
       "<table border=\"1\" class=\"dataframe\">\n",
       "  <thead>\n",
       "    <tr style=\"text-align: right;\">\n",
       "      <th></th>\n",
       "      <th>id</th>\n",
       "      <th>title</th>\n",
       "      <th>Action</th>\n",
       "      <th>Adventure</th>\n",
       "      <th>Animation</th>\n",
       "      <th>Comedy</th>\n",
       "      <th>Crime</th>\n",
       "      <th>Documentary</th>\n",
       "      <th>Drama</th>\n",
       "      <th>Family</th>\n",
       "      <th>...</th>\n",
       "      <th>History</th>\n",
       "      <th>Horror</th>\n",
       "      <th>Music</th>\n",
       "      <th>Mystery</th>\n",
       "      <th>Romance</th>\n",
       "      <th>Science Fiction</th>\n",
       "      <th>TV Movie</th>\n",
       "      <th>Thriller</th>\n",
       "      <th>War</th>\n",
       "      <th>Western</th>\n",
       "    </tr>\n",
       "  </thead>\n",
       "  <tbody>\n",
       "    <tr>\n",
       "      <th>0</th>\n",
       "      <td>19995</td>\n",
       "      <td>Avatar</td>\n",
       "      <td>1</td>\n",
       "      <td>1</td>\n",
       "      <td>0</td>\n",
       "      <td>0</td>\n",
       "      <td>0</td>\n",
       "      <td>0</td>\n",
       "      <td>0</td>\n",
       "      <td>0</td>\n",
       "      <td>...</td>\n",
       "      <td>0</td>\n",
       "      <td>0</td>\n",
       "      <td>0</td>\n",
       "      <td>0</td>\n",
       "      <td>0</td>\n",
       "      <td>1</td>\n",
       "      <td>0</td>\n",
       "      <td>0</td>\n",
       "      <td>0</td>\n",
       "      <td>0</td>\n",
       "    </tr>\n",
       "    <tr>\n",
       "      <th>1</th>\n",
       "      <td>285</td>\n",
       "      <td>Pirates of the Caribbean: At World's End</td>\n",
       "      <td>1</td>\n",
       "      <td>1</td>\n",
       "      <td>0</td>\n",
       "      <td>0</td>\n",
       "      <td>0</td>\n",
       "      <td>0</td>\n",
       "      <td>0</td>\n",
       "      <td>0</td>\n",
       "      <td>...</td>\n",
       "      <td>0</td>\n",
       "      <td>0</td>\n",
       "      <td>0</td>\n",
       "      <td>0</td>\n",
       "      <td>0</td>\n",
       "      <td>0</td>\n",
       "      <td>0</td>\n",
       "      <td>0</td>\n",
       "      <td>0</td>\n",
       "      <td>0</td>\n",
       "    </tr>\n",
       "    <tr>\n",
       "      <th>2</th>\n",
       "      <td>206647</td>\n",
       "      <td>Spectre</td>\n",
       "      <td>1</td>\n",
       "      <td>1</td>\n",
       "      <td>0</td>\n",
       "      <td>0</td>\n",
       "      <td>1</td>\n",
       "      <td>0</td>\n",
       "      <td>0</td>\n",
       "      <td>0</td>\n",
       "      <td>...</td>\n",
       "      <td>0</td>\n",
       "      <td>0</td>\n",
       "      <td>0</td>\n",
       "      <td>0</td>\n",
       "      <td>0</td>\n",
       "      <td>0</td>\n",
       "      <td>0</td>\n",
       "      <td>0</td>\n",
       "      <td>0</td>\n",
       "      <td>0</td>\n",
       "    </tr>\n",
       "    <tr>\n",
       "      <th>3</th>\n",
       "      <td>49026</td>\n",
       "      <td>The Dark Knight Rises</td>\n",
       "      <td>1</td>\n",
       "      <td>0</td>\n",
       "      <td>0</td>\n",
       "      <td>0</td>\n",
       "      <td>1</td>\n",
       "      <td>0</td>\n",
       "      <td>1</td>\n",
       "      <td>0</td>\n",
       "      <td>...</td>\n",
       "      <td>0</td>\n",
       "      <td>0</td>\n",
       "      <td>0</td>\n",
       "      <td>0</td>\n",
       "      <td>0</td>\n",
       "      <td>0</td>\n",
       "      <td>0</td>\n",
       "      <td>1</td>\n",
       "      <td>0</td>\n",
       "      <td>0</td>\n",
       "    </tr>\n",
       "    <tr>\n",
       "      <th>4</th>\n",
       "      <td>49529</td>\n",
       "      <td>John Carter</td>\n",
       "      <td>1</td>\n",
       "      <td>1</td>\n",
       "      <td>0</td>\n",
       "      <td>0</td>\n",
       "      <td>0</td>\n",
       "      <td>0</td>\n",
       "      <td>0</td>\n",
       "      <td>0</td>\n",
       "      <td>...</td>\n",
       "      <td>0</td>\n",
       "      <td>0</td>\n",
       "      <td>0</td>\n",
       "      <td>0</td>\n",
       "      <td>0</td>\n",
       "      <td>1</td>\n",
       "      <td>0</td>\n",
       "      <td>0</td>\n",
       "      <td>0</td>\n",
       "      <td>0</td>\n",
       "    </tr>\n",
       "  </tbody>\n",
       "</table>\n",
       "<p>5 rows × 22 columns</p>\n",
       "</div>"
      ],
      "text/plain": [
       "       id                                     title  Action  Adventure  \\\n",
       "0   19995                                    Avatar       1          1   \n",
       "1     285  Pirates of the Caribbean: At World's End       1          1   \n",
       "2  206647                                   Spectre       1          1   \n",
       "3   49026                     The Dark Knight Rises       1          0   \n",
       "4   49529                               John Carter       1          1   \n",
       "\n",
       "   Animation  Comedy  Crime  Documentary  Drama  Family  ...  History  Horror  \\\n",
       "0          0       0      0            0      0       0  ...        0       0   \n",
       "1          0       0      0            0      0       0  ...        0       0   \n",
       "2          0       0      1            0      0       0  ...        0       0   \n",
       "3          0       0      1            0      1       0  ...        0       0   \n",
       "4          0       0      0            0      0       0  ...        0       0   \n",
       "\n",
       "   Music  Mystery  Romance  Science Fiction  TV Movie  Thriller  War  Western  \n",
       "0      0        0        0                1         0         0    0        0  \n",
       "1      0        0        0                0         0         0    0        0  \n",
       "2      0        0        0                0         0         0    0        0  \n",
       "3      0        0        0                0         0         1    0        0  \n",
       "4      0        0        0                1         0         0    0        0  \n",
       "\n",
       "[5 rows x 22 columns]"
      ]
     },
     "execution_count": 23,
     "metadata": {},
     "output_type": "execute_result"
    }
   ],
   "source": [
    "df2.head()"
   ]
  },
  {
   "cell_type": "code",
   "execution_count": 24,
   "id": "8422eee6-07f8-4e83-acde-4fc31900ca8f",
   "metadata": {},
   "outputs": [
    {
     "data": {
      "text/plain": [
       "Action             1154\n",
       "Adventure           790\n",
       "Animation           234\n",
       "Comedy             1722\n",
       "Crime               696\n",
       "Documentary         110\n",
       "Drama              2297\n",
       "Family              513\n",
       "Fantasy             424\n",
       "Foreign              34\n",
       "History             197\n",
       "Horror              519\n",
       "Music               185\n",
       "Mystery             348\n",
       "Romance             894\n",
       "Science Fiction     535\n",
       "TV Movie              8\n",
       "Thriller           1274\n",
       "War                 144\n",
       "Western              82\n",
       "dtype: int64"
      ]
     },
     "execution_count": 24,
     "metadata": {},
     "output_type": "execute_result"
    }
   ],
   "source": [
    "genre_counts = genres_one_hot.sum()\n",
    "genre_counts"
   ]
  },
  {
   "cell_type": "code",
   "execution_count": 25,
   "id": "be77850b-2c04-4692-a85b-3e231083a000",
   "metadata": {},
   "outputs": [
    {
     "data": {
      "text/plain": [
       "20"
      ]
     },
     "execution_count": 25,
     "metadata": {},
     "output_type": "execute_result"
    }
   ],
   "source": [
    "num_genres = genres_one_hot.shape[1]\n",
    "num_genres"
   ]
  },
  {
   "cell_type": "code",
   "execution_count": 26,
   "id": "544a532e-9542-4413-bf5f-e2c2652178ca",
   "metadata": {},
   "outputs": [
    {
     "data": {
      "application/vnd.plotly.v1+json": {
       "config": {
        "plotlyServerURL": "https://plot.ly"
       },
       "data": [
        {
         "branchvalues": "total",
         "domain": {
          "x": [
           0,
           1
          ],
          "y": [
           0,
           1
          ]
         },
         "hovertemplate": "labels=%{label}<br>Value=%{value}<br>parent=%{parent}<br>id=%{id}<extra></extra>",
         "ids": [
          "Action",
          "Adventure",
          "Animation",
          "Comedy",
          "Crime",
          "Documentary",
          "Drama",
          "Family",
          "Fantasy",
          "Foreign",
          "History",
          "Horror",
          "Music",
          "Mystery",
          "Romance",
          "Science Fiction",
          "TV Movie",
          "Thriller",
          "War",
          "Western"
         ],
         "labels": [
          "Action",
          "Adventure",
          "Animation",
          "Comedy",
          "Crime",
          "Documentary",
          "Drama",
          "Family",
          "Fantasy",
          "Foreign",
          "History",
          "Horror",
          "Music",
          "Mystery",
          "Romance",
          "Science Fiction",
          "TV Movie",
          "Thriller",
          "War",
          "Western"
         ],
         "name": "",
         "parents": [
          "",
          "",
          "",
          "",
          "",
          "",
          "",
          "",
          "",
          "",
          "",
          "",
          "",
          "",
          "",
          "",
          "",
          "",
          "",
          ""
         ],
         "type": "treemap",
         "values": [
          1154,
          790,
          234,
          1722,
          696,
          110,
          2297,
          513,
          424,
          34,
          197,
          519,
          185,
          348,
          894,
          535,
          8,
          1274,
          144,
          82
         ]
        }
       ],
       "layout": {
        "autosize": true,
        "legend": {
         "tracegroupgap": 0
        },
        "template": {
         "data": {
          "bar": [
           {
            "error_x": {
             "color": "#2a3f5f"
            },
            "error_y": {
             "color": "#2a3f5f"
            },
            "marker": {
             "line": {
              "color": "#E5ECF6",
              "width": 0.5
             },
             "pattern": {
              "fillmode": "overlay",
              "size": 10,
              "solidity": 0.2
             }
            },
            "type": "bar"
           }
          ],
          "barpolar": [
           {
            "marker": {
             "line": {
              "color": "#E5ECF6",
              "width": 0.5
             },
             "pattern": {
              "fillmode": "overlay",
              "size": 10,
              "solidity": 0.2
             }
            },
            "type": "barpolar"
           }
          ],
          "carpet": [
           {
            "aaxis": {
             "endlinecolor": "#2a3f5f",
             "gridcolor": "white",
             "linecolor": "white",
             "minorgridcolor": "white",
             "startlinecolor": "#2a3f5f"
            },
            "baxis": {
             "endlinecolor": "#2a3f5f",
             "gridcolor": "white",
             "linecolor": "white",
             "minorgridcolor": "white",
             "startlinecolor": "#2a3f5f"
            },
            "type": "carpet"
           }
          ],
          "choropleth": [
           {
            "colorbar": {
             "outlinewidth": 0,
             "ticks": ""
            },
            "type": "choropleth"
           }
          ],
          "contour": [
           {
            "colorbar": {
             "outlinewidth": 0,
             "ticks": ""
            },
            "colorscale": [
             [
              0,
              "#0d0887"
             ],
             [
              0.1111111111111111,
              "#46039f"
             ],
             [
              0.2222222222222222,
              "#7201a8"
             ],
             [
              0.3333333333333333,
              "#9c179e"
             ],
             [
              0.4444444444444444,
              "#bd3786"
             ],
             [
              0.5555555555555556,
              "#d8576b"
             ],
             [
              0.6666666666666666,
              "#ed7953"
             ],
             [
              0.7777777777777778,
              "#fb9f3a"
             ],
             [
              0.8888888888888888,
              "#fdca26"
             ],
             [
              1,
              "#f0f921"
             ]
            ],
            "type": "contour"
           }
          ],
          "contourcarpet": [
           {
            "colorbar": {
             "outlinewidth": 0,
             "ticks": ""
            },
            "type": "contourcarpet"
           }
          ],
          "heatmap": [
           {
            "colorbar": {
             "outlinewidth": 0,
             "ticks": ""
            },
            "colorscale": [
             [
              0,
              "#0d0887"
             ],
             [
              0.1111111111111111,
              "#46039f"
             ],
             [
              0.2222222222222222,
              "#7201a8"
             ],
             [
              0.3333333333333333,
              "#9c179e"
             ],
             [
              0.4444444444444444,
              "#bd3786"
             ],
             [
              0.5555555555555556,
              "#d8576b"
             ],
             [
              0.6666666666666666,
              "#ed7953"
             ],
             [
              0.7777777777777778,
              "#fb9f3a"
             ],
             [
              0.8888888888888888,
              "#fdca26"
             ],
             [
              1,
              "#f0f921"
             ]
            ],
            "type": "heatmap"
           }
          ],
          "heatmapgl": [
           {
            "colorbar": {
             "outlinewidth": 0,
             "ticks": ""
            },
            "colorscale": [
             [
              0,
              "#0d0887"
             ],
             [
              0.1111111111111111,
              "#46039f"
             ],
             [
              0.2222222222222222,
              "#7201a8"
             ],
             [
              0.3333333333333333,
              "#9c179e"
             ],
             [
              0.4444444444444444,
              "#bd3786"
             ],
             [
              0.5555555555555556,
              "#d8576b"
             ],
             [
              0.6666666666666666,
              "#ed7953"
             ],
             [
              0.7777777777777778,
              "#fb9f3a"
             ],
             [
              0.8888888888888888,
              "#fdca26"
             ],
             [
              1,
              "#f0f921"
             ]
            ],
            "type": "heatmapgl"
           }
          ],
          "histogram": [
           {
            "marker": {
             "pattern": {
              "fillmode": "overlay",
              "size": 10,
              "solidity": 0.2
             }
            },
            "type": "histogram"
           }
          ],
          "histogram2d": [
           {
            "colorbar": {
             "outlinewidth": 0,
             "ticks": ""
            },
            "colorscale": [
             [
              0,
              "#0d0887"
             ],
             [
              0.1111111111111111,
              "#46039f"
             ],
             [
              0.2222222222222222,
              "#7201a8"
             ],
             [
              0.3333333333333333,
              "#9c179e"
             ],
             [
              0.4444444444444444,
              "#bd3786"
             ],
             [
              0.5555555555555556,
              "#d8576b"
             ],
             [
              0.6666666666666666,
              "#ed7953"
             ],
             [
              0.7777777777777778,
              "#fb9f3a"
             ],
             [
              0.8888888888888888,
              "#fdca26"
             ],
             [
              1,
              "#f0f921"
             ]
            ],
            "type": "histogram2d"
           }
          ],
          "histogram2dcontour": [
           {
            "colorbar": {
             "outlinewidth": 0,
             "ticks": ""
            },
            "colorscale": [
             [
              0,
              "#0d0887"
             ],
             [
              0.1111111111111111,
              "#46039f"
             ],
             [
              0.2222222222222222,
              "#7201a8"
             ],
             [
              0.3333333333333333,
              "#9c179e"
             ],
             [
              0.4444444444444444,
              "#bd3786"
             ],
             [
              0.5555555555555556,
              "#d8576b"
             ],
             [
              0.6666666666666666,
              "#ed7953"
             ],
             [
              0.7777777777777778,
              "#fb9f3a"
             ],
             [
              0.8888888888888888,
              "#fdca26"
             ],
             [
              1,
              "#f0f921"
             ]
            ],
            "type": "histogram2dcontour"
           }
          ],
          "mesh3d": [
           {
            "colorbar": {
             "outlinewidth": 0,
             "ticks": ""
            },
            "type": "mesh3d"
           }
          ],
          "parcoords": [
           {
            "line": {
             "colorbar": {
              "outlinewidth": 0,
              "ticks": ""
             }
            },
            "type": "parcoords"
           }
          ],
          "pie": [
           {
            "automargin": true,
            "type": "pie"
           }
          ],
          "scatter": [
           {
            "fillpattern": {
             "fillmode": "overlay",
             "size": 10,
             "solidity": 0.2
            },
            "type": "scatter"
           }
          ],
          "scatter3d": [
           {
            "line": {
             "colorbar": {
              "outlinewidth": 0,
              "ticks": ""
             }
            },
            "marker": {
             "colorbar": {
              "outlinewidth": 0,
              "ticks": ""
             }
            },
            "type": "scatter3d"
           }
          ],
          "scattercarpet": [
           {
            "marker": {
             "colorbar": {
              "outlinewidth": 0,
              "ticks": ""
             }
            },
            "type": "scattercarpet"
           }
          ],
          "scattergeo": [
           {
            "marker": {
             "colorbar": {
              "outlinewidth": 0,
              "ticks": ""
             }
            },
            "type": "scattergeo"
           }
          ],
          "scattergl": [
           {
            "marker": {
             "colorbar": {
              "outlinewidth": 0,
              "ticks": ""
             }
            },
            "type": "scattergl"
           }
          ],
          "scattermapbox": [
           {
            "marker": {
             "colorbar": {
              "outlinewidth": 0,
              "ticks": ""
             }
            },
            "type": "scattermapbox"
           }
          ],
          "scatterpolar": [
           {
            "marker": {
             "colorbar": {
              "outlinewidth": 0,
              "ticks": ""
             }
            },
            "type": "scatterpolar"
           }
          ],
          "scatterpolargl": [
           {
            "marker": {
             "colorbar": {
              "outlinewidth": 0,
              "ticks": ""
             }
            },
            "type": "scatterpolargl"
           }
          ],
          "scatterternary": [
           {
            "marker": {
             "colorbar": {
              "outlinewidth": 0,
              "ticks": ""
             }
            },
            "type": "scatterternary"
           }
          ],
          "surface": [
           {
            "colorbar": {
             "outlinewidth": 0,
             "ticks": ""
            },
            "colorscale": [
             [
              0,
              "#0d0887"
             ],
             [
              0.1111111111111111,
              "#46039f"
             ],
             [
              0.2222222222222222,
              "#7201a8"
             ],
             [
              0.3333333333333333,
              "#9c179e"
             ],
             [
              0.4444444444444444,
              "#bd3786"
             ],
             [
              0.5555555555555556,
              "#d8576b"
             ],
             [
              0.6666666666666666,
              "#ed7953"
             ],
             [
              0.7777777777777778,
              "#fb9f3a"
             ],
             [
              0.8888888888888888,
              "#fdca26"
             ],
             [
              1,
              "#f0f921"
             ]
            ],
            "type": "surface"
           }
          ],
          "table": [
           {
            "cells": {
             "fill": {
              "color": "#EBF0F8"
             },
             "line": {
              "color": "white"
             }
            },
            "header": {
             "fill": {
              "color": "#C8D4E3"
             },
             "line": {
              "color": "white"
             }
            },
            "type": "table"
           }
          ]
         },
         "layout": {
          "annotationdefaults": {
           "arrowcolor": "#2a3f5f",
           "arrowhead": 0,
           "arrowwidth": 1
          },
          "autotypenumbers": "strict",
          "coloraxis": {
           "colorbar": {
            "outlinewidth": 0,
            "ticks": ""
           }
          },
          "colorscale": {
           "diverging": [
            [
             0,
             "#8e0152"
            ],
            [
             0.1,
             "#c51b7d"
            ],
            [
             0.2,
             "#de77ae"
            ],
            [
             0.3,
             "#f1b6da"
            ],
            [
             0.4,
             "#fde0ef"
            ],
            [
             0.5,
             "#f7f7f7"
            ],
            [
             0.6,
             "#e6f5d0"
            ],
            [
             0.7,
             "#b8e186"
            ],
            [
             0.8,
             "#7fbc41"
            ],
            [
             0.9,
             "#4d9221"
            ],
            [
             1,
             "#276419"
            ]
           ],
           "sequential": [
            [
             0,
             "#0d0887"
            ],
            [
             0.1111111111111111,
             "#46039f"
            ],
            [
             0.2222222222222222,
             "#7201a8"
            ],
            [
             0.3333333333333333,
             "#9c179e"
            ],
            [
             0.4444444444444444,
             "#bd3786"
            ],
            [
             0.5555555555555556,
             "#d8576b"
            ],
            [
             0.6666666666666666,
             "#ed7953"
            ],
            [
             0.7777777777777778,
             "#fb9f3a"
            ],
            [
             0.8888888888888888,
             "#fdca26"
            ],
            [
             1,
             "#f0f921"
            ]
           ],
           "sequentialminus": [
            [
             0,
             "#0d0887"
            ],
            [
             0.1111111111111111,
             "#46039f"
            ],
            [
             0.2222222222222222,
             "#7201a8"
            ],
            [
             0.3333333333333333,
             "#9c179e"
            ],
            [
             0.4444444444444444,
             "#bd3786"
            ],
            [
             0.5555555555555556,
             "#d8576b"
            ],
            [
             0.6666666666666666,
             "#ed7953"
            ],
            [
             0.7777777777777778,
             "#fb9f3a"
            ],
            [
             0.8888888888888888,
             "#fdca26"
            ],
            [
             1,
             "#f0f921"
            ]
           ]
          },
          "colorway": [
           "#636efa",
           "#EF553B",
           "#00cc96",
           "#ab63fa",
           "#FFA15A",
           "#19d3f3",
           "#FF6692",
           "#B6E880",
           "#FF97FF",
           "#FECB52"
          ],
          "font": {
           "color": "#2a3f5f"
          },
          "geo": {
           "bgcolor": "white",
           "lakecolor": "white",
           "landcolor": "#E5ECF6",
           "showlakes": true,
           "showland": true,
           "subunitcolor": "white"
          },
          "hoverlabel": {
           "align": "left"
          },
          "hovermode": "closest",
          "mapbox": {
           "style": "light"
          },
          "paper_bgcolor": "white",
          "plot_bgcolor": "#E5ECF6",
          "polar": {
           "angularaxis": {
            "gridcolor": "white",
            "linecolor": "white",
            "ticks": ""
           },
           "bgcolor": "#E5ECF6",
           "radialaxis": {
            "gridcolor": "white",
            "linecolor": "white",
            "ticks": ""
           }
          },
          "scene": {
           "xaxis": {
            "backgroundcolor": "#E5ECF6",
            "gridcolor": "white",
            "gridwidth": 2,
            "linecolor": "white",
            "showbackground": true,
            "ticks": "",
            "zerolinecolor": "white"
           },
           "yaxis": {
            "backgroundcolor": "#E5ECF6",
            "gridcolor": "white",
            "gridwidth": 2,
            "linecolor": "white",
            "showbackground": true,
            "ticks": "",
            "zerolinecolor": "white"
           },
           "zaxis": {
            "backgroundcolor": "#E5ECF6",
            "gridcolor": "white",
            "gridwidth": 2,
            "linecolor": "white",
            "showbackground": true,
            "ticks": "",
            "zerolinecolor": "white"
           }
          },
          "shapedefaults": {
           "line": {
            "color": "#2a3f5f"
           }
          },
          "ternary": {
           "aaxis": {
            "gridcolor": "white",
            "linecolor": "white",
            "ticks": ""
           },
           "baxis": {
            "gridcolor": "white",
            "linecolor": "white",
            "ticks": ""
           },
           "bgcolor": "#E5ECF6",
           "caxis": {
            "gridcolor": "white",
            "linecolor": "white",
            "ticks": ""
           }
          },
          "title": {
           "x": 0.05
          },
          "xaxis": {
           "automargin": true,
           "gridcolor": "white",
           "linecolor": "white",
           "ticks": "",
           "title": {
            "standoff": 15
           },
           "zerolinecolor": "white",
           "zerolinewidth": 2
          },
          "yaxis": {
           "automargin": true,
           "gridcolor": "white",
           "linecolor": "white",
           "ticks": "",
           "title": {
            "standoff": 15
           },
           "zerolinecolor": "white",
           "zerolinewidth": 2
          }
         }
        },
        "title": {
         "text": "Genre Distribution"
        }
       }
      },
      "image/png": "[encoded data removed]",
      "text/html": [
       "<div>                            <div id=\"8c7bda59-9ae0-4655-a081-2e2bed668ee1\" class=\"plotly-graph-div\" style=\"height:525px; width:100%;\"></div>            <script type=\"text/javascript\">                require([\"plotly\"], function(Plotly) {                    window.PLOTLYENV=window.PLOTLYENV || {};                                    if (document.getElementById(\"8c7bda59-9ae0-4655-a081-2e2bed668ee1\")) {                    Plotly.newPlot(                        \"8c7bda59-9ae0-4655-a081-2e2bed668ee1\",                        [{\"branchvalues\":\"total\",\"domain\":{\"x\":[0.0,1.0],\"y\":[0.0,1.0]},\"hovertemplate\":\"labels=%{label}<br>Value=%{value}<br>parent=%{parent}<br>id=%{id}<extra></extra>\",\"ids\":[\"Action\",\"Adventure\",\"Animation\",\"Comedy\",\"Crime\",\"Documentary\",\"Drama\",\"Family\",\"Fantasy\",\"Foreign\",\"History\",\"Horror\",\"Music\",\"Mystery\",\"Romance\",\"Science Fiction\",\"TV Movie\",\"Thriller\",\"War\",\"Western\"],\"labels\":[\"Action\",\"Adventure\",\"Animation\",\"Comedy\",\"Crime\",\"Documentary\",\"Drama\",\"Family\",\"Fantasy\",\"Foreign\",\"History\",\"Horror\",\"Music\",\"Mystery\",\"Romance\",\"Science Fiction\",\"TV Movie\",\"Thriller\",\"War\",\"Western\"],\"name\":\"\",\"parents\":[\"\",\"\",\"\",\"\",\"\",\"\",\"\",\"\",\"\",\"\",\"\",\"\",\"\",\"\",\"\",\"\",\"\",\"\",\"\",\"\"],\"values\":[1154,790,234,1722,696,110,2297,513,424,34,197,519,185,348,894,535,8,1274,144,82],\"type\":\"treemap\"}],                        {\"template\":{\"data\":{\"histogram2dcontour\":[{\"type\":\"histogram2dcontour\",\"colorbar\":{\"outlinewidth\":0,\"ticks\":\"\"},\"colorscale\":[[0.0,\"#0d0887\"],[0.1111111111111111,\"#46039f\"],[0.2222222222222222,\"#7201a8\"],[0.3333333333333333,\"#9c179e\"],[0.4444444444444444,\"#bd3786\"],[0.5555555555555556,\"#d8576b\"],[0.6666666666666666,\"#ed7953\"],[0.7777777777777778,\"#fb9f3a\"],[0.8888888888888888,\"#fdca26\"],[1.0,\"#f0f921\"]]}],\"choropleth\":[{\"type\":\"choropleth\",\"colorbar\":{\"outlinewidth\":0,\"ticks\":\"\"}}],\"histogram2d\":[{\"type\":\"histogram2d\",\"colorbar\":{\"outlinewidth\":0,\"ticks\":\"\"},\"colorscale\":[[0.0,\"#0d0887\"],[0.1111111111111111,\"#46039f\"],[0.2222222222222222,\"#7201a8\"],[0.3333333333333333,\"#9c179e\"],[0.4444444444444444,\"#bd3786\"],[0.5555555555555556,\"#d8576b\"],[0.6666666666666666,\"#ed7953\"],[0.7777777777777778,\"#fb9f3a\"],[0.8888888888888888,\"#fdca26\"],[1.0,\"#f0f921\"]]}],\"heatmap\":[{\"type\":\"heatmap\",\"colorbar\":{\"outlinewidth\":0,\"ticks\":\"\"},\"colorscale\":[[0.0,\"#0d0887\"],[0.1111111111111111,\"#46039f\"],[0.2222222222222222,\"#7201a8\"],[0.3333333333333333,\"#9c179e\"],[0.4444444444444444,\"#bd3786\"],[0.5555555555555556,\"#d8576b\"],[0.6666666666666666,\"#ed7953\"],[0.7777777777777778,\"#fb9f3a\"],[0.8888888888888888,\"#fdca26\"],[1.0,\"#f0f921\"]]}],\"heatmapgl\":[{\"type\":\"heatmapgl\",\"colorbar\":{\"outlinewidth\":0,\"ticks\":\"\"},\"colorscale\":[[0.0,\"#0d0887\"],[0.1111111111111111,\"#46039f\"],[0.2222222222222222,\"#7201a8\"],[0.3333333333333333,\"#9c179e\"],[0.4444444444444444,\"#bd3786\"],[0.5555555555555556,\"#d8576b\"],[0.6666666666666666,\"#ed7953\"],[0.7777777777777778,\"#fb9f3a\"],[0.8888888888888888,\"#fdca26\"],[1.0,\"#f0f921\"]]}],\"contourcarpet\":[{\"type\":\"contourcarpet\",\"colorbar\":{\"outlinewidth\":0,\"ticks\":\"\"}}],\"contour\":[{\"type\":\"contour\",\"colorbar\":{\"outlinewidth\":0,\"ticks\":\"\"},\"colorscale\":[[0.0,\"#0d0887\"],[0.1111111111111111,\"#46039f\"],[0.2222222222222222,\"#7201a8\"],[0.3333333333333333,\"#9c179e\"],[0.4444444444444444,\"#bd3786\"],[0.5555555555555556,\"#d8576b\"],[0.6666666666666666,\"#ed7953\"],[0.7777777777777778,\"#fb9f3a\"],[0.8888888888888888,\"#fdca26\"],[1.0,\"#f0f921\"]]}],\"surface\":[{\"type\":\"surface\",\"colorbar\":{\"outlinewidth\":0,\"ticks\":\"\"},\"colorscale\":[[0.0,\"#0d0887\"],[0.1111111111111111,\"#46039f\"],[0.2222222222222222,\"#7201a8\"],[0.3333333333333333,\"#9c179e\"],[0.4444444444444444,\"#bd3786\"],[0.5555555555555556,\"#d8576b\"],[0.6666666666666666,\"#ed7953\"],[0.7777777777777778,\"#fb9f3a\"],[0.8888888888888888,\"#fdca26\"],[1.0,\"#f0f921\"]]}],\"mesh3d\":[{\"type\":\"mesh3d\",\"colorbar\":{\"outlinewidth\":0,\"ticks\":\"\"}}],\"scatter\":[{\"fillpattern\":{\"fillmode\":\"overlay\",\"size\":10,\"solidity\":0.2},\"type\":\"scatter\"}],\"parcoords\":[{\"type\":\"parcoords\",\"line\":{\"colorbar\":{\"outlinewidth\":0,\"ticks\":\"\"}}}],\"scatterpolargl\":[{\"type\":\"scatterpolargl\",\"marker\":{\"colorbar\":{\"outlinewidth\":0,\"ticks\":\"\"}}}],\"bar\":[{\"error_x\":{\"color\":\"#2a3f5f\"},\"error_y\":{\"color\":\"#2a3f5f\"},\"marker\":{\"line\":{\"color\":\"#E5ECF6\",\"width\":0.5},\"pattern\":{\"fillmode\":\"overlay\",\"size\":10,\"solidity\":0.2}},\"type\":\"bar\"}],\"scattergeo\":[{\"type\":\"scattergeo\",\"marker\":{\"colorbar\":{\"outlinewidth\":0,\"ticks\":\"\"}}}],\"scatterpolar\":[{\"type\":\"scatterpolar\",\"marker\":{\"colorbar\":{\"outlinewidth\":0,\"ticks\":\"\"}}}],\"histogram\":[{\"marker\":{\"pattern\":{\"fillmode\":\"overlay\",\"size\":10,\"solidity\":0.2}},\"type\":\"histogram\"}],\"scattergl\":[{\"type\":\"scattergl\",\"marker\":{\"colorbar\":{\"outlinewidth\":0,\"ticks\":\"\"}}}],\"scatter3d\":[{\"type\":\"scatter3d\",\"line\":{\"colorbar\":{\"outlinewidth\":0,\"ticks\":\"\"}},\"marker\":{\"colorbar\":{\"outlinewidth\":0,\"ticks\":\"\"}}}],\"scattermapbox\":[{\"type\":\"scattermapbox\",\"marker\":{\"colorbar\":{\"outlinewidth\":0,\"ticks\":\"\"}}}],\"scatterternary\":[{\"type\":\"scatterternary\",\"marker\":{\"colorbar\":{\"outlinewidth\":0,\"ticks\":\"\"}}}],\"scattercarpet\":[{\"type\":\"scattercarpet\",\"marker\":{\"colorbar\":{\"outlinewidth\":0,\"ticks\":\"\"}}}],\"carpet\":[{\"aaxis\":{\"endlinecolor\":\"#2a3f5f\",\"gridcolor\":\"white\",\"linecolor\":\"white\",\"minorgridcolor\":\"white\",\"startlinecolor\":\"#2a3f5f\"},\"baxis\":{\"endlinecolor\":\"#2a3f5f\",\"gridcolor\":\"white\",\"linecolor\":\"white\",\"minorgridcolor\":\"white\",\"startlinecolor\":\"#2a3f5f\"},\"type\":\"carpet\"}],\"table\":[{\"cells\":{\"fill\":{\"color\":\"#EBF0F8\"},\"line\":{\"color\":\"white\"}},\"header\":{\"fill\":{\"color\":\"#C8D4E3\"},\"line\":{\"color\":\"white\"}},\"type\":\"table\"}],\"barpolar\":[{\"marker\":{\"line\":{\"color\":\"#E5ECF6\",\"width\":0.5},\"pattern\":{\"fillmode\":\"overlay\",\"size\":10,\"solidity\":0.2}},\"type\":\"barpolar\"}],\"pie\":[{\"automargin\":true,\"type\":\"pie\"}]},\"layout\":{\"autotypenumbers\":\"strict\",\"colorway\":[\"#636efa\",\"#EF553B\",\"#00cc96\",\"#ab63fa\",\"#FFA15A\",\"#19d3f3\",\"#FF6692\",\"#B6E880\",\"#FF97FF\",\"#FECB52\"],\"font\":{\"color\":\"#2a3f5f\"},\"hovermode\":\"closest\",\"hoverlabel\":{\"align\":\"left\"},\"paper_bgcolor\":\"white\",\"plot_bgcolor\":\"#E5ECF6\",\"polar\":{\"bgcolor\":\"#E5ECF6\",\"angularaxis\":{\"gridcolor\":\"white\",\"linecolor\":\"white\",\"ticks\":\"\"},\"radialaxis\":{\"gridcolor\":\"white\",\"linecolor\":\"white\",\"ticks\":\"\"}},\"ternary\":{\"bgcolor\":\"#E5ECF6\",\"aaxis\":{\"gridcolor\":\"white\",\"linecolor\":\"white\",\"ticks\":\"\"},\"baxis\":{\"gridcolor\":\"white\",\"linecolor\":\"white\",\"ticks\":\"\"},\"caxis\":{\"gridcolor\":\"white\",\"linecolor\":\"white\",\"ticks\":\"\"}},\"coloraxis\":{\"colorbar\":{\"outlinewidth\":0,\"ticks\":\"\"}},\"colorscale\":{\"sequential\":[[0.0,\"#0d0887\"],[0.1111111111111111,\"#46039f\"],[0.2222222222222222,\"#7201a8\"],[0.3333333333333333,\"#9c179e\"],[0.4444444444444444,\"#bd3786\"],[0.5555555555555556,\"#d8576b\"],[0.6666666666666666,\"#ed7953\"],[0.7777777777777778,\"#fb9f3a\"],[0.8888888888888888,\"#fdca26\"],[1.0,\"#f0f921\"]],\"sequentialminus\":[[0.0,\"#0d0887\"],[0.1111111111111111,\"#46039f\"],[0.2222222222222222,\"#7201a8\"],[0.3333333333333333,\"#9c179e\"],[0.4444444444444444,\"#bd3786\"],[0.5555555555555556,\"#d8576b\"],[0.6666666666666666,\"#ed7953\"],[0.7777777777777778,\"#fb9f3a\"],[0.8888888888888888,\"#fdca26\"],[1.0,\"#f0f921\"]],\"diverging\":[[0,\"#8e0152\"],[0.1,\"#c51b7d\"],[0.2,\"#de77ae\"],[0.3,\"#f1b6da\"],[0.4,\"#fde0ef\"],[0.5,\"#f7f7f7\"],[0.6,\"#e6f5d0\"],[0.7,\"#b8e186\"],[0.8,\"#7fbc41\"],[0.9,\"#4d9221\"],[1,\"#276419\"]]},\"xaxis\":{\"gridcolor\":\"white\",\"linecolor\":\"white\",\"ticks\":\"\",\"title\":{\"standoff\":15},\"zerolinecolor\":\"white\",\"automargin\":true,\"zerolinewidth\":2},\"yaxis\":{\"gridcolor\":\"white\",\"linecolor\":\"white\",\"ticks\":\"\",\"title\":{\"standoff\":15},\"zerolinecolor\":\"white\",\"automargin\":true,\"zerolinewidth\":2},\"scene\":{\"xaxis\":{\"backgroundcolor\":\"#E5ECF6\",\"gridcolor\":\"white\",\"linecolor\":\"white\",\"showbackground\":true,\"ticks\":\"\",\"zerolinecolor\":\"white\",\"gridwidth\":2},\"yaxis\":{\"backgroundcolor\":\"#E5ECF6\",\"gridcolor\":\"white\",\"linecolor\":\"white\",\"showbackground\":true,\"ticks\":\"\",\"zerolinecolor\":\"white\",\"gridwidth\":2},\"zaxis\":{\"backgroundcolor\":\"#E5ECF6\",\"gridcolor\":\"white\",\"linecolor\":\"white\",\"showbackground\":true,\"ticks\":\"\",\"zerolinecolor\":\"white\",\"gridwidth\":2}},\"shapedefaults\":{\"line\":{\"color\":\"#2a3f5f\"}},\"annotationdefaults\":{\"arrowcolor\":\"#2a3f5f\",\"arrowhead\":0,\"arrowwidth\":1},\"geo\":{\"bgcolor\":\"white\",\"landcolor\":\"#E5ECF6\",\"subunitcolor\":\"white\",\"showland\":true,\"showlakes\":true,\"lakecolor\":\"white\"},\"title\":{\"x\":0.05},\"mapbox\":{\"style\":\"light\"}}},\"legend\":{\"tracegroupgap\":0},\"title\":{\"text\":\"Genre Distribution\"}},                        {\"responsive\": true}                    ).then(function(){\n",
       "                            \n",
       "var gd = document.getElementById('8c7bda59-9ae0-4655-a081-2e2bed668ee1');\n",
       "var x = new MutationObserver(function (mutations, observer) {{\n",
       "        var display = window.getComputedStyle(gd).display;\n",
       "        if (!display || display === 'none') {{\n",
       "            console.log([gd, 'removed!']);\n",
       "            Plotly.purge(gd);\n",
       "            observer.disconnect();\n",
       "        }}\n",
       "}});\n",
       "\n",
       "// Listen for the removal of the full notebook cells\n",
       "var notebookContainer = gd.closest('#notebook-container');\n",
       "if (notebookContainer) {{\n",
       "    x.observe(notebookContainer, {childList: true});\n",
       "}}\n",
       "\n",
       "// Listen for the clearing of the current output cell\n",
       "var outputEl = gd.closest('.output');\n",
       "if (outputEl) {{\n",
       "    x.observe(outputEl, {childList: true});\n",
       "}}\n",
       "\n",
       "                        })                };                });            </script>        </div>"
      ]
     },
     "metadata": {},
     "output_type": "display_data"
    }
   ],
   "source": [
    "import plotly.express as px\n",
    "\n",
    "count = genre_counts.reset_index()\n",
    "count.columns = ['Category', 'Value']\n",
    "fig = px.treemap(count, \n",
    "                  path=['Category'], \n",
    "                  values='Value', \n",
    "                  title='Genre Distribution')\n",
    "fig.show()"
   ]
  },
  {
   "cell_type": "markdown",
   "id": "4bb05404-6613-4a5b-a110-20b6008926eb",
   "metadata": {},
   "source": [
    "## Testing"
   ]
  },
  {
   "cell_type": "code",
   "execution_count": 30,
   "id": "a961af36-52cb-42b0-ac94-86d6203748f1",
   "metadata": {},
   "outputs": [
    {
     "data": {
      "text/html": [
       "<div>\n",
       "<style scoped>\n",
       "    .dataframe tbody tr th:only-of-type {\n",
       "        vertical-align: middle;\n",
       "    }\n",
       "\n",
       "    .dataframe tbody tr th {\n",
       "        vertical-align: top;\n",
       "    }\n",
       "\n",
       "    .dataframe thead th {\n",
       "        text-align: right;\n",
       "    }\n",
       "</style>\n",
       "<table border=\"1\" class=\"dataframe\">\n",
       "  <thead>\n",
       "    <tr style=\"text-align: right;\">\n",
       "      <th></th>\n",
       "      <th>id</th>\n",
       "      <th>title</th>\n",
       "      <th>genres</th>\n",
       "    </tr>\n",
       "  </thead>\n",
       "  <tbody>\n",
       "    <tr>\n",
       "      <th>3601</th>\n",
       "      <td>24913</td>\n",
       "      <td>April Fool's Day</td>\n",
       "      <td>[Horror, Mystery]</td>\n",
       "    </tr>\n",
       "    <tr>\n",
       "      <th>1224</th>\n",
       "      <td>55779</td>\n",
       "      <td>Final Destination 5</td>\n",
       "      <td>[Horror, Mystery]</td>\n",
       "    </tr>\n",
       "    <tr>\n",
       "      <th>4080</th>\n",
       "      <td>92182</td>\n",
       "      <td>Silent House</td>\n",
       "      <td>[Horror, Mystery]</td>\n",
       "    </tr>\n",
       "    <tr>\n",
       "      <th>3189</th>\n",
       "      <td>293670</td>\n",
       "      <td>The Wailing</td>\n",
       "      <td>[Horror, Mystery]</td>\n",
       "    </tr>\n",
       "    <tr>\n",
       "      <th>2673</th>\n",
       "      <td>14435</td>\n",
       "      <td>My Bloody Valentine</td>\n",
       "      <td>[Mystery, Horror]</td>\n",
       "    </tr>\n",
       "    <tr>\n",
       "      <th>1219</th>\n",
       "      <td>41446</td>\n",
       "      <td>Scream 4</td>\n",
       "      <td>[Horror, Mystery]</td>\n",
       "    </tr>\n",
       "    <tr>\n",
       "      <th>1961</th>\n",
       "      <td>4233</td>\n",
       "      <td>Scream 2</td>\n",
       "      <td>[Horror, Mystery]</td>\n",
       "    </tr>\n",
       "    <tr>\n",
       "      <th>2928</th>\n",
       "      <td>22804</td>\n",
       "      <td>Saw VI</td>\n",
       "      <td>[Horror, Mystery]</td>\n",
       "    </tr>\n",
       "    <tr>\n",
       "      <th>1839</th>\n",
       "      <td>9286</td>\n",
       "      <td>Final Destination 3</td>\n",
       "      <td>[Horror, Mystery]</td>\n",
       "    </tr>\n",
       "    <tr>\n",
       "      <th>4577</th>\n",
       "      <td>23827</td>\n",
       "      <td>Paranormal Activity</td>\n",
       "      <td>[Horror, Mystery]</td>\n",
       "    </tr>\n",
       "  </tbody>\n",
       "</table>\n",
       "</div>"
      ],
      "text/plain": [
       "          id                title             genres\n",
       "3601   24913     April Fool's Day  [Horror, Mystery]\n",
       "1224   55779  Final Destination 5  [Horror, Mystery]\n",
       "4080   92182         Silent House  [Horror, Mystery]\n",
       "3189  293670          The Wailing  [Horror, Mystery]\n",
       "2673   14435  My Bloody Valentine  [Mystery, Horror]\n",
       "1219   41446             Scream 4  [Horror, Mystery]\n",
       "1961    4233             Scream 2  [Horror, Mystery]\n",
       "2928   22804               Saw VI  [Horror, Mystery]\n",
       "1839    9286  Final Destination 3  [Horror, Mystery]\n",
       "4577   23827  Paranormal Activity  [Horror, Mystery]"
      ]
     },
     "execution_count": 30,
     "metadata": {},
     "output_type": "execute_result"
    }
   ],
   "source": [
    "# user likes horror and mystery\n",
    "user_genre_vector = np.array([0, 0, 0, 0, 0, 0, 0, 0, 0, 0, 0, 1, 0, 1, 0, 0, 0, 0, 0, 0])\n",
    "\n",
    "movie_genre_vectors = genres_one_hot.values\n",
    "\n",
    "# Compute similarity with each movie genre vector\n",
    "similarity_scores = cosine_similarity([user_genre_vector], movie_genre_vectors)\n",
    "\n",
    "# Sort movies by similarity score\n",
    "recommended_movie_indices = similarity_scores[0].argsort()[::-1]\n",
    "\n",
    "top_movies = df.iloc[recommended_movie_indices[:10], :]\n",
    "top_movies"
   ]
  },
  {
   "cell_type": "markdown",
   "id": "ea52e659-0ef3-46fb-a759-ac23e7f095bf",
   "metadata": {},
   "source": [
    "### Gradio App"
   ]
  },
  {
   "cell_type": "code",
   "execution_count": 31,
   "id": "25f7a8fd-1cf9-4259-a118-83ae59d888ae",
   "metadata": {},
   "outputs": [
    {
     "name": "stdout",
     "output_type": "stream",
     "text": [
      "* Running on local URL:  http://127.0.0.1:7860\n",
      "\n",
      "To create a public link, set `share=True` in `launch()`.\n"
     ]
    },
    {
     "data": {
      "text/html": [
       "<div><iframe src=\"http://127.0.0.1:7860/\" width=\"100%\" height=\"500\" allow=\"autoplay; camera; microphone; clipboard-read; clipboard-write;\" frameborder=\"0\" allowfullscreen></iframe></div>"
      ],
      "text/plain": [
       "<IPython.core.display.HTML object>"
      ]
     },
     "metadata": {},
     "output_type": "display_data"
    },
    {
     "data": {
      "text/plain": []
     },
     "execution_count": 31,
     "metadata": {},
     "output_type": "execute_result"
    }
   ],
   "source": [
    "import gradio as gr\n",
    "import numpy as np\n",
    "\n",
    "# List of all genres\n",
    "genres = genres_one_hot.columns.tolist()\n",
    "movie_genre_vectors = genres_one_hot.values\n",
    "\n",
    "def generate_user_vector(selected_genres):\n",
    "    # Initialize the genre vector with zeros (20 genres)\n",
    "    genre_vector = [0] * len(genres)\n",
    "    \n",
    "    # Set the selected genres to 1\n",
    "    for genre in selected_genres:\n",
    "        genre_index = genres.index(genre) \n",
    "        genre_vector[genre_index] = 1\n",
    "    \n",
    "    return genre_vector\n",
    "\n",
    "# Gradio Interface\n",
    "def get_recommendations(selected_genres):\n",
    "    user_genre_vector = generate_user_vector(selected_genres)\n",
    "    # Compute similarity with each movie genre vector\n",
    "    similarity_scores = cosine_similarity([user_genre_vector], movie_genre_vectors)\n",
    "\n",
    "    # Sort movies by similarity score\n",
    "    recommended_movie_indices = similarity_scores[0].argsort()[::-1]\n",
    "    \n",
    "    top_10_movies = df.iloc[recommended_movie_indices[:10], :]\n",
    "    \n",
    "    return top_10_movies\n",
    "\n",
    "# Create the Gradio UI\n",
    "demo = gr.Interface(\n",
    "    fn=get_recommendations,\n",
    "    inputs=gr.CheckboxGroup(choices=genres, label=\"Select your preferred genres\"),\n",
    "    outputs=gr.Dataframe(),\n",
    "    title=\"Movie Genre Preferences\",\n",
    "    description=\"Select your favorite genres, and we'll recommend you some movies\"\n",
    ")\n",
    "\n",
    "# Launch the Gradio app\n",
    "demo.launch()"
   ]
  },
  {
   "cell_type": "code",
   "execution_count": null,
   "id": "a0d9a728-f853-4b82-b758-80dc5062ce16",
   "metadata": {},
   "outputs": [],
   "source": []
  }
 ],
 "metadata": {
  "kernelspec": {
   "display_name": "Python 3 (ipykernel)",
   "language": "python",
   "name": "python3"
  },
  "language_info": {
   "codemirror_mode": {
    "name": "ipython",
    "version": 3
   },
   "file_extension": ".py",
   "mimetype": "text/x-python",
   "name": "python",
   "nbconvert_exporter": "python",
   "pygments_lexer": "ipython3",
   "version": "3.11.7"
  }
 },
 "nbformat": 4,
 "nbformat_minor": 5
}
